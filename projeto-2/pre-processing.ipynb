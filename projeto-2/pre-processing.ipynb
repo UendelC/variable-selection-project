{
 "cells": [
  {
   "cell_type": "markdown",
   "source": [
    "Importando as bibliotecas"
   ],
   "metadata": {}
  },
  {
   "cell_type": "code",
   "execution_count": null,
   "source": [
    "import numpy as np\n",
    "import pandas as pd"
   ],
   "outputs": [],
   "metadata": {}
  },
  {
   "cell_type": "markdown",
   "source": [
    "Carregando base de dados"
   ],
   "metadata": {}
  },
  {
   "cell_type": "code",
   "execution_count": null,
   "source": [
    "# Treinamento com a variável alvo\n",
    "transact_train_database = pd.read_csv('data/transact_train.txt', sep='|')\n",
    "\n",
    "# Teste sem a variável alvo\n",
    "transact_test_database = pd.read_csv('data/transact_class.txt', sep = '|')\n",
    "\n",
    "# Variável alvo do teste\n",
    "transact_original_database = pd.read_csv('data/realclass_t1.txt', sep = '|')"
   ],
   "outputs": [],
   "metadata": {}
  },
  {
   "cell_type": "markdown",
   "source": [
    "Alterando a granularidade"
   ],
   "metadata": {}
  },
  {
   "cell_type": "code",
   "execution_count": null,
   "source": [
    "transact_train_database = transact_train_database.drop_duplicates(subset=['sessionNo'], keep='last')\n",
    "transact_train_database_y = transact_train_database['order']\n",
    "transact_train_database_y = transact_train_database_y.replace(to_replace=['y', 'n'], value=[1, 0])\n",
    "transact_train_database_x = transact_train_database.drop(['order'], axis=1)\n",
    "\n",
    "transact_test_database_x = transact_test_database.drop_duplicates(subset=['sessionNo'], keep='last')"
   ],
   "outputs": [],
   "metadata": {}
  },
  {
   "cell_type": "markdown",
   "source": [
    "Tratando os valores ausentes"
   ],
   "metadata": {}
  },
  {
   "cell_type": "markdown",
   "source": [
    "Lista de variáveis numéricas"
   ],
   "metadata": {}
  },
  {
   "cell_type": "code",
   "execution_count": null,
   "source": [
    "list_numeric_variables = [\n",
    "  'cMinPrice',\n",
    "  'cMaxPrice',\n",
    "  'cSumPrice',\n",
    "  'bMinPrice',\n",
    "  'bMaxPrice',\n",
    "  'bSumPrice',\n",
    "  'bStep',\n",
    "  'maxVal',\n",
    "  'customerScore',\n",
    "  'accountLifetime',\n",
    "  'payments',\n",
    "  'age',\n",
    "  'address',\n",
    "  'lastOrder',\n",
    "]"
   ],
   "outputs": [],
   "metadata": {}
  },
  {
   "cell_type": "markdown",
   "source": [
    "Lista de variáveis string"
   ],
   "metadata": {}
  },
  {
   "cell_type": "code",
   "execution_count": null,
   "source": [
    "list_string_variables = [\n",
    "  'availability',\n",
    "  'onlineStatus',\n",
    "]"
   ],
   "outputs": [],
   "metadata": {}
  },
  {
   "cell_type": "code",
   "execution_count": null,
   "source": [
    "list_customer_variables = [\n",
    "  'maxVal',\n",
    "  'customerScore',\n",
    "  'accountLifetime',\n",
    "  'payments',\n",
    "  'age',\n",
    "  'address',\n",
    "  'lastOrder',\n",
    "]"
   ],
   "outputs": [],
   "metadata": {}
  },
  {
   "cell_type": "code",
   "execution_count": null,
   "source": [
    "def replaceValueMissing(df, columns, value):\n",
    "  removed = df[columns].replace('?', value)\n",
    "  for column in columns:\n",
    "    df[column] = removed[column]\n",
    "\n",
    "  return df"
   ],
   "outputs": [],
   "metadata": {}
  },
  {
   "cell_type": "code",
   "execution_count": null,
   "source": [
    "def convertFloat(df, columns):\n",
    "  for column in columns:\n",
    "    df[column] = df[column].astype(float)\n",
    "\n",
    "  return df"
   ],
   "outputs": [],
   "metadata": {}
  },
  {
   "cell_type": "code",
   "execution_count": null,
   "source": [
    "def replaceMissingByMean(df, columns):\n",
    "  for column in columns:\n",
    "    mean = df[column].mean()\n",
    "    df[column].fillna(mean, inplace=True)\n",
    "\n",
    "  return df"
   ],
   "outputs": [],
   "metadata": {}
  },
  {
   "cell_type": "code",
   "execution_count": null,
   "source": [
    "def replaceMissingByMode(df, columns):\n",
    "  for column in columns:\n",
    "    mode = df[column].mode()\n",
    "    df[column].fillna(mode[0], inplace=True)\n",
    "\n",
    "  return df"
   ],
   "outputs": [],
   "metadata": {}
  },
  {
   "cell_type": "code",
   "execution_count": null,
   "source": [
    "def replaceMissingByMedian(df, columns):\n",
    "  for column in columns:\n",
    "    median = df[column].median()\n",
    "    df[column].fillna(median, inplace=True)\n",
    "\n",
    "  return df"
   ],
   "outputs": [],
   "metadata": {}
  },
  {
   "cell_type": "code",
   "execution_count": null,
   "source": [
    "def replaceMissingByFixedValue(df, columns, value):\n",
    "  for column in columns:\n",
    "    df[column].fillna(value, inplace=True)\n",
    "\n",
    "  return df"
   ],
   "outputs": [],
   "metadata": {}
  },
  {
   "cell_type": "markdown",
   "source": [
    "Base na granularidade do projeto"
   ],
   "metadata": {}
  },
  {
   "cell_type": "code",
   "execution_count": null,
   "source": [
    "# Substituindo a string ? por np.nan em todas p/ todas as variáveis da base na granularidade do projeto\n",
    "\n",
    "transact_train_database_x = replaceValueMissing(transact_train_database_x.copy(), list_numeric_variables, np.nan)\n",
    "transact_train_database_x = replaceValueMissing(transact_train_database_x.copy(), list_string_variables, np.nan)\n",
    "\n",
    "transact_test_database_x = replaceValueMissing(transact_test_database_x.copy(), list_numeric_variables, np.nan)\n",
    "transact_test_database_x = replaceValueMissing(transact_test_database_x.copy(), list_string_variables, np.nan)\n",
    "\n",
    "transact_train_database_x = convertFloat(transact_train_database_x, list_numeric_variables)\n",
    "transact_test_database_x = convertFloat(transact_test_database_x, list_numeric_variables)\n",
    "\n",
    "# # Substituindo os missing values das variáveis numéricas pela média\n",
    "# transact_train_database_x = replaceMissingByMean(transact_train_database_x, list_numeric_variables)\n",
    "# transact_test_database_x = replaceMissingByMean(transact_test_database_x, list_numeric_variables)\n",
    "\n",
    "# transact_train_database_x = replaceValueMissing(transact_train_database_x, list_customer_variables, np.nan)\n",
    "# transact_test_database_x = replaceValueMissing(transact_test_database_x, list_customer_variables, np.nan)\n",
    "\n",
    "# Substituindo os missing values das variáveis String por um valor fixo\n",
    "transact_train_database_x = replaceMissingByFixedValue(transact_train_database_x, list_string_variables, 'ausente')\n",
    "transact_test_database_x = replaceMissingByFixedValue(transact_test_database_x, list_string_variables, 'ausente')"
   ],
   "outputs": [],
   "metadata": {}
  },
  {
   "cell_type": "code",
   "execution_count": null,
   "source": [
    "transact_train_database_x.head(10)"
   ],
   "outputs": [],
   "metadata": {}
  },
  {
   "cell_type": "code",
   "execution_count": null,
   "source": [
    "transact_train_X_by_mode = replaceMissingByMode(transact_train_database_x.copy(), list_numeric_variables)\n",
    "transact_test_X_by_mode = replaceMissingByMode(transact_test_database_x.copy(), list_numeric_variables)\n",
    "\n",
    "transact_train_X_by_mode = replaceValueMissing(transact_train_X_by_mode, list_customer_variables, np.nan)\n",
    "transact_test_X_by_mode = replaceValueMissing(transact_test_X_by_mode, list_customer_variables, np.nan)\n",
    "\n",
    "transact_train_X_by_mode.to_csv('transact_train_X_by_mode.csv', index=False)\n",
    "transact_test_X_by_mode.to_csv('transact_test_X_by_mode.csv', index=False)"
   ],
   "outputs": [],
   "metadata": {}
  },
  {
   "cell_type": "code",
   "execution_count": null,
   "source": [
    "transact_train_X_by_mode.head()"
   ],
   "outputs": [],
   "metadata": {}
  },
  {
   "cell_type": "code",
   "execution_count": null,
   "source": [
    "# Atribuindo valor zero para as variáveis comportamentais que não possuem valor de customerNo\n",
    "\n",
    "rows_without_customerNo = transact_train_database_x['customerNo'] == '?'\n",
    "transact_train_database_x.loc[rows_without_customerNo, 'maxVal'] = 0\n",
    "transact_train_database_x.loc[rows_without_customerNo, 'customerScore'] = 0\n",
    "transact_train_database_x.loc[rows_without_customerNo, 'accountLifetime'] = 0\n",
    "transact_train_database_x.loc[rows_without_customerNo, 'payments'] = 0\n",
    "transact_train_database_x.loc[rows_without_customerNo, 'age'] = 0\n",
    "transact_train_database_x.loc[rows_without_customerNo, 'address'] = 0\n",
    "transact_train_database_x.loc[rows_without_customerNo, 'lastOrder'] = 0\n",
    "\n",
    "# Teste\n",
    "rows_test_without_customerNo = transact_test_database_x['customerNo'] == '?'\n",
    "transact_test_database_x.loc[rows_test_without_customerNo, 'maxVal'] = 0\n",
    "transact_test_database_x.loc[rows_test_without_customerNo, 'customerScore'] = 0\n",
    "transact_test_database_x.loc[rows_test_without_customerNo, 'accountLifetime'] = 0\n",
    "transact_test_database_x.loc[rows_test_without_customerNo, 'payments'] = 0\n",
    "transact_test_database_x.loc[rows_test_without_customerNo, 'age'] = 0\n",
    "transact_test_database_x.loc[rows_test_without_customerNo, 'address'] = 0\n",
    "transact_test_database_x.loc[rows_test_without_customerNo, 'lastOrder'] = 0"
   ],
   "outputs": [],
   "metadata": {}
  },
  {
   "cell_type": "code",
   "execution_count": null,
   "source": [
    "# Substituindo a string ? por np.nan em todas p/ todas as variáveis da base a base original\n",
    "transact_test_database = replaceValueMissing(transact_test_database.copy(), list_numeric_variables, np.nan)\n",
    "transact_test_database = replaceValueMissing(transact_test_database.copy(), list_string_variables, np.nan)\n",
    "transact_train_database = replaceValueMissing(transact_train_database.copy(), list_numeric_variables, np.nan)\n",
    "transact_train_database = replaceValueMissing(transact_train_database.copy(), list_string_variables, np.nan)\n",
    "\n",
    "transact_train_database = convertFloat(transact_train_database, list_numeric_variables)\n",
    "transact_test_database = convertFloat(transact_test_database, list_numeric_variables)"
   ],
   "outputs": [],
   "metadata": {}
  },
  {
   "cell_type": "code",
   "execution_count": null,
   "source": [
    "transact_train_database_x.describe(include='all')"
   ],
   "outputs": [],
   "metadata": {}
  },
  {
   "cell_type": "code",
   "execution_count": null,
   "source": [
    "transact_test_database_x.describe(include='all')"
   ],
   "outputs": [],
   "metadata": {}
  },
  {
   "cell_type": "code",
   "execution_count": null,
   "source": [
    "transact_train_database.head()"
   ],
   "outputs": [],
   "metadata": {}
  },
  {
   "cell_type": "code",
   "execution_count": null,
   "source": [
    "transact_test_database.head()"
   ],
   "outputs": [],
   "metadata": {}
  },
  {
   "cell_type": "markdown",
   "source": [
    "Criando novas variáveis"
   ],
   "metadata": {}
  },
  {
   "cell_type": "code",
   "execution_count": null,
   "source": [
    "transact_train_database_x = transact_train_database_x.set_index('sessionNo')\n",
    "transact_test_database_x = transact_test_database_x.set_index('sessionNo')"
   ],
   "outputs": [],
   "metadata": {}
  },
  {
   "cell_type": "code",
   "execution_count": null,
   "source": [
    "# Criando variável bSumPrice_cSumPrice\n",
    "transact_test_database_x['bSumPrice_cSumPrice'] = transact_test_database_x['bSumPrice'] / transact_test_database_x['cSumPrice']\n",
    "transact_train_database_x['bSumPrice_cSumPrice'] = transact_train_database_x['bSumPrice'] / transact_train_database_x['cSumPrice']"
   ],
   "outputs": [],
   "metadata": {}
  },
  {
   "cell_type": "markdown",
   "source": [
    "# --------- Definindo lastOrder_accountLifetime ---------\n"
   ],
   "metadata": {}
  },
  {
   "cell_type": "code",
   "execution_count": null,
   "source": [
    "# Criando variável lastOrder_accountLifetime\n",
    "transact_test_database_x['lastOrder_accountLifetime'] = transact_test_database_x['lastOrder'] / transact_test_database_x['accountLifetime']\n",
    "transact_train_database_x['lastOrder_accountLifetime'] = transact_train_database_x['lastOrder'] / transact_train_database_x['accountLifetime']\n"
   ],
   "outputs": [],
   "metadata": {}
  },
  {
   "cell_type": "code",
   "execution_count": null,
   "source": [
    "# Criando variável bCount_cCount\n",
    "transact_test_database_x['bCount_cCount'] = transact_test_database_x['bCount'] / transact_test_database_x['cCount']\n",
    "transact_train_database_x['bCount_cCount'] = transact_train_database_x['bCount'] / transact_train_database_x['cCount']\n"
   ],
   "outputs": [],
   "metadata": {}
  },
  {
   "cell_type": "code",
   "execution_count": null,
   "source": [
    "transact_test_database_x.head()"
   ],
   "outputs": [],
   "metadata": {}
  },
  {
   "cell_type": "code",
   "execution_count": null,
   "source": [
    "transact_train_database_x.head()"
   ],
   "outputs": [],
   "metadata": {}
  },
  {
   "cell_type": "markdown",
   "source": [
    "# Transformação dos Dados"
   ],
   "metadata": {}
  },
  {
   "cell_type": "code",
   "execution_count": null,
   "source": [
    "#  Remove variáveis contendo ids\n",
    "transact_train_database_x = transact_train_database_x.drop('customerNo', axis=1)\n",
    "transact_test_database_x = transact_test_database_x.drop('customerNo', axis=1)"
   ],
   "outputs": [],
   "metadata": {}
  },
  {
   "cell_type": "code",
   "execution_count": null,
   "source": [
    "# Criação de variáveis dummies\n",
    "transact_train_database_x = pd.get_dummies(transact_train_database_x, prefix='_')\n",
    "transact_test_database_x = pd.get_dummies(transact_test_database_x, prefix='_')"
   ],
   "outputs": [],
   "metadata": {}
  },
  {
   "cell_type": "code",
   "execution_count": null,
   "source": [
    "assert(transact_train_database_x.shape[1] == transact_test_database_x.shape[1]), 'Número de variáveis diferente'"
   ],
   "outputs": [],
   "metadata": {}
  },
  {
   "cell_type": "code",
   "execution_count": null,
   "source": [
    "variables_transact_train_database_x = list(transact_train_database_x.columns)\n",
    "variables_transact_test_database_x = list(transact_test_database_x.columns)\n",
    "\n",
    "in_train_not_test = [i for i in variables_transact_train_database_x if i not in variables_transact_test_database_x]\n",
    "in_test_not_train = [i for i in variables_transact_test_database_x if i not in variables_transact_train_database_x]\n",
    "\n",
    "if len(in_train_not_test) > 0:\n",
    "    print('Variáveis que tão no treinamneto e não no teste')\n",
    "    print(in_train_not_test)\n",
    "else:\n",
    "    print('Todas as variáveis do treinamento estão no teste')\n",
    "\n",
    "if len(in_test_not_train) > 0:\n",
    "    print('Variáveis que tão no teste e não no treinamento')\n",
    "    print(in_test_not_train)\n",
    "else:\n",
    "    print('Todas as variáveis do teste estão no treinamento')"
   ],
   "outputs": [],
   "metadata": {}
  },
  {
   "cell_type": "code",
   "execution_count": null,
   "source": [
    "transact_train_database_x['__mainly not determinable'] = transact_train_database_x['__mainly not determinable'] + transact_train_database_x['__mainly not determinable']\n",
    "transact_train_database_x = transact_train_database_x.drop('__mainly not determinable', axis=1)"
   ],
   "outputs": [],
   "metadata": {}
  },
  {
   "cell_type": "code",
   "execution_count": null,
   "source": [
    "assert(transact_train_database_x.shape[1] == transact_test_database_x.shape[1]), 'Número de variáveis diferente'"
   ],
   "outputs": [],
   "metadata": {}
  },
  {
   "cell_type": "code",
   "execution_count": null,
   "source": [
    "# Checando se todas as colunas estão como numericas, ou seja, não existem variáveis String (type object)\n",
    "columns_obj = transact_train_database_x.dtypes[transact_train_database_x.dtypes == np.object]\n",
    "\n",
    "assert(len(columns_obj) == 0), 'Existem variáveis do tipo object'\n",
    "\n",
    "columns_obj_test = transact_test_database_x.dtypes[transact_test_database_x.dtypes == np.object]\n",
    "\n",
    "assert(len(columns_obj_test) == 0), 'Existem variáveis do tipo object'\n",
    "\n",
    "print('Passou no teste: as bases não possuem variáveis String!')"
   ],
   "outputs": [],
   "metadata": {}
  },
  {
   "cell_type": "markdown",
   "source": [
    "# Salvando as bases de dados"
   ],
   "metadata": {}
  },
  {
   "cell_type": "code",
   "execution_count": null,
   "source": [
    "transact_train_database_x.to_csv('transact_train_database_x.csv', index=False)\n",
    "transact_test_database_x.to_csv('transact_test_database_x.csv', index=False)\n",
    "transact_train_database_y.to_csv('transact_train_database_y.csv', index=False)"
   ],
   "outputs": [],
   "metadata": {}
  }
 ],
 "metadata": {
  "orig_nbformat": 4,
  "language_info": {
   "name": "python",
   "version": "3.8.5",
   "mimetype": "text/x-python",
   "codemirror_mode": {
    "name": "ipython",
    "version": 3
   },
   "pygments_lexer": "ipython3",
   "nbconvert_exporter": "python",
   "file_extension": ".py"
  },
  "kernelspec": {
   "name": "python3",
   "display_name": "Python 3.8.5 64-bit"
  },
  "interpreter": {
   "hash": "31f2aee4e71d21fbe5cf8b01ff0e069b9275f58929596ceb00d14d90e3e16cd6"
  }
 },
 "nbformat": 4,
 "nbformat_minor": 2
}