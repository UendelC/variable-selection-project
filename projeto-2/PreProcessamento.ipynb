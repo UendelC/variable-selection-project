{
 "cells": [
  {
   "cell_type": "markdown",
   "source": [
    "Importando bibliotecas"
   ],
   "metadata": {}
  },
  {
   "cell_type": "code",
   "execution_count": 2,
   "source": [
    "import numpy as np\n",
    "import pandas as pd"
   ],
   "outputs": [],
   "metadata": {}
  },
  {
   "cell_type": "code",
   "execution_count": 3,
   "source": [
    "TRN_Original = pd.read_csv('data/transact_train.txt', sep='|')"
   ],
   "outputs": [],
   "metadata": {}
  },
  {
   "cell_type": "code",
   "execution_count": 4,
   "source": [
    "TST_Original = pd.read_csv('data/transact_class.txt', sep='|')\n"
   ],
   "outputs": [],
   "metadata": {}
  },
  {
   "cell_type": "code",
   "execution_count": 5,
   "source": [
    "TST_Y_Original = pd.read_csv('data/realclass_t1.txt', sep='|')"
   ],
   "outputs": [],
   "metadata": {}
  },
  {
   "cell_type": "code",
   "execution_count": 6,
   "source": [
    "sessionIDs_TRN = TRN_Original['sessionNo']\n",
    "sessionIDs_TST = TST_Original['sessionNo']\n",
    "\n",
    "#Funçao que retorna um Dicionario onde: Key=Session e Value=Lista com o indice das linhas que sessionID = Key\n",
    "def getSessionWithTransaction(ReplicatedSession):\n",
    "    idx_TransactionSession = {s:[] for s in set(ReplicatedSession)}\n",
    "    for i in range(len(ReplicatedSession)):\n",
    "        s = ReplicatedSession[i]\n",
    "        idx_TransactionSession[s].append(i)\n",
    "    return idx_TransactionSession\n",
    "\n",
    "#Criando um dicionario com sessionID e a lista de transacoes\n",
    "idx_SessionWithTransaction_TRN = getSessionWithTransaction(sessionIDs_TRN)\n",
    "idx_SessionWithTransaction_TST = getSessionWithTransaction(sessionIDs_TST)\n",
    "\n",
    "#Recuperando o indice da linha da última transação por sessionID\n",
    "idx_lastTransactionBySession_TRN =[np.max(x) for x in idx_SessionWithTransaction_TRN.values()]\n",
    "idx_lastTransactionBySession_TST =[np.max(x) for x in idx_SessionWithTransaction_TST.values()]\n",
    "\n",
    "#Criando um DataFrame com a última transação por sessionID\n",
    "TRN_X = TRN_Original.iloc[idx_lastTransactionBySession_TRN,:-1]\n",
    "TRN_Y = TRN_Original.iloc[idx_lastTransactionBySession_TRN,-1]\n",
    "\n",
    "TST_X_tmp = TST_Original.iloc[idx_lastTransactionBySession_TST,:]\n",
    "# É preciso fazer uma cópia para eliminar o SettingWithCopyWarning\n",
    "TST_X = TST_X_tmp.copy()\n",
    "TST_Y = TST_Y_Original['prediction']"
   ],
   "outputs": [],
   "metadata": {}
  },
  {
   "cell_type": "code",
   "execution_count": 7,
   "source": [
    "TRN_Y = TRN_Y.replace({'y': 1, 'n': 0})"
   ],
   "outputs": [],
   "metadata": {}
  },
  {
   "cell_type": "code",
   "execution_count": 8,
   "source": [
    "l_varNumeric = ['cMinPrice', 'cMaxPrice', 'cSumPrice', 'bMinPrice',\n",
    "                'bMaxPrice', 'bSumPrice', 'bStep',\n",
    "                'maxVal', 'customerScore', 'accountLifetime', 'payments',\n",
    "                'age', 'address', 'lastOrder']"
   ],
   "outputs": [],
   "metadata": {}
  },
  {
   "cell_type": "code",
   "execution_count": 9,
   "source": [
    "l_varString = ['availability', 'onlineStatus']\n"
   ],
   "outputs": [],
   "metadata": {}
  },
  {
   "cell_type": "code",
   "execution_count": 10,
   "source": [
    "def replaceValueMissing(vl, listVar, data):\n",
    "    for v in listVar:\n",
    "        rows = data[v]==vl\n",
    "        #idxs = np.array(rows.index[rows])\n",
    "        data.loc[rows, v] = np.NaN"
   ],
   "outputs": [],
   "metadata": {}
  },
  {
   "cell_type": "code",
   "execution_count": 11,
   "source": [
    "def convertFloat(listVar, data):\n",
    "    for v in listVar:\n",
    "        data[v] = data[v].astype(float)"
   ],
   "outputs": [],
   "metadata": {}
  },
  {
   "cell_type": "code",
   "execution_count": 12,
   "source": [
    "def replaceMissingByMean(listVar, data):\n",
    "    for v in listVar:\n",
    "        avg = data[v].mean(axis=0)\n",
    "        data[v].fillna(avg, inplace=True)"
   ],
   "outputs": [],
   "metadata": {}
  },
  {
   "cell_type": "code",
   "execution_count": 13,
   "source": [
    "def replaceMissingByFixedValue(vl, listVar, data):\n",
    "    for v in listVar:        \n",
    "        data[v].fillna(vl, inplace=True)"
   ],
   "outputs": [],
   "metadata": {}
  },
  {
   "cell_type": "code",
   "execution_count": 14,
   "source": [
    "def replaceMissingByMode(listVar, data):\n",
    "    for v in listVar:\n",
    "        mode = data[v].mode()[0]\n",
    "        data[v].fillna(mode, inplace=True)"
   ],
   "outputs": [],
   "metadata": {}
  },
  {
   "cell_type": "code",
   "execution_count": 15,
   "source": [
    "def replaceMissingByMedian(listVar, data):\n",
    "    for v in listVar:\n",
    "        med = data[v].median()\n",
    "        data[v].fillna(med, inplace=True)"
   ],
   "outputs": [],
   "metadata": {}
  },
  {
   "cell_type": "code",
   "execution_count": 16,
   "source": [
    "# Substituindo a sring ? por np.nan em todas p/ todas as variaveis da base na granularidade do projeto\n",
    "replaceValueMissing('?', l_varNumeric, TRN_X)\n",
    "replaceValueMissing('?', l_varString, TRN_X)\n",
    "replaceValueMissing('?', l_varNumeric, TST_X)\n",
    "replaceValueMissing('?', l_varString, TST_X)\n",
    "\n",
    "# Convertendo as variáveis numéricas de object para float (pq int nao aceita calcular media com NaN)\n",
    "convertFloat(l_varNumeric, TRN_X)\n",
    "convertFloat(l_varNumeric, TST_X)\n",
    "\n",
    "# Substituindo os missing values das variáveis numéricas pela média\n",
    "replaceMissingByMedian(l_varNumeric, TRN_X)\n",
    "replaceMissingByMedian(l_varNumeric, TST_X)\n",
    "\n",
    "# Substituindo os missing values das variáveis String por um valor fixo\n",
    "replaceMissingByFixedValue('ausente', l_varString, TRN_X)\n",
    "replaceMissingByFixedValue('ausente', l_varString, TST_X)"
   ],
   "outputs": [],
   "metadata": {}
  },
  {
   "cell_type": "code",
   "execution_count": 17,
   "source": [
    "# Atribuindo valor zero para as variáveis comportamentais que não possuim valor de customerNo\n",
    "\n",
    "# Treinamento\n",
    "rows_TRN = TRN_X['customerNo']==\"?\"\n",
    "TRN_X.loc[rows_TRN, 'maxVal']          = 0\n",
    "TRN_X.loc[rows_TRN, 'customerScore']   = 0\n",
    "TRN_X.loc[rows_TRN, 'accountLifetime'] = 0\n",
    "TRN_X.loc[rows_TRN, 'payments']        = 0\n",
    "TRN_X.loc[rows_TRN, 'age']             = 0\n",
    "TRN_X.loc[rows_TRN, 'address']         = 0\n",
    "TRN_X.loc[rows_TRN, 'lastOrder']       = 0\n",
    "\n",
    "# Teste\n",
    "rows_TST = TST_X['customerNo']==\"?\"\n",
    "TST_X.loc[rows_TST, 'maxVal']          = 0\n",
    "TST_X.loc[rows_TST, 'customerScore']   = 0\n",
    "TST_X.loc[rows_TST, 'accountLifetime'] = 0\n",
    "TST_X.loc[rows_TST, 'payments']        = 0\n",
    "TST_X.loc[rows_TST, 'age']             = 0\n",
    "TST_X.loc[rows_TST, 'address']         = 0\n",
    "TST_X.loc[rows_TST, 'lastOrder']       = 0"
   ],
   "outputs": [],
   "metadata": {}
  },
  {
   "cell_type": "code",
   "execution_count": 18,
   "source": [
    "# Substituindo a sring ? por np.nan em todas p/ todas as variaveis da base a base original\n",
    "replaceValueMissing('?', l_varNumeric, TRN_Original)\n",
    "replaceValueMissing('?', l_varString, TRN_Original)\n",
    "replaceValueMissing('?', l_varNumeric, TST_Original)\n",
    "replaceValueMissing('?', l_varString, TST_Original)\n",
    "\n",
    "# Convertendo as variáveis numéricas de object para float (pq int nao aceita calcular media com NaN)   \n",
    "convertFloat(l_varNumeric, TRN_Original)\n",
    "convertFloat(l_varNumeric, TST_Original)"
   ],
   "outputs": [],
   "metadata": {}
  },
  {
   "cell_type": "code",
   "execution_count": 19,
   "source": [
    "# Definindo o index para poder fazer a atribuição usando o groupby\n",
    "\n",
    "TRN_X = TRN_X.set_index('sessionNo')\n",
    "TST_X = TST_X.set_index('sessionNo')"
   ],
   "outputs": [],
   "metadata": {}
  },
  {
   "cell_type": "code",
   "execution_count": 20,
   "source": [
    "TST_X['bSumPrice_cSumPrice'] = TST_Original.groupby('sessionNo')['bSumPrice'].mean() / \\\n",
    "                               TST_Original.groupby('sessionNo')['cSumPrice'].mean()\n",
    "TRN_X['bSumPrice_cSumPrice'] = TRN_Original.groupby('sessionNo')['bSumPrice'].mean() / \\\n",
    "                               TRN_Original.groupby('sessionNo')['cSumPrice'].mean()\n"
   ],
   "outputs": [],
   "metadata": {}
  },
  {
   "cell_type": "code",
   "execution_count": 21,
   "source": [
    "# --------- Definindo onlineTime ---------\n",
    "def calcOnlineTime(df):\n",
    "    df_grouped_by_sessionno = df.groupby('sessionNo')\n",
    "    rows_it = 0\n",
    "    online_time = []\n",
    "\n",
    "    for index, row in df_grouped_by_sessionno:\n",
    "        rows_len = len(row['duration'])\n",
    "        duration_sum = 0\n",
    "        changed_id = True\n",
    "\n",
    "        for it in range(rows_it, rows_len + rows_it):\n",
    "            if row['onlineStatus'][it] == 'y':\n",
    "                duration_sum += (row['duration'][it] - row['duration'][it - 1]) if not changed_id else row['duration'][\n",
    "                    it]\n",
    "\n",
    "            if changed_id:\n",
    "                changed_id = False\n",
    "\n",
    "            rows_it += 1\n",
    "\n",
    "        online_time.append(duration_sum)\n",
    "\n",
    "    return online_time\n",
    "\n",
    "\n",
    "TST_X['onlineTime'] = calcOnlineTime(TST_Original)\n",
    "TRN_X['onlineTime'] = calcOnlineTime(TRN_Original)"
   ],
   "outputs": [],
   "metadata": {}
  },
  {
   "cell_type": "code",
   "execution_count": 22,
   "source": [
    "# --------- Definindo bCount_cCount ---------\n",
    "TST_X['bCount_cCount'] = TST_Original.groupby('sessionNo')['bCount'].sum() / TST_Original.groupby('sessionNo')[\n",
    "    'cCount'].sum()\n",
    "TRN_X['bCount_cCount'] = TRN_Original.groupby('sessionNo')['bCount'].sum() / TRN_Original.groupby('sessionNo')[\n",
    "    'cCount'].sum()"
   ],
   "outputs": [],
   "metadata": {}
  },
  {
   "cell_type": "code",
   "execution_count": 23,
   "source": [
    "# --------- Definindo lastOrder_accountLifetime ---------\n",
    "TST_X['lastOrder_accountLifetime'] = TST_Original.groupby('sessionNo')['lastOrder'].max() / \\\n",
    "                                     TST_Original.groupby('sessionNo')['accountLifetime'].max()\n",
    "TRN_X['lastOrder_accountLifetime'] = TRN_Original.groupby('sessionNo')['lastOrder'].max() / \\\n",
    "                                     TRN_Original.groupby('sessionNo')['accountLifetime'].max()\n"
   ],
   "outputs": [],
   "metadata": {}
  },
  {
   "cell_type": "code",
   "execution_count": 24,
   "source": [
    "# ---------- Definindo payments_accountLifetime ---------\n",
    "TST_X['payments_accountLifetime'] = TST_Original.groupby('sessionNo')['payments'].sum() / \\\n",
    "  TST_Original.groupby('sessionNo')['accountLifetime'].max()\n",
    "\n",
    "TRN_X['payments_accountLifetime'] = TRN_Original.groupby('sessionNo')['payments'].sum() / \\\n",
    "  TRN_Original.groupby('sessionNo')['accountLifetime'].max()"
   ],
   "outputs": [],
   "metadata": {}
  },
  {
   "cell_type": "code",
   "execution_count": 25,
   "source": [
    "TRN_X = TRN_X.drop(['customerNo'], axis = 1)\n",
    "\n",
    "TST_X = TST_X.drop(['customerNo'], axis = 1)"
   ],
   "outputs": [],
   "metadata": {}
  },
  {
   "cell_type": "code",
   "execution_count": 26,
   "source": [
    "# Criação das variáveis Dummies\n",
    "\n",
    "TRN_X = pd.get_dummies(TRN_X, prefix_sep='_')\n",
    "\n",
    "TST_X = pd.get_dummies(TST_X, prefix_sep='_')"
   ],
   "outputs": [],
   "metadata": {}
  },
  {
   "cell_type": "code",
   "execution_count": 27,
   "source": [
    "\n",
    "# Checando se os dois conjuntos possuem a mesma quantidade de colunas\n",
    "\n",
    "assert (TRN_X.shape[1] == TST_X.shape[1]), \"Número de colunas diferentes !!!\"\n",
    "\n",
    "print(\"Passou no teste: TRN e TST possuem o mesmo número de colunas!\")"
   ],
   "outputs": [
    {
     "ename": "AssertionError",
     "evalue": "Número de colunas diferentes !!!",
     "output_type": "error",
     "traceback": [
      "\u001B[0;31m---------------------------------------------------------------------------\u001B[0m",
      "\u001B[0;31mAssertionError\u001B[0m                            Traceback (most recent call last)",
      "\u001B[0;32m/tmp/ipykernel_15849/513740058.py\u001B[0m in \u001B[0;36m<module>\u001B[0;34m\u001B[0m\n\u001B[1;32m      1\u001B[0m \u001B[0;31m# Checando se os dois conjuntos possuem a mesma quantidade de colunas\u001B[0m\u001B[0;34m\u001B[0m\u001B[0;34m\u001B[0m\u001B[0;34m\u001B[0m\u001B[0m\n\u001B[1;32m      2\u001B[0m \u001B[0;34m\u001B[0m\u001B[0m\n\u001B[0;32m----> 3\u001B[0;31m \u001B[0;32massert\u001B[0m \u001B[0;34m(\u001B[0m\u001B[0mTRN_X\u001B[0m\u001B[0;34m.\u001B[0m\u001B[0mshape\u001B[0m\u001B[0;34m[\u001B[0m\u001B[0;36m1\u001B[0m\u001B[0;34m]\u001B[0m \u001B[0;34m==\u001B[0m \u001B[0mTST_X\u001B[0m\u001B[0;34m.\u001B[0m\u001B[0mshape\u001B[0m\u001B[0;34m[\u001B[0m\u001B[0;36m1\u001B[0m\u001B[0;34m]\u001B[0m\u001B[0;34m)\u001B[0m\u001B[0;34m,\u001B[0m \u001B[0;34m\"Número de colunas diferentes !!!\"\u001B[0m\u001B[0;34m\u001B[0m\u001B[0;34m\u001B[0m\u001B[0m\n\u001B[0m\u001B[1;32m      4\u001B[0m \u001B[0;34m\u001B[0m\u001B[0m\n\u001B[1;32m      5\u001B[0m \u001B[0mprint\u001B[0m\u001B[0;34m(\u001B[0m\u001B[0;34m\"Passou no teste: TRN e TST possuem o mesmo número de colunas!\"\u001B[0m\u001B[0;34m)\u001B[0m\u001B[0;34m\u001B[0m\u001B[0;34m\u001B[0m\u001B[0m\n",
      "\u001B[0;31mAssertionError\u001B[0m: Número de colunas diferentes !!!"
     ]
    }
   ],
   "metadata": {}
  },
  {
   "cell_type": "code",
   "execution_count": 28,
   "source": [
    "var_TRN = list(TRN_X.columns)\n",
    "var_TST = list(TST_X.columns)\n",
    "\n",
    "In_TRN_Not_TST = np.setdiff1d(var_TRN, var_TST)\n",
    "In_TST_Not_TRN = np.setdiff1d(var_TST, var_TRN)\n",
    "\n",
    "if len(In_TRN_Not_TST)>0:\n",
    "    print('Variáveis que estão apenas no Treinamento:\\n')\n",
    "    print(In_TRN_Not_TST)\n",
    "else:\n",
    "    print('Todas as variáveis do Treinamento estão no Teste!')\n",
    "    \n",
    "if len(In_TST_Not_TRN)>0:\n",
    "    print('\\nVariáveis que estão apenas no Teste:\\n')\n",
    "    print(In_TRN_Not_TST)\n",
    "else:\n",
    "    print('\\nTodas as variáveis do Teste estão no Treinamento!')"
   ],
   "outputs": [
    {
     "name": "stdout",
     "output_type": "stream",
     "text": [
      "Variáveis que estão apenas no Treinamento:\n",
      "\n",
      "['availability_mainly not determinable']\n",
      "\n",
      "Todas as variáveis do Teste estão no Treinamento!\n"
     ]
    }
   ],
   "metadata": {}
  },
  {
   "cell_type": "code",
   "execution_count": 29,
   "source": [
    "TRN_X['availability_completely not determinable'] = TRN_X['availability_completely not determinable'] + TRN_X['availability_mainly not determinable']\n",
    "\n",
    "TRN_X = TRN_X.drop(['availability_mainly not determinable'], axis = 1)\n"
   ],
   "outputs": [],
   "metadata": {}
  },
  {
   "cell_type": "code",
   "execution_count": 30,
   "source": [
    "# Checando novamente se os dois conjuntos possuem a mesma quantidade de colunas\n",
    "\n",
    "assert (TRN_X.shape[1] == TST_X.shape[1]), \"Número de colunas diferentes !!!\"\n",
    "\n",
    "print(\"Passou no teste: TRN e TST possuem o mesmo número de colunas!\")\n"
   ],
   "outputs": [
    {
     "name": "stdout",
     "output_type": "stream",
     "text": [
      "Passou no teste: TRN e TST possuem o mesmo número de colunas!\n"
     ]
    }
   ],
   "metadata": {}
  },
  {
   "cell_type": "code",
   "execution_count": 31,
   "source": [
    "# Checando se todas as colunas estão como numericas, ou seja, não existem variáveis String (type object)\n",
    "\n",
    "TRN_columns_obj = TRN_X.dtypes[TRN_X.dtypes == np.object] #\n",
    "\n",
    "assert (len(TRN_columns_obj) == 0), \"Ainda existem colunas String no Treinamento !!!\"\n",
    "\n",
    "TST_columns_obj = TST_X.dtypes[TST_X.dtypes == np.object] #\n",
    "\n",
    "assert (len(TST_columns_obj) == 0), \"Ainda existem colunas String no Teste !!!\"\n",
    "\n",
    "\n",
    "print(\"Passou no teste: TRN e TST não possuem variáveis String!\")"
   ],
   "outputs": [
    {
     "name": "stdout",
     "output_type": "stream",
     "text": [
      "Passou no teste: TRN e TST não possuem variáveis String!\n"
     ]
    }
   ],
   "metadata": {}
  },
  {
   "cell_type": "code",
   "execution_count": 32,
   "source": [
    "# Normalização das variáveis\n",
    "\n",
    "# São criadas duas funções para auxiliar esse processo\n",
    "\n",
    "#Função que calcula o mínimo e máximo de cada variável\n",
    "def get_Min_Max(X):\n",
    "    '''\n",
    "    Input: \n",
    "        X - Data frame\n",
    "    Output:\n",
    "        result - Um dicionário onde a chave é o nome da coluna de X e o valor é uma tupla (Min, Max)\n",
    "    '''\n",
    "    result = {}\n",
    "    for v in X.columns:\n",
    "        result[v] = (np.min(X[v]), np.max(X[v]))\n",
    "    return result\n",
    "\n",
    "#Função que normaliza os dados entre zero e um usando a fórmula (valor_atual - min) / (max - min)\n",
    "def normalize(X, MinMax):\n",
    "    '''\n",
    "    Input: \n",
    "        X - Data frame\n",
    "        MinMax -  Um dicionário contendo o mínimo e máximo de uma variável. Ele ser um parâmetro permite que seja \n",
    "                   aplicado em conjuntos diferentes\n",
    "    Output:\n",
    "        result - Um Data frame normalizado\n",
    "    '''\n",
    "    result = X.copy()\n",
    "\n",
    "    for v in MinMax:\n",
    "        min_v, max_v = MinMax[v]\n",
    "\n",
    "        div = max_v - min_v\n",
    "\n",
    "        if div == 0:\n",
    "            div = 1\n",
    "\n",
    "        result[v] = (X[v] - min_v) / div\n",
    "\n",
    "        # Correção para aplicação em conjuntos de testes com valores diferentes do conjunto de treinamento\n",
    "\n",
    "        # valores menores que zero são setados para zero\n",
    "        idx_0 = result[v]<0\n",
    "        result.loc[idx_0, v] = 0\n",
    "\n",
    "        # valores maiores que um são setados para um\n",
    "        idx_1 = result[v]>1\n",
    "        result.loc[idx_1, v] = 1\n",
    "\n",
    "    return result"
   ],
   "outputs": [],
   "metadata": {}
  },
  {
   "cell_type": "code",
   "execution_count": 33,
   "source": [
    "# Aplicando as funções para normalizar\n",
    "\n",
    "norm_min_max = get_Min_Max(TRN_X)\n",
    "\n",
    "TRN_X = normalize(TRN_X, norm_min_max)\n",
    "\n",
    "TST_X = normalize(TST_X, norm_min_max)"
   ],
   "outputs": [],
   "metadata": {}
  },
  {
   "cell_type": "code",
   "execution_count": 34,
   "source": [
    "# É informando o limiar de variância - abaixo ou igual a esse limiar a variável será excluída dos dois conjuntos\n",
    "threshold_var = 0\n",
    "\n",
    "# Criando uma lista com as variáveis do conjunto de treinamento que tem variância inferior ou igual ao threshold_var\n",
    "l_var = [x for x in TRN_X.columns if TRN_X[x].var() <= threshold_var]\n",
    "\n",
    "# Eliminando as variáveis constante dos dois conjuntos\n",
    "for v in l_var:\n",
    "    TRN_X = TRN_X.drop([v], axis = 1)\n",
    "    TST_X = TST_X.drop([v], axis = 1)\n",
    "\n",
    "print(f\"Varáveis excluídas: {l_var}\")"
   ],
   "outputs": [
    {
     "name": "stdout",
     "output_type": "stream",
     "text": [
      "Varáveis excluídas: ['lastOrder_accountLifetime', 'payments_accountLifetime']\n"
     ]
    }
   ],
   "metadata": {}
  },
  {
   "cell_type": "code",
   "execution_count": 35,
   "source": [
    "TRN_X.head()"
   ],
   "outputs": [
    {
     "data": {
      "text/plain": "           startHour  startWeekday  duration  cCount  cMinPrice  cMaxPrice  \\\nsessionNo                                                                    \n1            0.26087           0.0  0.001848   0.005   0.009998   0.008570   \n2            0.26087           0.0  0.004378   0.000   0.002498   0.007141   \n3            0.26087           0.0  0.015830   0.055   0.001665   0.004284   \n4            0.26087           0.0  0.001984   0.020   0.000832   0.000713   \n5            0.26087           0.0  0.130493   0.225   0.002165   0.025707   \n\n           cSumPrice    bCount  bMinPrice  bMaxPrice  ...  \\\nsessionNo                                             ...   \n1           0.000518  0.009259   0.008570   0.008570  ...   \n2           0.003101  0.000000   0.002856   0.005713  ...   \n3           0.000950  0.018519   0.001427   0.004284  ...   \n4           0.000172  0.009259   0.000713   0.000713  ...   \n5           0.009450  0.037037   0.002856   0.003979  ...   \n\n           onlineStatus_ausente  onlineStatus_n  onlineStatus_y  \\\nsessionNo                                                         \n1                           0.0             0.0             1.0   \n2                           0.0             0.0             1.0   \n3                           0.0             0.0             1.0   \n4                           0.0             0.0             1.0   \n5                           0.0             0.0             1.0   \n\n           availability_ausente  availability_completely not determinable  \\\nsessionNo                                                                   \n1                           0.0                                       0.0   \n2                           0.0                                       0.0   \n3                           0.0                                       0.0   \n4                           0.0                                       0.0   \n5                           0.0                                       0.0   \n\n           availability_completely not orderable  \\\nsessionNo                                          \n1                                            0.0   \n2                                            0.0   \n3                                            0.0   \n4                                            1.0   \n5                                            0.0   \n\n           availability_completely orderable  \\\nsessionNo                                      \n1                                        1.0   \n2                                        1.0   \n3                                        1.0   \n4                                        0.0   \n5                                        1.0   \n\n           availability_mainly not orderable  availability_mainly orderable  \\\nsessionNo                                                                     \n1                                        0.0                            0.0   \n2                                        0.0                            0.0   \n3                                        0.0                            0.0   \n4                                        0.0                            0.0   \n5                                        0.0                            0.0   \n\n           availability_mixed  \nsessionNo                      \n1                         0.0  \n2                         0.0  \n3                         0.0  \n4                         0.0  \n5                         0.0  \n\n[5 rows x 32 columns]",
      "text/html": "<div>\n<style scoped>\n    .dataframe tbody tr th:only-of-type {\n        vertical-align: middle;\n    }\n\n    .dataframe tbody tr th {\n        vertical-align: top;\n    }\n\n    .dataframe thead th {\n        text-align: right;\n    }\n</style>\n<table border=\"1\" class=\"dataframe\">\n  <thead>\n    <tr style=\"text-align: right;\">\n      <th></th>\n      <th>startHour</th>\n      <th>startWeekday</th>\n      <th>duration</th>\n      <th>cCount</th>\n      <th>cMinPrice</th>\n      <th>cMaxPrice</th>\n      <th>cSumPrice</th>\n      <th>bCount</th>\n      <th>bMinPrice</th>\n      <th>bMaxPrice</th>\n      <th>...</th>\n      <th>onlineStatus_ausente</th>\n      <th>onlineStatus_n</th>\n      <th>onlineStatus_y</th>\n      <th>availability_ausente</th>\n      <th>availability_completely not determinable</th>\n      <th>availability_completely not orderable</th>\n      <th>availability_completely orderable</th>\n      <th>availability_mainly not orderable</th>\n      <th>availability_mainly orderable</th>\n      <th>availability_mixed</th>\n    </tr>\n    <tr>\n      <th>sessionNo</th>\n      <th></th>\n      <th></th>\n      <th></th>\n      <th></th>\n      <th></th>\n      <th></th>\n      <th></th>\n      <th></th>\n      <th></th>\n      <th></th>\n      <th></th>\n      <th></th>\n      <th></th>\n      <th></th>\n      <th></th>\n      <th></th>\n      <th></th>\n      <th></th>\n      <th></th>\n      <th></th>\n      <th></th>\n    </tr>\n  </thead>\n  <tbody>\n    <tr>\n      <th>1</th>\n      <td>0.26087</td>\n      <td>0.0</td>\n      <td>0.001848</td>\n      <td>0.005</td>\n      <td>0.009998</td>\n      <td>0.008570</td>\n      <td>0.000518</td>\n      <td>0.009259</td>\n      <td>0.008570</td>\n      <td>0.008570</td>\n      <td>...</td>\n      <td>0.0</td>\n      <td>0.0</td>\n      <td>1.0</td>\n      <td>0.0</td>\n      <td>0.0</td>\n      <td>0.0</td>\n      <td>1.0</td>\n      <td>0.0</td>\n      <td>0.0</td>\n      <td>0.0</td>\n    </tr>\n    <tr>\n      <th>2</th>\n      <td>0.26087</td>\n      <td>0.0</td>\n      <td>0.004378</td>\n      <td>0.000</td>\n      <td>0.002498</td>\n      <td>0.007141</td>\n      <td>0.003101</td>\n      <td>0.000000</td>\n      <td>0.002856</td>\n      <td>0.005713</td>\n      <td>...</td>\n      <td>0.0</td>\n      <td>0.0</td>\n      <td>1.0</td>\n      <td>0.0</td>\n      <td>0.0</td>\n      <td>0.0</td>\n      <td>1.0</td>\n      <td>0.0</td>\n      <td>0.0</td>\n      <td>0.0</td>\n    </tr>\n    <tr>\n      <th>3</th>\n      <td>0.26087</td>\n      <td>0.0</td>\n      <td>0.015830</td>\n      <td>0.055</td>\n      <td>0.001665</td>\n      <td>0.004284</td>\n      <td>0.000950</td>\n      <td>0.018519</td>\n      <td>0.001427</td>\n      <td>0.004284</td>\n      <td>...</td>\n      <td>0.0</td>\n      <td>0.0</td>\n      <td>1.0</td>\n      <td>0.0</td>\n      <td>0.0</td>\n      <td>0.0</td>\n      <td>1.0</td>\n      <td>0.0</td>\n      <td>0.0</td>\n      <td>0.0</td>\n    </tr>\n    <tr>\n      <th>4</th>\n      <td>0.26087</td>\n      <td>0.0</td>\n      <td>0.001984</td>\n      <td>0.020</td>\n      <td>0.000832</td>\n      <td>0.000713</td>\n      <td>0.000172</td>\n      <td>0.009259</td>\n      <td>0.000713</td>\n      <td>0.000713</td>\n      <td>...</td>\n      <td>0.0</td>\n      <td>0.0</td>\n      <td>1.0</td>\n      <td>0.0</td>\n      <td>0.0</td>\n      <td>1.0</td>\n      <td>0.0</td>\n      <td>0.0</td>\n      <td>0.0</td>\n      <td>0.0</td>\n    </tr>\n    <tr>\n      <th>5</th>\n      <td>0.26087</td>\n      <td>0.0</td>\n      <td>0.130493</td>\n      <td>0.225</td>\n      <td>0.002165</td>\n      <td>0.025707</td>\n      <td>0.009450</td>\n      <td>0.037037</td>\n      <td>0.002856</td>\n      <td>0.003979</td>\n      <td>...</td>\n      <td>0.0</td>\n      <td>0.0</td>\n      <td>1.0</td>\n      <td>0.0</td>\n      <td>0.0</td>\n      <td>0.0</td>\n      <td>1.0</td>\n      <td>0.0</td>\n      <td>0.0</td>\n      <td>0.0</td>\n    </tr>\n  </tbody>\n</table>\n<p>5 rows × 32 columns</p>\n</div>"
     },
     "execution_count": 35,
     "metadata": {},
     "output_type": "execute_result"
    }
   ],
   "metadata": {}
  },
  {
   "cell_type": "code",
   "execution_count": 36,
   "source": [
    "# Variáveis de entrada do treinamento\n",
    "TRN_X.to_csv('TRN_X.csv', index=False)\n",
    "\n",
    "# Variável alvo do treinamento\n",
    "TRN_Y.to_csv('TRN_Y.csv', index=False, header=False)\n",
    "\n",
    "# Variáveis de entrada do teste\n",
    "TST_X.to_csv('TST_X.csv', index=False)\n",
    "\n",
    "# Variável alvo do teste\n",
    "TST_Y.to_csv('TST_Y.csv', index=False, header=False)"
   ],
   "outputs": [],
   "metadata": {}
  }
 ],
 "metadata": {
  "orig_nbformat": 4,
  "language_info": {
   "name": "python",
   "version": "3.8.5",
   "mimetype": "text/x-python",
   "codemirror_mode": {
    "name": "ipython",
    "version": 3
   },
   "pygments_lexer": "ipython3",
   "nbconvert_exporter": "python",
   "file_extension": ".py"
  },
  "kernelspec": {
   "name": "python3",
   "language": "python",
   "display_name": "Python 3 (ipykernel)"
  },
  "interpreter": {
   "hash": "31f2aee4e71d21fbe5cf8b01ff0e069b9275f58929596ceb00d14d90e3e16cd6"
  }
 },
 "nbformat": 4,
 "nbformat_minor": 2
}