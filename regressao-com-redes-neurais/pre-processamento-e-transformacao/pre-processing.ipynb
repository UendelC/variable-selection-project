{
 "cells": [
  {
   "cell_type": "code",
   "metadata": {
    "collapsed": true,
    "pycharm": {
     "name": "#%%\n"
    }
   },
   "source": [
    "import numpy as np\n",
    "import pandas as pd"
   ],
   "execution_count": 85,
   "outputs": []
  },
  {
   "cell_type": "code",
   "execution_count": 86,
   "outputs": [],
   "source": [
    "# Importing data\n",
    "ic_house_pred_train = pd.read_csv('data/ic_house_pred_train.csv')\n",
    "ic_house_pred_test = pd.read_csv('data/ic_house_pred_test.csv')"
   ],
   "metadata": {
    "collapsed": false,
    "pycharm": {
     "name": "#%%\n"
    }
   }
  },
  {
   "cell_type": "code",
   "execution_count": 87,
   "outputs": [],
   "source": [
    "# Separating input and output, and dropping columns\n",
    "\n",
    "y_train = ic_house_pred_train['SalePrice']\n",
    "x_train = ic_house_pred_train.drop(['Id', 'SalePrice'], axis=1)\n",
    "\n",
    "y_test = ic_house_pred_test['SalePrice']\n",
    "x_test = ic_house_pred_test.drop(['Id', 'SalePrice'], axis=1)\n",
    "\n",
    "\n",
    "# ic_house_pred_train = ic_house_pred_train.drop(['Id'], axis=1)\n",
    "# ic_house_pred_test = ic_house_pred_test.drop(['Id'], axis=1)"
   ],
   "metadata": {
    "collapsed": false,
    "pycharm": {
     "name": "#%%\n"
    }
   }
  },
  {
   "cell_type": "code",
   "execution_count": 88,
   "outputs": [
    {
     "data": {
      "text/plain": "     Id  MSSubClass MSZoning  LotFrontage  LotArea Street Alley LotShape  \\\n0   136          20       RL         80.0    10400   Pave   NaN      Reg   \n1  1453         180       RM         35.0     3675   Pave   NaN      Reg   \n2   763          60       FV         72.0     8640   Pave   NaN      Reg   \n3   933          20       RL         84.0    11670   Pave   NaN      IR1   \n4   436          60       RL         43.0    10667   Pave   NaN      IR2   \n\n  LandContour Utilities  ... PoolArea PoolQC  Fence MiscFeature MiscVal  \\\n0         Lvl    AllPub  ...        0    NaN  MnPrv         NaN       0   \n1         Lvl    AllPub  ...        0    NaN    NaN         NaN       0   \n2         Lvl    AllPub  ...        0    NaN    NaN         NaN       0   \n3         Lvl    AllPub  ...        0    NaN    NaN         NaN       0   \n4         Lvl    AllPub  ...        0    NaN    NaN         NaN       0   \n\n  MoSold YrSold  SaleType  SaleCondition  SalePrice  \n0      5   2008        WD         Normal     174000  \n1      5   2006        WD         Normal     145000  \n2      6   2010       Con         Normal     215200  \n3      3   2007        WD         Normal     320000  \n4      4   2009     ConLw         Normal     212000  \n\n[5 rows x 81 columns]",
      "text/html": "<div>\n<style scoped>\n    .dataframe tbody tr th:only-of-type {\n        vertical-align: middle;\n    }\n\n    .dataframe tbody tr th {\n        vertical-align: top;\n    }\n\n    .dataframe thead th {\n        text-align: right;\n    }\n</style>\n<table border=\"1\" class=\"dataframe\">\n  <thead>\n    <tr style=\"text-align: right;\">\n      <th></th>\n      <th>Id</th>\n      <th>MSSubClass</th>\n      <th>MSZoning</th>\n      <th>LotFrontage</th>\n      <th>LotArea</th>\n      <th>Street</th>\n      <th>Alley</th>\n      <th>LotShape</th>\n      <th>LandContour</th>\n      <th>Utilities</th>\n      <th>...</th>\n      <th>PoolArea</th>\n      <th>PoolQC</th>\n      <th>Fence</th>\n      <th>MiscFeature</th>\n      <th>MiscVal</th>\n      <th>MoSold</th>\n      <th>YrSold</th>\n      <th>SaleType</th>\n      <th>SaleCondition</th>\n      <th>SalePrice</th>\n    </tr>\n  </thead>\n  <tbody>\n    <tr>\n      <th>0</th>\n      <td>136</td>\n      <td>20</td>\n      <td>RL</td>\n      <td>80.0</td>\n      <td>10400</td>\n      <td>Pave</td>\n      <td>NaN</td>\n      <td>Reg</td>\n      <td>Lvl</td>\n      <td>AllPub</td>\n      <td>...</td>\n      <td>0</td>\n      <td>NaN</td>\n      <td>MnPrv</td>\n      <td>NaN</td>\n      <td>0</td>\n      <td>5</td>\n      <td>2008</td>\n      <td>WD</td>\n      <td>Normal</td>\n      <td>174000</td>\n    </tr>\n    <tr>\n      <th>1</th>\n      <td>1453</td>\n      <td>180</td>\n      <td>RM</td>\n      <td>35.0</td>\n      <td>3675</td>\n      <td>Pave</td>\n      <td>NaN</td>\n      <td>Reg</td>\n      <td>Lvl</td>\n      <td>AllPub</td>\n      <td>...</td>\n      <td>0</td>\n      <td>NaN</td>\n      <td>NaN</td>\n      <td>NaN</td>\n      <td>0</td>\n      <td>5</td>\n      <td>2006</td>\n      <td>WD</td>\n      <td>Normal</td>\n      <td>145000</td>\n    </tr>\n    <tr>\n      <th>2</th>\n      <td>763</td>\n      <td>60</td>\n      <td>FV</td>\n      <td>72.0</td>\n      <td>8640</td>\n      <td>Pave</td>\n      <td>NaN</td>\n      <td>Reg</td>\n      <td>Lvl</td>\n      <td>AllPub</td>\n      <td>...</td>\n      <td>0</td>\n      <td>NaN</td>\n      <td>NaN</td>\n      <td>NaN</td>\n      <td>0</td>\n      <td>6</td>\n      <td>2010</td>\n      <td>Con</td>\n      <td>Normal</td>\n      <td>215200</td>\n    </tr>\n    <tr>\n      <th>3</th>\n      <td>933</td>\n      <td>20</td>\n      <td>RL</td>\n      <td>84.0</td>\n      <td>11670</td>\n      <td>Pave</td>\n      <td>NaN</td>\n      <td>IR1</td>\n      <td>Lvl</td>\n      <td>AllPub</td>\n      <td>...</td>\n      <td>0</td>\n      <td>NaN</td>\n      <td>NaN</td>\n      <td>NaN</td>\n      <td>0</td>\n      <td>3</td>\n      <td>2007</td>\n      <td>WD</td>\n      <td>Normal</td>\n      <td>320000</td>\n    </tr>\n    <tr>\n      <th>4</th>\n      <td>436</td>\n      <td>60</td>\n      <td>RL</td>\n      <td>43.0</td>\n      <td>10667</td>\n      <td>Pave</td>\n      <td>NaN</td>\n      <td>IR2</td>\n      <td>Lvl</td>\n      <td>AllPub</td>\n      <td>...</td>\n      <td>0</td>\n      <td>NaN</td>\n      <td>NaN</td>\n      <td>NaN</td>\n      <td>0</td>\n      <td>4</td>\n      <td>2009</td>\n      <td>ConLw</td>\n      <td>Normal</td>\n      <td>212000</td>\n    </tr>\n  </tbody>\n</table>\n<p>5 rows × 81 columns</p>\n</div>"
     },
     "execution_count": 88,
     "metadata": {},
     "output_type": "execute_result"
    }
   ],
   "source": [
    "ic_house_pred_train.head(5)"
   ],
   "metadata": {
    "collapsed": false,
    "pycharm": {
     "name": "#%%\n"
    }
   }
  },
  {
   "cell_type": "code",
   "execution_count": 89,
   "outputs": [],
   "source": [
    "numeric_columns = x_train.select_dtypes(include=np.number).columns\n",
    "categoric_columns = [x for x in x_train.columns if x not in numeric_columns]"
   ],
   "metadata": {
    "collapsed": false,
    "pycharm": {
     "name": "#%%\n"
    }
   }
  },
  {
   "cell_type": "code",
   "execution_count": 90,
   "outputs": [
    {
     "name": "stdout",
     "output_type": "stream",
     "text": [
      "Numeric missing values from train database\n",
      "247\n",
      "Numeric missing values from test database\n",
      "101\n",
      "Categoric missing values from train database\n",
      "4612\n",
      "Categoric missing values from test database\n",
      "2005\n"
     ]
    }
   ],
   "source": [
    "# Treating missing values\n",
    "\n",
    "print(\"Numeric missing values from train database\")\n",
    "print(x_train[numeric_columns].isnull().sum().sum())\n",
    "\n",
    "print(\"Numeric missing values from test database\")\n",
    "print(x_test[numeric_columns].isnull().sum().sum())\n",
    "\n",
    "print(\"Categoric missing values from train database\")\n",
    "print(x_train[categoric_columns].isnull().sum().sum())\n",
    "\n",
    "print(\"Categoric missing values from test database\")\n",
    "print(x_test[categoric_columns].isnull().sum().sum())\n",
    "\n",
    "\n",
    "# missing_values_columns_train = ic_house_pred_train.columns[ic_house_pred_train[numeric_columns].isnull().any()]\n",
    "# missing_values_columns_test = ic_house_pred_test.columns[ic_house_pred_test[string_columns].isnull().any()]\n",
    "\n",
    "# print(missing_values_columns_train)\n",
    "# print(missing_values_columns_test)\n",
    "\n",
    "def replaceMissingValuesByMean(var_list, data):\n",
    "    for var in var_list:\n",
    "        avg = data[var].mean(axis=0)\n",
    "        data[var].fillna(avg, inplace=True)\n",
    "\n",
    "\n",
    "def replaceMissingValuesByMode(var_list, data):\n",
    "    for var in var_list:\n",
    "        mode = data[var].mode().iloc[0]\n",
    "        data[var].fillna(mode, inplace=True)\n",
    "\n",
    "\n",
    "# Replacing numeric columns\n",
    "replaceMissingValuesByMean(numeric_columns, x_train)\n",
    "replaceMissingValuesByMean(numeric_columns, x_test)\n",
    "\n",
    "# Replacing categoric columns\n",
    "replaceMissingValuesByMode(categoric_columns, x_train)\n",
    "replaceMissingValuesByMode(categoric_columns, x_test)"
   ],
   "metadata": {
    "collapsed": false,
    "pycharm": {
     "name": "#%%\n"
    }
   }
  },
  {
   "cell_type": "code",
   "execution_count": 91,
   "outputs": [],
   "source": [
    "# Creating dummies variables\n",
    "x_train = pd.get_dummies(x_train, prefix_sep='_')\n",
    "x_test = pd.get_dummies(x_test, prefix_sep='_')"
   ],
   "metadata": {
    "collapsed": false,
    "pycharm": {
     "name": "#%%\n"
    }
   }
  },
  {
   "cell_type": "code",
   "execution_count": 92,
   "outputs": [
    {
     "name": "stdout",
     "output_type": "stream",
     "text": [
      "Number of missing values from the training database\n",
      "0\n",
      "Number of missing values from the test database\n",
      "0\n"
     ]
    }
   ],
   "source": [
    "print(\"Number of missing values from the training database\")\n",
    "print(x_train.isnull().sum().sum())\n",
    "\n",
    "print(\"Number of missing values from the test database\")\n",
    "print(x_test.isnull().sum().sum())"
   ],
   "metadata": {
    "collapsed": false,
    "pycharm": {
     "name": "#%%\n"
    }
   }
  },
  {
   "cell_type": "code",
   "execution_count": 93,
   "outputs": [],
   "source": [
    "# Transforming target variable\n",
    "y_train_log = np.log(y_train)\n",
    "y_test_log = np.log(y_test)"
   ],
   "metadata": {
    "collapsed": false,
    "pycharm": {
     "name": "#%%\n"
    }
   }
  },
  {
   "cell_type": "code",
   "execution_count": 94,
   "outputs": [],
   "source": [
    "# Generating new databases\n",
    "\n",
    "x_train.to_csv('X_TRAIN.csv', index=False)\n",
    "y_train.to_csv('Y_TRAIN.csv', index=False)\n",
    "x_test.to_csv('X_TEST.csv', index=False)\n",
    "y_test.to_csv('Y_TEST.csv', index=False)\n",
    "\n",
    "# Target variable with log\n",
    "y_train_log.to_csv('Y_TRAIN_LOG.csv', index=False)\n",
    "y_test_log.to_csv('Y_TEST_LOG.csv', index=False)\n",
    "\n",
    "\n"
   ],
   "metadata": {
    "collapsed": false,
    "pycharm": {
     "name": "#%%\n"
    }
   }
  }
 ],
 "metadata": {
  "kernelspec": {
   "display_name": "Python 3",
   "language": "python",
   "name": "python3"
  },
  "language_info": {
   "codemirror_mode": {
    "name": "ipython",
    "version": 2
   },
   "file_extension": ".py",
   "mimetype": "text/x-python",
   "name": "python",
   "nbconvert_exporter": "python",
   "pygments_lexer": "ipython2",
   "version": "2.7.6"
  }
 },
 "nbformat": 4,
 "nbformat_minor": 0
}