{
 "cells": [
  {
   "cell_type": "code",
   "metadata": {
    "collapsed": true,
    "pycharm": {
     "name": "#%%\n"
    }
   },
   "source": [
    "import numpy as np\n",
    "import pandas as pd"
   ],
   "execution_count": 6,
   "outputs": []
  },
  {
   "cell_type": "code",
   "execution_count": 87,
   "outputs": [],
   "source": [
    "# Importing data\n",
    "ic_house_pred_train = pd.read_csv('data/ic_house_pred_train.csv')\n",
    "ic_house_pred_test = pd.read_csv('data/ic_house_pred_test.csv')"
   ],
   "metadata": {
    "collapsed": false,
    "pycharm": {
     "name": "#%%\n"
    }
   }
  },
  {
   "cell_type": "code",
   "execution_count": 88,
   "outputs": [],
   "source": [
    "# Dropping Id column\n",
    "ic_house_pred_train = ic_house_pred_train.drop(['Id'], axis=1)\n",
    "ic_house_pred_test = ic_house_pred_test.drop(['Id'], axis=1)"
   ],
   "metadata": {
    "collapsed": false,
    "pycharm": {
     "name": "#%%\n"
    }
   }
  },
  {
   "cell_type": "code",
   "execution_count": 84,
   "outputs": [
    {
     "data": {
      "text/plain": "   MSSubClass MSZoning  LotFrontage  LotArea Street Alley LotShape  \\\n0          20       RL         80.0    10400   Pave   NaN      Reg   \n1         180       RM         35.0     3675   Pave   NaN      Reg   \n2          60       FV         72.0     8640   Pave   NaN      Reg   \n3          20       RL         84.0    11670   Pave   NaN      IR1   \n4          60       RL         43.0    10667   Pave   NaN      IR2   \n\n  LandContour Utilities LotConfig  ... PoolArea PoolQC  Fence MiscFeature  \\\n0         Lvl    AllPub    Inside  ...        0    NaN  MnPrv         NaN   \n1         Lvl    AllPub    Inside  ...        0    NaN    NaN         NaN   \n2         Lvl    AllPub    Inside  ...        0    NaN    NaN         NaN   \n3         Lvl    AllPub    Corner  ...        0    NaN    NaN         NaN   \n4         Lvl    AllPub   CulDSac  ...        0    NaN    NaN         NaN   \n\n  MiscVal MoSold  YrSold  SaleType  SaleCondition  SalePrice  \n0       0      5    2008        WD         Normal     174000  \n1       0      5    2006        WD         Normal     145000  \n2       0      6    2010       Con         Normal     215200  \n3       0      3    2007        WD         Normal     320000  \n4       0      4    2009     ConLw         Normal     212000  \n\n[5 rows x 80 columns]",
      "text/html": "<div>\n<style scoped>\n    .dataframe tbody tr th:only-of-type {\n        vertical-align: middle;\n    }\n\n    .dataframe tbody tr th {\n        vertical-align: top;\n    }\n\n    .dataframe thead th {\n        text-align: right;\n    }\n</style>\n<table border=\"1\" class=\"dataframe\">\n  <thead>\n    <tr style=\"text-align: right;\">\n      <th></th>\n      <th>MSSubClass</th>\n      <th>MSZoning</th>\n      <th>LotFrontage</th>\n      <th>LotArea</th>\n      <th>Street</th>\n      <th>Alley</th>\n      <th>LotShape</th>\n      <th>LandContour</th>\n      <th>Utilities</th>\n      <th>LotConfig</th>\n      <th>...</th>\n      <th>PoolArea</th>\n      <th>PoolQC</th>\n      <th>Fence</th>\n      <th>MiscFeature</th>\n      <th>MiscVal</th>\n      <th>MoSold</th>\n      <th>YrSold</th>\n      <th>SaleType</th>\n      <th>SaleCondition</th>\n      <th>SalePrice</th>\n    </tr>\n  </thead>\n  <tbody>\n    <tr>\n      <th>0</th>\n      <td>20</td>\n      <td>RL</td>\n      <td>80.0</td>\n      <td>10400</td>\n      <td>Pave</td>\n      <td>NaN</td>\n      <td>Reg</td>\n      <td>Lvl</td>\n      <td>AllPub</td>\n      <td>Inside</td>\n      <td>...</td>\n      <td>0</td>\n      <td>NaN</td>\n      <td>MnPrv</td>\n      <td>NaN</td>\n      <td>0</td>\n      <td>5</td>\n      <td>2008</td>\n      <td>WD</td>\n      <td>Normal</td>\n      <td>174000</td>\n    </tr>\n    <tr>\n      <th>1</th>\n      <td>180</td>\n      <td>RM</td>\n      <td>35.0</td>\n      <td>3675</td>\n      <td>Pave</td>\n      <td>NaN</td>\n      <td>Reg</td>\n      <td>Lvl</td>\n      <td>AllPub</td>\n      <td>Inside</td>\n      <td>...</td>\n      <td>0</td>\n      <td>NaN</td>\n      <td>NaN</td>\n      <td>NaN</td>\n      <td>0</td>\n      <td>5</td>\n      <td>2006</td>\n      <td>WD</td>\n      <td>Normal</td>\n      <td>145000</td>\n    </tr>\n    <tr>\n      <th>2</th>\n      <td>60</td>\n      <td>FV</td>\n      <td>72.0</td>\n      <td>8640</td>\n      <td>Pave</td>\n      <td>NaN</td>\n      <td>Reg</td>\n      <td>Lvl</td>\n      <td>AllPub</td>\n      <td>Inside</td>\n      <td>...</td>\n      <td>0</td>\n      <td>NaN</td>\n      <td>NaN</td>\n      <td>NaN</td>\n      <td>0</td>\n      <td>6</td>\n      <td>2010</td>\n      <td>Con</td>\n      <td>Normal</td>\n      <td>215200</td>\n    </tr>\n    <tr>\n      <th>3</th>\n      <td>20</td>\n      <td>RL</td>\n      <td>84.0</td>\n      <td>11670</td>\n      <td>Pave</td>\n      <td>NaN</td>\n      <td>IR1</td>\n      <td>Lvl</td>\n      <td>AllPub</td>\n      <td>Corner</td>\n      <td>...</td>\n      <td>0</td>\n      <td>NaN</td>\n      <td>NaN</td>\n      <td>NaN</td>\n      <td>0</td>\n      <td>3</td>\n      <td>2007</td>\n      <td>WD</td>\n      <td>Normal</td>\n      <td>320000</td>\n    </tr>\n    <tr>\n      <th>4</th>\n      <td>60</td>\n      <td>RL</td>\n      <td>43.0</td>\n      <td>10667</td>\n      <td>Pave</td>\n      <td>NaN</td>\n      <td>IR2</td>\n      <td>Lvl</td>\n      <td>AllPub</td>\n      <td>CulDSac</td>\n      <td>...</td>\n      <td>0</td>\n      <td>NaN</td>\n      <td>NaN</td>\n      <td>NaN</td>\n      <td>0</td>\n      <td>4</td>\n      <td>2009</td>\n      <td>ConLw</td>\n      <td>Normal</td>\n      <td>212000</td>\n    </tr>\n  </tbody>\n</table>\n<p>5 rows × 80 columns</p>\n</div>"
     },
     "execution_count": 84,
     "metadata": {},
     "output_type": "execute_result"
    }
   ],
   "source": [
    "ic_house_pred_train.head(5)"
   ],
   "metadata": {
    "collapsed": false,
    "pycharm": {
     "name": "#%%\n"
    }
   }
  },
  {
   "cell_type": "code",
   "execution_count": 89,
   "outputs": [],
   "source": [
    "numeric_columns = ic_house_pred_train.select_dtypes(include=np.number).columns\n",
    "string_columns = [x for x in ic_house_pred_train.columns if x not in numeric_columns]"
   ],
   "metadata": {
    "collapsed": false,
    "pycharm": {
     "name": "#%%\n"
    }
   }
  },
  {
   "cell_type": "code",
   "execution_count": 90,
   "outputs": [
    {
     "name": "stdout",
     "output_type": "stream",
     "text": [
      "Numeric missing values: \n",
      "247\n",
      "Numeric missing values: \n",
      "0\n"
     ]
    }
   ],
   "source": [
    "# Treating missing values\n",
    "\n",
    "print(\"Numeric missing values: \")\n",
    "print(ic_house_pred_train[numeric_columns].isnull().sum().sum())\n",
    "\n",
    "# missing_values_columns_train = ic_house_pred_train.columns[ic_house_pred_train[numeric_columns].isnull().any()]\n",
    "# missing_values_columns_test = ic_house_pred_test.columns[ic_house_pred_test[string_columns].isnull().any()]\n",
    "\n",
    "# print(missing_values_columns_train)\n",
    "# print(missing_values_columns_test)\n",
    "\n",
    "def replaceMissingValuesByMean(var_list, data):\n",
    "    for var in var_list:\n",
    "        avg = data[var].mean(axis=0)\n",
    "        data[var].fillna(avg, inplace=True)\n",
    "\n",
    "replaceMissingValuesByMean(numeric_columns, ic_house_pred_train)\n",
    "replaceMissingValuesByMean(numeric_columns, ic_house_pred_test)\n",
    "\n",
    "print(\"Numeric missing values after replacement: \")\n",
    "print(ic_house_pred_train[numeric_columns].isnull().sum().sum())"
   ],
   "metadata": {
    "collapsed": false,
    "pycharm": {
     "name": "#%%\n"
    }
   }
  },
  {
   "cell_type": "code",
   "execution_count": null,
   "outputs": [],
   "source": [
    "# Creating dummies variables\n",
    "\n",
    "ic_house_pred_train = pd.get_dummies(ic_house_pred_train, prefix_sep='_')\n",
    "\n",
    "ic_house_pred_test = pd.get_dummies(ic_house_pred_test, prefix_sep='_')"
   ],
   "metadata": {
    "collapsed": false,
    "pycharm": {
     "name": "#%%\n"
    }
   }
  },
  {
   "cell_type": "code",
   "execution_count": 56,
   "outputs": [
    {
     "name": "stdout",
     "output_type": "stream",
     "text": [
      "0\n"
     ]
    }
   ],
   "source": [
    "print(ic_house_pred_train.isnull().sum().sum())\n",
    "\n",
    "ic_house_pred_train.to_csv('N_TRAIN.csv', index=False)\n",
    "ic_house_pred_test.to_csv('N_TEST.csv', index=False)\n",
    "\n",
    "\n"
   ],
   "metadata": {
    "collapsed": false,
    "pycharm": {
     "name": "#%%\n"
    }
   }
  }
 ],
 "metadata": {
  "kernelspec": {
   "display_name": "Python 3",
   "language": "python",
   "name": "python3"
  },
  "language_info": {
   "codemirror_mode": {
    "name": "ipython",
    "version": 2
   },
   "file_extension": ".py",
   "mimetype": "text/x-python",
   "name": "python",
   "nbconvert_exporter": "python",
   "pygments_lexer": "ipython2",
   "version": "2.7.6"
  }
 },
 "nbformat": 4,
 "nbformat_minor": 0
}