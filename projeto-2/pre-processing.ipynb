{
 "cells": [
  {
   "cell_type": "markdown",
   "source": [
    "Importando as bibliotecas"
   ],
   "metadata": {}
  },
  {
   "cell_type": "code",
   "execution_count": 1,
   "source": [
    "import numpy as np\n",
    "import pandas as pd"
   ],
   "outputs": [],
   "metadata": {}
  },
  {
   "cell_type": "markdown",
   "source": [
    "Carregando base de dados"
   ],
   "metadata": {}
  },
  {
   "cell_type": "code",
   "execution_count": 2,
   "source": [
    "# Treinamento com a variável alvo\n",
    "transact_train_database = pd.read_csv('data/transact_train.txt', sep='|')\n",
    "\n",
    "# Teste sem a variável alvo\n",
    "transact_test_database = pd.read_csv('data/transact_class.txt', sep = '|')\n",
    "\n",
    "# Variável alvo do teste\n",
    "transact_original_database = pd.read_csv('data/realclass_t1.txt', sep = '|')\n",
    "\n",
    "transact_train_database.head()"
   ],
   "outputs": [
    {
     "data": {
      "text/plain": "   sessionNo  startHour  startWeekday  duration  cCount cMinPrice cMaxPrice  \\\n0          1          6             5     0.000       1     59.99     59.99   \n1          1          6             5    11.940       1     59.99     59.99   \n2          1          6             5    39.887       1     59.99     59.99   \n3          2          6             5     0.000       0         ?         ?   \n4          2          6             5    15.633       0         ?         ?   \n\n  cSumPrice  bCount bMinPrice  ...          availability customerNo maxVal  \\\n0     59.99       1     59.99  ...                     ?          1    600   \n1     59.99       1     59.99  ...  completely orderable          1    600   \n2     59.99       1     59.99  ...  completely orderable          1    600   \n3         ?       0         ?  ...  completely orderable          ?      ?   \n4         ?       0         ?  ...  completely orderable          ?      ?   \n\n  customerScore accountLifetime payments age address lastOrder order  \n0            70              21        1  43       1        49     y  \n1            70              21        1  43       1        49     y  \n2            70              21        1  43       1        49     y  \n3             ?               ?        ?   ?       ?         ?     y  \n4             ?               ?        ?   ?       ?         ?     y  \n\n[5 rows x 24 columns]",
      "text/html": "<div>\n<style scoped>\n    .dataframe tbody tr th:only-of-type {\n        vertical-align: middle;\n    }\n\n    .dataframe tbody tr th {\n        vertical-align: top;\n    }\n\n    .dataframe thead th {\n        text-align: right;\n    }\n</style>\n<table border=\"1\" class=\"dataframe\">\n  <thead>\n    <tr style=\"text-align: right;\">\n      <th></th>\n      <th>sessionNo</th>\n      <th>startHour</th>\n      <th>startWeekday</th>\n      <th>duration</th>\n      <th>cCount</th>\n      <th>cMinPrice</th>\n      <th>cMaxPrice</th>\n      <th>cSumPrice</th>\n      <th>bCount</th>\n      <th>bMinPrice</th>\n      <th>...</th>\n      <th>availability</th>\n      <th>customerNo</th>\n      <th>maxVal</th>\n      <th>customerScore</th>\n      <th>accountLifetime</th>\n      <th>payments</th>\n      <th>age</th>\n      <th>address</th>\n      <th>lastOrder</th>\n      <th>order</th>\n    </tr>\n  </thead>\n  <tbody>\n    <tr>\n      <th>0</th>\n      <td>1</td>\n      <td>6</td>\n      <td>5</td>\n      <td>0.000</td>\n      <td>1</td>\n      <td>59.99</td>\n      <td>59.99</td>\n      <td>59.99</td>\n      <td>1</td>\n      <td>59.99</td>\n      <td>...</td>\n      <td>?</td>\n      <td>1</td>\n      <td>600</td>\n      <td>70</td>\n      <td>21</td>\n      <td>1</td>\n      <td>43</td>\n      <td>1</td>\n      <td>49</td>\n      <td>y</td>\n    </tr>\n    <tr>\n      <th>1</th>\n      <td>1</td>\n      <td>6</td>\n      <td>5</td>\n      <td>11.940</td>\n      <td>1</td>\n      <td>59.99</td>\n      <td>59.99</td>\n      <td>59.99</td>\n      <td>1</td>\n      <td>59.99</td>\n      <td>...</td>\n      <td>completely orderable</td>\n      <td>1</td>\n      <td>600</td>\n      <td>70</td>\n      <td>21</td>\n      <td>1</td>\n      <td>43</td>\n      <td>1</td>\n      <td>49</td>\n      <td>y</td>\n    </tr>\n    <tr>\n      <th>2</th>\n      <td>1</td>\n      <td>6</td>\n      <td>5</td>\n      <td>39.887</td>\n      <td>1</td>\n      <td>59.99</td>\n      <td>59.99</td>\n      <td>59.99</td>\n      <td>1</td>\n      <td>59.99</td>\n      <td>...</td>\n      <td>completely orderable</td>\n      <td>1</td>\n      <td>600</td>\n      <td>70</td>\n      <td>21</td>\n      <td>1</td>\n      <td>43</td>\n      <td>1</td>\n      <td>49</td>\n      <td>y</td>\n    </tr>\n    <tr>\n      <th>3</th>\n      <td>2</td>\n      <td>6</td>\n      <td>5</td>\n      <td>0.000</td>\n      <td>0</td>\n      <td>?</td>\n      <td>?</td>\n      <td>?</td>\n      <td>0</td>\n      <td>?</td>\n      <td>...</td>\n      <td>completely orderable</td>\n      <td>?</td>\n      <td>?</td>\n      <td>?</td>\n      <td>?</td>\n      <td>?</td>\n      <td>?</td>\n      <td>?</td>\n      <td>?</td>\n      <td>y</td>\n    </tr>\n    <tr>\n      <th>4</th>\n      <td>2</td>\n      <td>6</td>\n      <td>5</td>\n      <td>15.633</td>\n      <td>0</td>\n      <td>?</td>\n      <td>?</td>\n      <td>?</td>\n      <td>0</td>\n      <td>?</td>\n      <td>...</td>\n      <td>completely orderable</td>\n      <td>?</td>\n      <td>?</td>\n      <td>?</td>\n      <td>?</td>\n      <td>?</td>\n      <td>?</td>\n      <td>?</td>\n      <td>?</td>\n      <td>y</td>\n    </tr>\n  </tbody>\n</table>\n<p>5 rows × 24 columns</p>\n</div>"
     },
     "execution_count": 2,
     "metadata": {},
     "output_type": "execute_result"
    }
   ],
   "metadata": {}
  },
  {
   "cell_type": "markdown",
   "source": [
    "Alterando a granularidade"
   ],
   "metadata": {}
  },
  {
   "cell_type": "code",
   "execution_count": 3,
   "source": [
    "transact_train_database = transact_train_database.drop_duplicates(subset=['sessionNo'], keep='last')\n",
    "transact_train_database_y = transact_train_database['order']\n",
    "transact_train_database_y = transact_train_database_y.replace({'y': 1, 'n': 0})\n",
    "transact_train_database_x = transact_train_database.drop(['order'], axis=1)\n",
    "\n",
    "transact_test_database_x = transact_test_database.drop_duplicates(subset=['sessionNo'], keep='last')"
   ],
   "outputs": [],
   "metadata": {}
  },
  {
   "cell_type": "code",
   "execution_count": 4,
   "source": [
    "transact_train_database_y.head()"
   ],
   "outputs": [
    {
     "data": {
      "text/plain": "2     1\n7     1\n12    1\n14    0\n22    1\nName: order, dtype: int64"
     },
     "execution_count": 4,
     "metadata": {},
     "output_type": "execute_result"
    }
   ],
   "metadata": {}
  },
  {
   "cell_type": "code",
   "execution_count": 5,
   "source": [
    "transact_test_database_x.head()"
   ],
   "outputs": [
    {
     "data": {
      "text/plain": "    sessionNo  startHour  startWeekday  duration  cCount cMinPrice cMaxPrice  \\\n8           1         18             7   624.606      11     16.99     39.99   \n19          2         18             7  2804.705      16     34.99     34.99   \n42          3         18             7  7401.384     119      7.99     59.95   \n48          4         18             7  2853.550     152      3.99    239.99   \n50          5         18             7    48.145       2     29.99     29.99   \n\n   cSumPrice  bCount bMinPrice  ... onlineStatus          availability  \\\n8     207.91       5     16.99  ...            y  completely orderable   \n19    174.95       2     34.99  ...            y  completely orderable   \n42   3263.57      12     12.49  ...            y  completely orderable   \n48    5642.5       4      9.99  ...            ?                     ?   \n50     59.98       1     29.99  ...            y  completely orderable   \n\n   customerNo maxVal customerScore accountLifetime payments age address  \\\n8       25039   1300           489             188        5  49       1   \n19      25040   1200           543              43        5  29       2   \n42      25041    600           552              17        4  37       2   \n48      25042   8500           535             226       19  49       2   \n50      25043    600           543              39        2  53       2   \n\n   lastOrder  \n8         65  \n19       184  \n42       107  \n48        17  \n50       234  \n\n[5 rows x 23 columns]",
      "text/html": "<div>\n<style scoped>\n    .dataframe tbody tr th:only-of-type {\n        vertical-align: middle;\n    }\n\n    .dataframe tbody tr th {\n        vertical-align: top;\n    }\n\n    .dataframe thead th {\n        text-align: right;\n    }\n</style>\n<table border=\"1\" class=\"dataframe\">\n  <thead>\n    <tr style=\"text-align: right;\">\n      <th></th>\n      <th>sessionNo</th>\n      <th>startHour</th>\n      <th>startWeekday</th>\n      <th>duration</th>\n      <th>cCount</th>\n      <th>cMinPrice</th>\n      <th>cMaxPrice</th>\n      <th>cSumPrice</th>\n      <th>bCount</th>\n      <th>bMinPrice</th>\n      <th>...</th>\n      <th>onlineStatus</th>\n      <th>availability</th>\n      <th>customerNo</th>\n      <th>maxVal</th>\n      <th>customerScore</th>\n      <th>accountLifetime</th>\n      <th>payments</th>\n      <th>age</th>\n      <th>address</th>\n      <th>lastOrder</th>\n    </tr>\n  </thead>\n  <tbody>\n    <tr>\n      <th>8</th>\n      <td>1</td>\n      <td>18</td>\n      <td>7</td>\n      <td>624.606</td>\n      <td>11</td>\n      <td>16.99</td>\n      <td>39.99</td>\n      <td>207.91</td>\n      <td>5</td>\n      <td>16.99</td>\n      <td>...</td>\n      <td>y</td>\n      <td>completely orderable</td>\n      <td>25039</td>\n      <td>1300</td>\n      <td>489</td>\n      <td>188</td>\n      <td>5</td>\n      <td>49</td>\n      <td>1</td>\n      <td>65</td>\n    </tr>\n    <tr>\n      <th>19</th>\n      <td>2</td>\n      <td>18</td>\n      <td>7</td>\n      <td>2804.705</td>\n      <td>16</td>\n      <td>34.99</td>\n      <td>34.99</td>\n      <td>174.95</td>\n      <td>2</td>\n      <td>34.99</td>\n      <td>...</td>\n      <td>y</td>\n      <td>completely orderable</td>\n      <td>25040</td>\n      <td>1200</td>\n      <td>543</td>\n      <td>43</td>\n      <td>5</td>\n      <td>29</td>\n      <td>2</td>\n      <td>184</td>\n    </tr>\n    <tr>\n      <th>42</th>\n      <td>3</td>\n      <td>18</td>\n      <td>7</td>\n      <td>7401.384</td>\n      <td>119</td>\n      <td>7.99</td>\n      <td>59.95</td>\n      <td>3263.57</td>\n      <td>12</td>\n      <td>12.49</td>\n      <td>...</td>\n      <td>y</td>\n      <td>completely orderable</td>\n      <td>25041</td>\n      <td>600</td>\n      <td>552</td>\n      <td>17</td>\n      <td>4</td>\n      <td>37</td>\n      <td>2</td>\n      <td>107</td>\n    </tr>\n    <tr>\n      <th>48</th>\n      <td>4</td>\n      <td>18</td>\n      <td>7</td>\n      <td>2853.550</td>\n      <td>152</td>\n      <td>3.99</td>\n      <td>239.99</td>\n      <td>5642.5</td>\n      <td>4</td>\n      <td>9.99</td>\n      <td>...</td>\n      <td>?</td>\n      <td>?</td>\n      <td>25042</td>\n      <td>8500</td>\n      <td>535</td>\n      <td>226</td>\n      <td>19</td>\n      <td>49</td>\n      <td>2</td>\n      <td>17</td>\n    </tr>\n    <tr>\n      <th>50</th>\n      <td>5</td>\n      <td>18</td>\n      <td>7</td>\n      <td>48.145</td>\n      <td>2</td>\n      <td>29.99</td>\n      <td>29.99</td>\n      <td>59.98</td>\n      <td>1</td>\n      <td>29.99</td>\n      <td>...</td>\n      <td>y</td>\n      <td>completely orderable</td>\n      <td>25043</td>\n      <td>600</td>\n      <td>543</td>\n      <td>39</td>\n      <td>2</td>\n      <td>53</td>\n      <td>2</td>\n      <td>234</td>\n    </tr>\n  </tbody>\n</table>\n<p>5 rows × 23 columns</p>\n</div>"
     },
     "execution_count": 5,
     "metadata": {},
     "output_type": "execute_result"
    }
   ],
   "metadata": {}
  },
  {
   "cell_type": "markdown",
   "source": [
    "Tratando os valores ausentes"
   ],
   "metadata": {}
  },
  {
   "cell_type": "markdown",
   "source": [
    "Lista de variáveis numéricas"
   ],
   "metadata": {}
  },
  {
   "cell_type": "code",
   "execution_count": 6,
   "source": [
    "list_numeric_variables = [\n",
    "  'cMinPrice',\n",
    "  'cMaxPrice',\n",
    "  'cSumPrice',\n",
    "  'bMinPrice',\n",
    "  'bMaxPrice',\n",
    "  'bSumPrice',\n",
    "  'bStep',\n",
    "  'maxVal',\n",
    "  'customerScore',\n",
    "  'accountLifetime',\n",
    "  'payments',\n",
    "  'age',\n",
    "  'address',\n",
    "  'lastOrder',\n",
    "]"
   ],
   "outputs": [],
   "metadata": {}
  },
  {
   "cell_type": "markdown",
   "source": [
    "Lista de variáveis string"
   ],
   "metadata": {}
  },
  {
   "cell_type": "code",
   "execution_count": 7,
   "source": [
    "list_string_variables = [\n",
    "  'availability',\n",
    "  'onlineStatus',\n",
    "]"
   ],
   "outputs": [],
   "metadata": {}
  },
  {
   "cell_type": "code",
   "execution_count": 8,
   "source": [
    "list_customer_variables = [\n",
    "  'maxVal',\n",
    "  'customerScore',\n",
    "  'accountLifetime',\n",
    "  'payments',\n",
    "  'age',\n",
    "  'address',\n",
    "  'lastOrder',\n",
    "]"
   ],
   "outputs": [],
   "metadata": {}
  },
  {
   "cell_type": "code",
   "execution_count": 9,
   "source": [
    "def replaceValueMissing(df, columns, value):\n",
    "  removed = df[columns].replace(value, np.nan)\n",
    "  for column in columns:\n",
    "    df[column] = removed[column]\n",
    "\n",
    "  return df"
   ],
   "outputs": [],
   "metadata": {}
  },
  {
   "cell_type": "code",
   "execution_count": 10,
   "source": [
    "def convertFloat(df, columns):\n",
    "  for column in columns:\n",
    "    df[column] = df[column].astype(float)\n",
    "\n",
    "  return df"
   ],
   "outputs": [],
   "metadata": {}
  },
  {
   "cell_type": "code",
   "execution_count": 11,
   "source": [
    "def replaceMissingByMean(df, columns):\n",
    "  for column in columns:\n",
    "    mean = df[column].mean(axis=0)\n",
    "    df[column].fillna(mean, inplace=True)\n",
    "\n",
    "  return df"
   ],
   "outputs": [],
   "metadata": {}
  },
  {
   "cell_type": "code",
   "execution_count": 12,
   "source": [
    "def replaceMissingByMode(df, columns):\n",
    "  for column in columns:\n",
    "    mode = df[column].mode(axis=0)\n",
    "    df[column].fillna(mode[0], inplace=True)\n",
    "\n",
    "  return df"
   ],
   "outputs": [],
   "metadata": {}
  },
  {
   "cell_type": "code",
   "execution_count": 13,
   "source": [
    "def replaceMissingByMedian(df, columns):\n",
    "  for column in columns:\n",
    "    median = df[column].median(axis=0)\n",
    "    df[column].fillna(median, inplace=True)\n",
    "\n",
    "  return df"
   ],
   "outputs": [],
   "metadata": {}
  },
  {
   "cell_type": "code",
   "execution_count": 14,
   "source": [
    "def replaceMissingByFixedValue(df, columns, value):\n",
    "  for column in columns:\n",
    "    df[column].fillna(value, inplace=True)\n",
    "\n",
    "  return df"
   ],
   "outputs": [],
   "metadata": {}
  },
  {
   "cell_type": "markdown",
   "source": [
    "Base na granularidade do projeto"
   ],
   "metadata": {}
  },
  {
   "cell_type": "code",
   "execution_count": 15,
   "source": [
    "# Substituindo a string ? por np.nan em todas p/ todas as variáveis da base na granularidade do projeto\n",
    "\n",
    "transact_train_database_x = replaceValueMissing(transact_train_database_x.copy(), list_numeric_variables, '?')\n",
    "transact_train_database_x = replaceValueMissing(transact_train_database_x.copy(), list_string_variables, '?')\n",
    "\n",
    "transact_test_database_x = replaceValueMissing(transact_test_database_x.copy(), list_numeric_variables, '?')\n",
    "transact_test_database_x = replaceValueMissing(transact_test_database_x.copy(), list_string_variables, '?')\n",
    "\n",
    "transact_train_database_x = convertFloat(transact_train_database_x, list_numeric_variables)\n",
    "transact_test_database_x = convertFloat(transact_test_database_x, list_numeric_variables)\n",
    "\n",
    "transact_train_database_x = replaceMissingByFixedValue(transact_train_database_x, list_string_variables, 'ausente')\n",
    "transact_test_database_x = replaceMissingByFixedValue(transact_test_database_x, list_string_variables, 'ausente')\n",
    "\n",
    "# Altera também na base original\n",
    "\n",
    "transact_train_database = replaceValueMissing(transact_train_database, list_string_variables, '?')\n",
    "transact_train_database = replaceValueMissing(transact_train_database, list_numeric_variables, '?')\n",
    "transact_train_database = convertFloat(transact_train_database, list_numeric_variables)\n",
    "\n",
    "transact_test_database = replaceValueMissing(transact_test_database, list_string_variables, '?')\n",
    "transact_test_database = replaceValueMissing(transact_test_database, list_numeric_variables, '?')\n",
    "transact_test_database = convertFloat(transact_test_database, list_numeric_variables)"
   ],
   "outputs": [],
   "metadata": {}
  },
  {
   "cell_type": "code",
   "execution_count": 16,
   "source": [
    "transact_train_database_x.head()"
   ],
   "outputs": [
    {
     "data": {
      "text/plain": "    sessionNo  startHour  startWeekday  duration  cCount  cMinPrice  \\\n2           1          6             5    39.887       1      59.99   \n7           2          6             5    94.469       0        NaN   \n12          3          6             5   341.613      11       9.99   \n14          4          6             5    42.812       4       4.99   \n22          5          6             5  2816.046      45      12.99   \n\n    cMaxPrice  cSumPrice  bCount  bMinPrice  ...  onlineStatus  \\\n2       59.99      59.99       1      59.99  ...             y   \n7         NaN        NaN       0        NaN  ...             y   \n12      29.99     109.95       2       9.99  ...             y   \n14       4.99      19.96       1       4.99  ...             y   \n22     179.95    1093.72       4      19.99  ...             y   \n\n                availability  customerNo  maxVal customerScore  \\\n2       completely orderable           1   600.0          70.0   \n7       completely orderable           ?     NaN           NaN   \n12      completely orderable           3  1800.0         475.0   \n14  completely not orderable           ?     NaN           NaN   \n22      completely orderable           4   800.0         503.0   \n\n   accountLifetime  payments   age  address  lastOrder  \n2             21.0       1.0  43.0      1.0       49.0  \n7              NaN       NaN   NaN      NaN        NaN  \n12           302.0      12.0  45.0      1.0       11.0  \n14             NaN       NaN   NaN      NaN        NaN  \n22            18.0       1.0  46.0      1.0       40.0  \n\n[5 rows x 23 columns]",
      "text/html": "<div>\n<style scoped>\n    .dataframe tbody tr th:only-of-type {\n        vertical-align: middle;\n    }\n\n    .dataframe tbody tr th {\n        vertical-align: top;\n    }\n\n    .dataframe thead th {\n        text-align: right;\n    }\n</style>\n<table border=\"1\" class=\"dataframe\">\n  <thead>\n    <tr style=\"text-align: right;\">\n      <th></th>\n      <th>sessionNo</th>\n      <th>startHour</th>\n      <th>startWeekday</th>\n      <th>duration</th>\n      <th>cCount</th>\n      <th>cMinPrice</th>\n      <th>cMaxPrice</th>\n      <th>cSumPrice</th>\n      <th>bCount</th>\n      <th>bMinPrice</th>\n      <th>...</th>\n      <th>onlineStatus</th>\n      <th>availability</th>\n      <th>customerNo</th>\n      <th>maxVal</th>\n      <th>customerScore</th>\n      <th>accountLifetime</th>\n      <th>payments</th>\n      <th>age</th>\n      <th>address</th>\n      <th>lastOrder</th>\n    </tr>\n  </thead>\n  <tbody>\n    <tr>\n      <th>2</th>\n      <td>1</td>\n      <td>6</td>\n      <td>5</td>\n      <td>39.887</td>\n      <td>1</td>\n      <td>59.99</td>\n      <td>59.99</td>\n      <td>59.99</td>\n      <td>1</td>\n      <td>59.99</td>\n      <td>...</td>\n      <td>y</td>\n      <td>completely orderable</td>\n      <td>1</td>\n      <td>600.0</td>\n      <td>70.0</td>\n      <td>21.0</td>\n      <td>1.0</td>\n      <td>43.0</td>\n      <td>1.0</td>\n      <td>49.0</td>\n    </tr>\n    <tr>\n      <th>7</th>\n      <td>2</td>\n      <td>6</td>\n      <td>5</td>\n      <td>94.469</td>\n      <td>0</td>\n      <td>NaN</td>\n      <td>NaN</td>\n      <td>NaN</td>\n      <td>0</td>\n      <td>NaN</td>\n      <td>...</td>\n      <td>y</td>\n      <td>completely orderable</td>\n      <td>?</td>\n      <td>NaN</td>\n      <td>NaN</td>\n      <td>NaN</td>\n      <td>NaN</td>\n      <td>NaN</td>\n      <td>NaN</td>\n      <td>NaN</td>\n    </tr>\n    <tr>\n      <th>12</th>\n      <td>3</td>\n      <td>6</td>\n      <td>5</td>\n      <td>341.613</td>\n      <td>11</td>\n      <td>9.99</td>\n      <td>29.99</td>\n      <td>109.95</td>\n      <td>2</td>\n      <td>9.99</td>\n      <td>...</td>\n      <td>y</td>\n      <td>completely orderable</td>\n      <td>3</td>\n      <td>1800.0</td>\n      <td>475.0</td>\n      <td>302.0</td>\n      <td>12.0</td>\n      <td>45.0</td>\n      <td>1.0</td>\n      <td>11.0</td>\n    </tr>\n    <tr>\n      <th>14</th>\n      <td>4</td>\n      <td>6</td>\n      <td>5</td>\n      <td>42.812</td>\n      <td>4</td>\n      <td>4.99</td>\n      <td>4.99</td>\n      <td>19.96</td>\n      <td>1</td>\n      <td>4.99</td>\n      <td>...</td>\n      <td>y</td>\n      <td>completely not orderable</td>\n      <td>?</td>\n      <td>NaN</td>\n      <td>NaN</td>\n      <td>NaN</td>\n      <td>NaN</td>\n      <td>NaN</td>\n      <td>NaN</td>\n      <td>NaN</td>\n    </tr>\n    <tr>\n      <th>22</th>\n      <td>5</td>\n      <td>6</td>\n      <td>5</td>\n      <td>2816.046</td>\n      <td>45</td>\n      <td>12.99</td>\n      <td>179.95</td>\n      <td>1093.72</td>\n      <td>4</td>\n      <td>19.99</td>\n      <td>...</td>\n      <td>y</td>\n      <td>completely orderable</td>\n      <td>4</td>\n      <td>800.0</td>\n      <td>503.0</td>\n      <td>18.0</td>\n      <td>1.0</td>\n      <td>46.0</td>\n      <td>1.0</td>\n      <td>40.0</td>\n    </tr>\n  </tbody>\n</table>\n<p>5 rows × 23 columns</p>\n</div>"
     },
     "execution_count": 16,
     "metadata": {},
     "output_type": "execute_result"
    }
   ],
   "metadata": {}
  },
  {
   "cell_type": "code",
   "execution_count": 17,
   "source": [
    "transact_train_database_x_by_mean = replaceMissingByMean(transact_train_database_x.copy(), list_numeric_variables)\n",
    "transact_test_database_x_by_mean = replaceMissingByMean(transact_test_database_x.copy(), list_numeric_variables)\n",
    "\n",
    "transact_train_database_x_by_mean = replaceValueMissing(transact_train_database_x_by_mean, list_customer_variables, '?')\n",
    "transact_test_database_x_by_mean = replaceValueMissing(transact_test_database_x_by_mean, list_customer_variables, '?')\n",
    "\n",
    "transact_test_database_x_by_mean = replaceMissingByMean(transact_test_database_x.copy(), list_customer_variables)\n",
    "transact_train_database_x_by_mean = replaceMissingByMean(transact_train_database_x.copy(), list_customer_variables)"
   ],
   "outputs": [],
   "metadata": {}
  },
  {
   "cell_type": "code",
   "execution_count": 18,
   "source": [
    "transact_test_database_x_by_mean.to_csv('data/transact_test_database_x_by_mean.csv', index=False)\n",
    "transact_train_database_x_by_mean.to_csv('data/transact_train_database_x_by_mean.csv', index=False)\n",
    "transact_train_database_y.copy().to_csv('data/transact_train_database_y_by_mean.csv', index=False, header=False)"
   ],
   "outputs": [],
   "metadata": {}
  },
  {
   "cell_type": "code",
   "execution_count": 19,
   "source": [
    "transact_train_database_x_by_mean.head()"
   ],
   "outputs": [
    {
     "data": {
      "text/plain": "    sessionNo  startHour  startWeekday  duration  cCount  cMinPrice  \\\n2           1          6             5    39.887       1      59.99   \n7           2          6             5    94.469       0        NaN   \n12          3          6             5   341.613      11       9.99   \n14          4          6             5    42.812       4       4.99   \n22          5          6             5  2816.046      45      12.99   \n\n    cMaxPrice  cSumPrice  bCount  bMinPrice  ...  onlineStatus  \\\n2       59.99      59.99       1      59.99  ...             y   \n7         NaN        NaN       0        NaN  ...             y   \n12      29.99     109.95       2       9.99  ...             y   \n14       4.99      19.96       1       4.99  ...             y   \n22     179.95    1093.72       4      19.99  ...             y   \n\n                availability  customerNo       maxVal customerScore  \\\n2       completely orderable           1   600.000000     70.000000   \n7       completely orderable           ?  2266.582859    483.731568   \n12      completely orderable           3  1800.000000    475.000000   \n14  completely not orderable           ?  2266.582859    483.731568   \n22      completely orderable           4   800.000000    503.000000   \n\n   accountLifetime   payments        age   address  lastOrder  \n2        21.000000   1.000000  43.000000  1.000000  49.000000  \n7       128.169304  12.893535  44.921048  1.706919  79.007675  \n12      302.000000  12.000000  45.000000  1.000000  11.000000  \n14      128.169304  12.893535  44.921048  1.706919  79.007675  \n22       18.000000   1.000000  46.000000  1.000000  40.000000  \n\n[5 rows x 23 columns]",
      "text/html": "<div>\n<style scoped>\n    .dataframe tbody tr th:only-of-type {\n        vertical-align: middle;\n    }\n\n    .dataframe tbody tr th {\n        vertical-align: top;\n    }\n\n    .dataframe thead th {\n        text-align: right;\n    }\n</style>\n<table border=\"1\" class=\"dataframe\">\n  <thead>\n    <tr style=\"text-align: right;\">\n      <th></th>\n      <th>sessionNo</th>\n      <th>startHour</th>\n      <th>startWeekday</th>\n      <th>duration</th>\n      <th>cCount</th>\n      <th>cMinPrice</th>\n      <th>cMaxPrice</th>\n      <th>cSumPrice</th>\n      <th>bCount</th>\n      <th>bMinPrice</th>\n      <th>...</th>\n      <th>onlineStatus</th>\n      <th>availability</th>\n      <th>customerNo</th>\n      <th>maxVal</th>\n      <th>customerScore</th>\n      <th>accountLifetime</th>\n      <th>payments</th>\n      <th>age</th>\n      <th>address</th>\n      <th>lastOrder</th>\n    </tr>\n  </thead>\n  <tbody>\n    <tr>\n      <th>2</th>\n      <td>1</td>\n      <td>6</td>\n      <td>5</td>\n      <td>39.887</td>\n      <td>1</td>\n      <td>59.99</td>\n      <td>59.99</td>\n      <td>59.99</td>\n      <td>1</td>\n      <td>59.99</td>\n      <td>...</td>\n      <td>y</td>\n      <td>completely orderable</td>\n      <td>1</td>\n      <td>600.000000</td>\n      <td>70.000000</td>\n      <td>21.000000</td>\n      <td>1.000000</td>\n      <td>43.000000</td>\n      <td>1.000000</td>\n      <td>49.000000</td>\n    </tr>\n    <tr>\n      <th>7</th>\n      <td>2</td>\n      <td>6</td>\n      <td>5</td>\n      <td>94.469</td>\n      <td>0</td>\n      <td>NaN</td>\n      <td>NaN</td>\n      <td>NaN</td>\n      <td>0</td>\n      <td>NaN</td>\n      <td>...</td>\n      <td>y</td>\n      <td>completely orderable</td>\n      <td>?</td>\n      <td>2266.582859</td>\n      <td>483.731568</td>\n      <td>128.169304</td>\n      <td>12.893535</td>\n      <td>44.921048</td>\n      <td>1.706919</td>\n      <td>79.007675</td>\n    </tr>\n    <tr>\n      <th>12</th>\n      <td>3</td>\n      <td>6</td>\n      <td>5</td>\n      <td>341.613</td>\n      <td>11</td>\n      <td>9.99</td>\n      <td>29.99</td>\n      <td>109.95</td>\n      <td>2</td>\n      <td>9.99</td>\n      <td>...</td>\n      <td>y</td>\n      <td>completely orderable</td>\n      <td>3</td>\n      <td>1800.000000</td>\n      <td>475.000000</td>\n      <td>302.000000</td>\n      <td>12.000000</td>\n      <td>45.000000</td>\n      <td>1.000000</td>\n      <td>11.000000</td>\n    </tr>\n    <tr>\n      <th>14</th>\n      <td>4</td>\n      <td>6</td>\n      <td>5</td>\n      <td>42.812</td>\n      <td>4</td>\n      <td>4.99</td>\n      <td>4.99</td>\n      <td>19.96</td>\n      <td>1</td>\n      <td>4.99</td>\n      <td>...</td>\n      <td>y</td>\n      <td>completely not orderable</td>\n      <td>?</td>\n      <td>2266.582859</td>\n      <td>483.731568</td>\n      <td>128.169304</td>\n      <td>12.893535</td>\n      <td>44.921048</td>\n      <td>1.706919</td>\n      <td>79.007675</td>\n    </tr>\n    <tr>\n      <th>22</th>\n      <td>5</td>\n      <td>6</td>\n      <td>5</td>\n      <td>2816.046</td>\n      <td>45</td>\n      <td>12.99</td>\n      <td>179.95</td>\n      <td>1093.72</td>\n      <td>4</td>\n      <td>19.99</td>\n      <td>...</td>\n      <td>y</td>\n      <td>completely orderable</td>\n      <td>4</td>\n      <td>800.000000</td>\n      <td>503.000000</td>\n      <td>18.000000</td>\n      <td>1.000000</td>\n      <td>46.000000</td>\n      <td>1.000000</td>\n      <td>40.000000</td>\n    </tr>\n  </tbody>\n</table>\n<p>5 rows × 23 columns</p>\n</div>"
     },
     "execution_count": 19,
     "metadata": {},
     "output_type": "execute_result"
    }
   ],
   "metadata": {}
  },
  {
   "cell_type": "code",
   "execution_count": 20,
   "source": [
    "# Atribuindo valor zero para as variáveis comportamentais que não possuem valor de customerNo\n",
    "\n",
    "rows_without_customerNo = transact_train_database_x_by_mean['customerNo'] == '?'\n",
    "transact_train_database_x_by_mean.loc[rows_without_customerNo, 'maxVal'] = 0\n",
    "transact_train_database_x_by_mean.loc[rows_without_customerNo, 'customerScore'] = 0\n",
    "transact_train_database_x_by_mean.loc[rows_without_customerNo, 'accountLifetime'] = 0\n",
    "transact_train_database_x_by_mean.loc[rows_without_customerNo, 'payments'] = 0\n",
    "transact_train_database_x_by_mean.loc[rows_without_customerNo, 'age'] = 0\n",
    "transact_train_database_x_by_mean.loc[rows_without_customerNo, 'address'] = 0\n",
    "transact_train_database_x_by_mean.loc[rows_without_customerNo, 'lastOrder'] = 0\n",
    "\n",
    "# Teste\n",
    "rows_test_without_customerNo = transact_test_database_x_by_mean['customerNo'] == '?'\n",
    "transact_test_database_x_by_mean.loc[rows_test_without_customerNo, 'maxVal'] = 0\n",
    "transact_test_database_x_by_mean.loc[rows_test_without_customerNo, 'customerScore'] = 0\n",
    "transact_test_database_x_by_mean.loc[rows_test_without_customerNo, 'accountLifetime'] = 0\n",
    "transact_test_database_x_by_mean.loc[rows_test_without_customerNo, 'payments'] = 0\n",
    "transact_test_database_x_by_mean.loc[rows_test_without_customerNo, 'age'] = 0\n",
    "transact_test_database_x_by_mean.loc[rows_test_without_customerNo, 'address'] = 0\n",
    "transact_test_database_x_by_mean.loc[rows_test_without_customerNo, 'lastOrder'] = 0"
   ],
   "outputs": [],
   "metadata": {}
  },
  {
   "cell_type": "code",
   "execution_count": 21,
   "source": [
    "transact_train_database_x.describe(include='all')"
   ],
   "outputs": [
    {
     "data": {
      "text/plain": "           sessionNo     startHour  startWeekday      duration        cCount  \\\ncount   50000.000000  50000.000000  50000.000000  50000.000000  50000.000000   \nunique           NaN           NaN           NaN           NaN           NaN   \ntop              NaN           NaN           NaN           NaN           NaN   \nfreq             NaN           NaN           NaN           NaN           NaN   \nmean    25000.500000     14.367060      5.923140   1465.728502     20.233700   \nstd     14433.901067      4.638547      0.795063   2314.980566     28.430273   \nmin         1.000000      0.000000      5.000000      0.000000      0.000000   \n25%     12500.750000     11.000000      5.000000    217.926750      4.000000   \n50%     25000.500000     15.000000      6.000000    686.784500     10.000000   \n75%     37500.250000     18.000000      7.000000   1726.262750     24.000000   \nmax     50000.000000     23.000000      7.000000  21580.092000    200.000000   \n\n           cMinPrice     cMaxPrice      cSumPrice        bCount     bMinPrice  \\\ncount   49682.000000  49682.000000   49682.000000  50000.000000  49325.000000   \nunique           NaN           NaN            NaN           NaN           NaN   \ntop              NaN           NaN            NaN           NaN           NaN   \nfreq             NaN           NaN            NaN           NaN           NaN   \nmean       72.118160    157.646205    1096.642791      3.207580     86.444819   \nstd       176.181174    295.331281    3083.223860      3.549983    203.739233   \nmin         0.000000      0.000000       0.000000      0.000000      0.000000   \n25%         7.000000     24.990000     119.960000      1.000000      9.990000   \n50%        14.990000     49.990000     358.935000      2.000000     19.990000   \n75%        39.990000    129.990000     938.637500      4.000000     49.990000   \nmax      5999.990000   6999.990000  115742.000000    108.000000   6999.990000   \n\n        ...  onlineStatus          availability  customerNo        maxVal  \\\ncount   ...         50000                 50000       50000  27046.000000   \nunique  ...             3                     8       25038           NaN   \ntop     ...             y  completely orderable           ?           NaN   \nfreq    ...         38684                 36277       22639           NaN   \nmean    ...           NaN                   NaN         NaN   2266.582859   \nstd     ...           NaN                   NaN         NaN   2755.134822   \nmin     ...           NaN                   NaN         NaN      0.000000   \n25%     ...           NaN                   NaN         NaN    600.000000   \n50%     ...           NaN                   NaN         NaN   1300.000000   \n75%     ...           NaN                   NaN         NaN   3200.000000   \nmax     ...           NaN                   NaN         NaN  50000.000000   \n\n       customerScore accountLifetime      payments           age  \\\ncount   27046.000000    27046.000000  27361.000000  27333.000000   \nunique           NaN             NaN           NaN           NaN   \ntop              NaN             NaN           NaN           NaN   \nfreq             NaN             NaN           NaN           NaN   \nmean      483.731568      128.169304     12.893535     44.921048   \nstd       131.400171      108.671163     26.743458     12.083048   \nmin         0.000000        0.000000      0.000000     17.000000   \n25%       480.000000       36.000000      2.000000     36.000000   \n50%       520.000000       98.000000      8.000000     45.000000   \n75%       553.000000      215.000000     14.000000     53.000000   \nmax       638.000000      600.000000    868.000000     99.000000   \n\n             address     lastOrder  \ncount   27361.000000  27361.000000  \nunique           NaN           NaN  \ntop              NaN           NaN  \nfreq             NaN           NaN  \nmean        1.706919     79.007675  \nstd         0.457506    112.447109  \nmin         1.000000      3.000000  \n25%         1.000000     14.000000  \n50%         2.000000     33.000000  \n75%         2.000000     85.000000  \nmax         3.000000    738.000000  \n\n[11 rows x 23 columns]",
      "text/html": "<div>\n<style scoped>\n    .dataframe tbody tr th:only-of-type {\n        vertical-align: middle;\n    }\n\n    .dataframe tbody tr th {\n        vertical-align: top;\n    }\n\n    .dataframe thead th {\n        text-align: right;\n    }\n</style>\n<table border=\"1\" class=\"dataframe\">\n  <thead>\n    <tr style=\"text-align: right;\">\n      <th></th>\n      <th>sessionNo</th>\n      <th>startHour</th>\n      <th>startWeekday</th>\n      <th>duration</th>\n      <th>cCount</th>\n      <th>cMinPrice</th>\n      <th>cMaxPrice</th>\n      <th>cSumPrice</th>\n      <th>bCount</th>\n      <th>bMinPrice</th>\n      <th>...</th>\n      <th>onlineStatus</th>\n      <th>availability</th>\n      <th>customerNo</th>\n      <th>maxVal</th>\n      <th>customerScore</th>\n      <th>accountLifetime</th>\n      <th>payments</th>\n      <th>age</th>\n      <th>address</th>\n      <th>lastOrder</th>\n    </tr>\n  </thead>\n  <tbody>\n    <tr>\n      <th>count</th>\n      <td>50000.000000</td>\n      <td>50000.000000</td>\n      <td>50000.000000</td>\n      <td>50000.000000</td>\n      <td>50000.000000</td>\n      <td>49682.000000</td>\n      <td>49682.000000</td>\n      <td>49682.000000</td>\n      <td>50000.000000</td>\n      <td>49325.000000</td>\n      <td>...</td>\n      <td>50000</td>\n      <td>50000</td>\n      <td>50000</td>\n      <td>27046.000000</td>\n      <td>27046.000000</td>\n      <td>27046.000000</td>\n      <td>27361.000000</td>\n      <td>27333.000000</td>\n      <td>27361.000000</td>\n      <td>27361.000000</td>\n    </tr>\n    <tr>\n      <th>unique</th>\n      <td>NaN</td>\n      <td>NaN</td>\n      <td>NaN</td>\n      <td>NaN</td>\n      <td>NaN</td>\n      <td>NaN</td>\n      <td>NaN</td>\n      <td>NaN</td>\n      <td>NaN</td>\n      <td>NaN</td>\n      <td>...</td>\n      <td>3</td>\n      <td>8</td>\n      <td>25038</td>\n      <td>NaN</td>\n      <td>NaN</td>\n      <td>NaN</td>\n      <td>NaN</td>\n      <td>NaN</td>\n      <td>NaN</td>\n      <td>NaN</td>\n    </tr>\n    <tr>\n      <th>top</th>\n      <td>NaN</td>\n      <td>NaN</td>\n      <td>NaN</td>\n      <td>NaN</td>\n      <td>NaN</td>\n      <td>NaN</td>\n      <td>NaN</td>\n      <td>NaN</td>\n      <td>NaN</td>\n      <td>NaN</td>\n      <td>...</td>\n      <td>y</td>\n      <td>completely orderable</td>\n      <td>?</td>\n      <td>NaN</td>\n      <td>NaN</td>\n      <td>NaN</td>\n      <td>NaN</td>\n      <td>NaN</td>\n      <td>NaN</td>\n      <td>NaN</td>\n    </tr>\n    <tr>\n      <th>freq</th>\n      <td>NaN</td>\n      <td>NaN</td>\n      <td>NaN</td>\n      <td>NaN</td>\n      <td>NaN</td>\n      <td>NaN</td>\n      <td>NaN</td>\n      <td>NaN</td>\n      <td>NaN</td>\n      <td>NaN</td>\n      <td>...</td>\n      <td>38684</td>\n      <td>36277</td>\n      <td>22639</td>\n      <td>NaN</td>\n      <td>NaN</td>\n      <td>NaN</td>\n      <td>NaN</td>\n      <td>NaN</td>\n      <td>NaN</td>\n      <td>NaN</td>\n    </tr>\n    <tr>\n      <th>mean</th>\n      <td>25000.500000</td>\n      <td>14.367060</td>\n      <td>5.923140</td>\n      <td>1465.728502</td>\n      <td>20.233700</td>\n      <td>72.118160</td>\n      <td>157.646205</td>\n      <td>1096.642791</td>\n      <td>3.207580</td>\n      <td>86.444819</td>\n      <td>...</td>\n      <td>NaN</td>\n      <td>NaN</td>\n      <td>NaN</td>\n      <td>2266.582859</td>\n      <td>483.731568</td>\n      <td>128.169304</td>\n      <td>12.893535</td>\n      <td>44.921048</td>\n      <td>1.706919</td>\n      <td>79.007675</td>\n    </tr>\n    <tr>\n      <th>std</th>\n      <td>14433.901067</td>\n      <td>4.638547</td>\n      <td>0.795063</td>\n      <td>2314.980566</td>\n      <td>28.430273</td>\n      <td>176.181174</td>\n      <td>295.331281</td>\n      <td>3083.223860</td>\n      <td>3.549983</td>\n      <td>203.739233</td>\n      <td>...</td>\n      <td>NaN</td>\n      <td>NaN</td>\n      <td>NaN</td>\n      <td>2755.134822</td>\n      <td>131.400171</td>\n      <td>108.671163</td>\n      <td>26.743458</td>\n      <td>12.083048</td>\n      <td>0.457506</td>\n      <td>112.447109</td>\n    </tr>\n    <tr>\n      <th>min</th>\n      <td>1.000000</td>\n      <td>0.000000</td>\n      <td>5.000000</td>\n      <td>0.000000</td>\n      <td>0.000000</td>\n      <td>0.000000</td>\n      <td>0.000000</td>\n      <td>0.000000</td>\n      <td>0.000000</td>\n      <td>0.000000</td>\n      <td>...</td>\n      <td>NaN</td>\n      <td>NaN</td>\n      <td>NaN</td>\n      <td>0.000000</td>\n      <td>0.000000</td>\n      <td>0.000000</td>\n      <td>0.000000</td>\n      <td>17.000000</td>\n      <td>1.000000</td>\n      <td>3.000000</td>\n    </tr>\n    <tr>\n      <th>25%</th>\n      <td>12500.750000</td>\n      <td>11.000000</td>\n      <td>5.000000</td>\n      <td>217.926750</td>\n      <td>4.000000</td>\n      <td>7.000000</td>\n      <td>24.990000</td>\n      <td>119.960000</td>\n      <td>1.000000</td>\n      <td>9.990000</td>\n      <td>...</td>\n      <td>NaN</td>\n      <td>NaN</td>\n      <td>NaN</td>\n      <td>600.000000</td>\n      <td>480.000000</td>\n      <td>36.000000</td>\n      <td>2.000000</td>\n      <td>36.000000</td>\n      <td>1.000000</td>\n      <td>14.000000</td>\n    </tr>\n    <tr>\n      <th>50%</th>\n      <td>25000.500000</td>\n      <td>15.000000</td>\n      <td>6.000000</td>\n      <td>686.784500</td>\n      <td>10.000000</td>\n      <td>14.990000</td>\n      <td>49.990000</td>\n      <td>358.935000</td>\n      <td>2.000000</td>\n      <td>19.990000</td>\n      <td>...</td>\n      <td>NaN</td>\n      <td>NaN</td>\n      <td>NaN</td>\n      <td>1300.000000</td>\n      <td>520.000000</td>\n      <td>98.000000</td>\n      <td>8.000000</td>\n      <td>45.000000</td>\n      <td>2.000000</td>\n      <td>33.000000</td>\n    </tr>\n    <tr>\n      <th>75%</th>\n      <td>37500.250000</td>\n      <td>18.000000</td>\n      <td>7.000000</td>\n      <td>1726.262750</td>\n      <td>24.000000</td>\n      <td>39.990000</td>\n      <td>129.990000</td>\n      <td>938.637500</td>\n      <td>4.000000</td>\n      <td>49.990000</td>\n      <td>...</td>\n      <td>NaN</td>\n      <td>NaN</td>\n      <td>NaN</td>\n      <td>3200.000000</td>\n      <td>553.000000</td>\n      <td>215.000000</td>\n      <td>14.000000</td>\n      <td>53.000000</td>\n      <td>2.000000</td>\n      <td>85.000000</td>\n    </tr>\n    <tr>\n      <th>max</th>\n      <td>50000.000000</td>\n      <td>23.000000</td>\n      <td>7.000000</td>\n      <td>21580.092000</td>\n      <td>200.000000</td>\n      <td>5999.990000</td>\n      <td>6999.990000</td>\n      <td>115742.000000</td>\n      <td>108.000000</td>\n      <td>6999.990000</td>\n      <td>...</td>\n      <td>NaN</td>\n      <td>NaN</td>\n      <td>NaN</td>\n      <td>50000.000000</td>\n      <td>638.000000</td>\n      <td>600.000000</td>\n      <td>868.000000</td>\n      <td>99.000000</td>\n      <td>3.000000</td>\n      <td>738.000000</td>\n    </tr>\n  </tbody>\n</table>\n<p>11 rows × 23 columns</p>\n</div>"
     },
     "execution_count": 21,
     "metadata": {},
     "output_type": "execute_result"
    }
   ],
   "metadata": {}
  },
  {
   "cell_type": "code",
   "execution_count": 22,
   "source": [
    "transact_test_database_x.describe(include='all')"
   ],
   "outputs": [
    {
     "data": {
      "text/plain": "          sessionNo    startHour  startWeekday      duration       cCount  \\\ncount   5111.000000  5111.000000    5111.00000   5111.000000  5111.000000   \nunique          NaN          NaN           NaN           NaN          NaN   \ntop             NaN          NaN           NaN           NaN          NaN   \nfreq            NaN          NaN           NaN           NaN          NaN   \nmean    2556.000000    17.996087       6.23107   1527.974712    23.304637   \nstd     1475.562943     6.365912       2.00577   2184.293690    31.657279   \nmin        1.000000     0.000000       1.00000      0.000000     0.000000   \n25%     1278.500000    19.000000       7.00000    206.114500     4.000000   \n50%     2556.000000    20.000000       7.00000    793.389000    11.000000   \n75%     3833.500000    21.000000       7.00000   1966.657000    30.000000   \nmax     5111.000000    23.000000       7.00000  21320.113000   200.000000   \n\n          cMinPrice    cMaxPrice      cSumPrice       bCount    bMinPrice  \\\ncount   5079.000000  5079.000000    5079.000000  5111.000000  5042.000000   \nunique          NaN          NaN            NaN          NaN          NaN   \ntop             NaN          NaN            NaN          NaN          NaN   \nfreq            NaN          NaN            NaN          NaN          NaN   \nmean      72.880350   171.776058    1267.255050     3.395813    89.261148   \nstd      167.712913   304.336070    3753.375477     3.641097   195.863501   \nmin        0.000000     1.000000       3.000000     0.000000     0.000000   \n25%        6.990000    29.990000     134.905000     1.000000     9.225000   \n50%       12.990000    49.990000     399.970000     2.000000    17.990000   \n75%       44.990000   159.990000    1089.295000     4.000000    49.990000   \nmax     1999.990000  4799.000000  117310.700000    43.000000  1999.990000   \n\n        ...  onlineStatus          availability  customerNo        maxVal  \\\ncount   ...          5111                  5111        5111   2541.000000   \nunique  ...             3                     7        2441           NaN   \ntop     ...             y  completely orderable           ?           NaN   \nfreq    ...          3893                  3694        2538           NaN   \nmean    ...           NaN                   NaN         NaN   1929.004329   \nstd     ...           NaN                   NaN         NaN   2079.223468   \nmin     ...           NaN                   NaN         NaN      0.000000   \n25%     ...           NaN                   NaN         NaN    600.000000   \n50%     ...           NaN                   NaN         NaN   1000.000000   \n75%     ...           NaN                   NaN         NaN   3000.000000   \nmax     ...           NaN                   NaN         NaN  25000.000000   \n\n       customerScore accountLifetime     payments          age      address  \\\ncount    2541.000000     2541.000000  2573.000000  2569.000000  2573.000000   \nunique           NaN             NaN          NaN          NaN          NaN   \ntop              NaN             NaN          NaN          NaN          NaN   \nfreq             NaN             NaN          NaN          NaN          NaN   \nmean      476.621409      120.714286     9.496308    43.525107     1.712398   \nstd       142.763951      104.856465    13.502393    11.876681     0.456155   \nmin         0.000000        0.000000     0.000000    17.000000     1.000000   \n25%       478.000000       31.000000     2.000000    34.000000     1.000000   \n50%       520.000000       87.000000     7.000000    44.000000     2.000000   \n75%       554.000000      207.000000    12.000000    52.000000     2.000000   \nmax       614.000000      524.000000   278.000000    90.000000     3.000000   \n\n          lastOrder  \ncount   2573.000000  \nunique          NaN  \ntop             NaN  \nfreq            NaN  \nmean      89.313253  \nstd      122.612305  \nmin        4.000000  \n25%       16.000000  \n50%       37.000000  \n75%      105.000000  \nmax      733.000000  \n\n[11 rows x 23 columns]",
      "text/html": "<div>\n<style scoped>\n    .dataframe tbody tr th:only-of-type {\n        vertical-align: middle;\n    }\n\n    .dataframe tbody tr th {\n        vertical-align: top;\n    }\n\n    .dataframe thead th {\n        text-align: right;\n    }\n</style>\n<table border=\"1\" class=\"dataframe\">\n  <thead>\n    <tr style=\"text-align: right;\">\n      <th></th>\n      <th>sessionNo</th>\n      <th>startHour</th>\n      <th>startWeekday</th>\n      <th>duration</th>\n      <th>cCount</th>\n      <th>cMinPrice</th>\n      <th>cMaxPrice</th>\n      <th>cSumPrice</th>\n      <th>bCount</th>\n      <th>bMinPrice</th>\n      <th>...</th>\n      <th>onlineStatus</th>\n      <th>availability</th>\n      <th>customerNo</th>\n      <th>maxVal</th>\n      <th>customerScore</th>\n      <th>accountLifetime</th>\n      <th>payments</th>\n      <th>age</th>\n      <th>address</th>\n      <th>lastOrder</th>\n    </tr>\n  </thead>\n  <tbody>\n    <tr>\n      <th>count</th>\n      <td>5111.000000</td>\n      <td>5111.000000</td>\n      <td>5111.00000</td>\n      <td>5111.000000</td>\n      <td>5111.000000</td>\n      <td>5079.000000</td>\n      <td>5079.000000</td>\n      <td>5079.000000</td>\n      <td>5111.000000</td>\n      <td>5042.000000</td>\n      <td>...</td>\n      <td>5111</td>\n      <td>5111</td>\n      <td>5111</td>\n      <td>2541.000000</td>\n      <td>2541.000000</td>\n      <td>2541.000000</td>\n      <td>2573.000000</td>\n      <td>2569.000000</td>\n      <td>2573.000000</td>\n      <td>2573.000000</td>\n    </tr>\n    <tr>\n      <th>unique</th>\n      <td>NaN</td>\n      <td>NaN</td>\n      <td>NaN</td>\n      <td>NaN</td>\n      <td>NaN</td>\n      <td>NaN</td>\n      <td>NaN</td>\n      <td>NaN</td>\n      <td>NaN</td>\n      <td>NaN</td>\n      <td>...</td>\n      <td>3</td>\n      <td>7</td>\n      <td>2441</td>\n      <td>NaN</td>\n      <td>NaN</td>\n      <td>NaN</td>\n      <td>NaN</td>\n      <td>NaN</td>\n      <td>NaN</td>\n      <td>NaN</td>\n    </tr>\n    <tr>\n      <th>top</th>\n      <td>NaN</td>\n      <td>NaN</td>\n      <td>NaN</td>\n      <td>NaN</td>\n      <td>NaN</td>\n      <td>NaN</td>\n      <td>NaN</td>\n      <td>NaN</td>\n      <td>NaN</td>\n      <td>NaN</td>\n      <td>...</td>\n      <td>y</td>\n      <td>completely orderable</td>\n      <td>?</td>\n      <td>NaN</td>\n      <td>NaN</td>\n      <td>NaN</td>\n      <td>NaN</td>\n      <td>NaN</td>\n      <td>NaN</td>\n      <td>NaN</td>\n    </tr>\n    <tr>\n      <th>freq</th>\n      <td>NaN</td>\n      <td>NaN</td>\n      <td>NaN</td>\n      <td>NaN</td>\n      <td>NaN</td>\n      <td>NaN</td>\n      <td>NaN</td>\n      <td>NaN</td>\n      <td>NaN</td>\n      <td>NaN</td>\n      <td>...</td>\n      <td>3893</td>\n      <td>3694</td>\n      <td>2538</td>\n      <td>NaN</td>\n      <td>NaN</td>\n      <td>NaN</td>\n      <td>NaN</td>\n      <td>NaN</td>\n      <td>NaN</td>\n      <td>NaN</td>\n    </tr>\n    <tr>\n      <th>mean</th>\n      <td>2556.000000</td>\n      <td>17.996087</td>\n      <td>6.23107</td>\n      <td>1527.974712</td>\n      <td>23.304637</td>\n      <td>72.880350</td>\n      <td>171.776058</td>\n      <td>1267.255050</td>\n      <td>3.395813</td>\n      <td>89.261148</td>\n      <td>...</td>\n      <td>NaN</td>\n      <td>NaN</td>\n      <td>NaN</td>\n      <td>1929.004329</td>\n      <td>476.621409</td>\n      <td>120.714286</td>\n      <td>9.496308</td>\n      <td>43.525107</td>\n      <td>1.712398</td>\n      <td>89.313253</td>\n    </tr>\n    <tr>\n      <th>std</th>\n      <td>1475.562943</td>\n      <td>6.365912</td>\n      <td>2.00577</td>\n      <td>2184.293690</td>\n      <td>31.657279</td>\n      <td>167.712913</td>\n      <td>304.336070</td>\n      <td>3753.375477</td>\n      <td>3.641097</td>\n      <td>195.863501</td>\n      <td>...</td>\n      <td>NaN</td>\n      <td>NaN</td>\n      <td>NaN</td>\n      <td>2079.223468</td>\n      <td>142.763951</td>\n      <td>104.856465</td>\n      <td>13.502393</td>\n      <td>11.876681</td>\n      <td>0.456155</td>\n      <td>122.612305</td>\n    </tr>\n    <tr>\n      <th>min</th>\n      <td>1.000000</td>\n      <td>0.000000</td>\n      <td>1.00000</td>\n      <td>0.000000</td>\n      <td>0.000000</td>\n      <td>0.000000</td>\n      <td>1.000000</td>\n      <td>3.000000</td>\n      <td>0.000000</td>\n      <td>0.000000</td>\n      <td>...</td>\n      <td>NaN</td>\n      <td>NaN</td>\n      <td>NaN</td>\n      <td>0.000000</td>\n      <td>0.000000</td>\n      <td>0.000000</td>\n      <td>0.000000</td>\n      <td>17.000000</td>\n      <td>1.000000</td>\n      <td>4.000000</td>\n    </tr>\n    <tr>\n      <th>25%</th>\n      <td>1278.500000</td>\n      <td>19.000000</td>\n      <td>7.00000</td>\n      <td>206.114500</td>\n      <td>4.000000</td>\n      <td>6.990000</td>\n      <td>29.990000</td>\n      <td>134.905000</td>\n      <td>1.000000</td>\n      <td>9.225000</td>\n      <td>...</td>\n      <td>NaN</td>\n      <td>NaN</td>\n      <td>NaN</td>\n      <td>600.000000</td>\n      <td>478.000000</td>\n      <td>31.000000</td>\n      <td>2.000000</td>\n      <td>34.000000</td>\n      <td>1.000000</td>\n      <td>16.000000</td>\n    </tr>\n    <tr>\n      <th>50%</th>\n      <td>2556.000000</td>\n      <td>20.000000</td>\n      <td>7.00000</td>\n      <td>793.389000</td>\n      <td>11.000000</td>\n      <td>12.990000</td>\n      <td>49.990000</td>\n      <td>399.970000</td>\n      <td>2.000000</td>\n      <td>17.990000</td>\n      <td>...</td>\n      <td>NaN</td>\n      <td>NaN</td>\n      <td>NaN</td>\n      <td>1000.000000</td>\n      <td>520.000000</td>\n      <td>87.000000</td>\n      <td>7.000000</td>\n      <td>44.000000</td>\n      <td>2.000000</td>\n      <td>37.000000</td>\n    </tr>\n    <tr>\n      <th>75%</th>\n      <td>3833.500000</td>\n      <td>21.000000</td>\n      <td>7.00000</td>\n      <td>1966.657000</td>\n      <td>30.000000</td>\n      <td>44.990000</td>\n      <td>159.990000</td>\n      <td>1089.295000</td>\n      <td>4.000000</td>\n      <td>49.990000</td>\n      <td>...</td>\n      <td>NaN</td>\n      <td>NaN</td>\n      <td>NaN</td>\n      <td>3000.000000</td>\n      <td>554.000000</td>\n      <td>207.000000</td>\n      <td>12.000000</td>\n      <td>52.000000</td>\n      <td>2.000000</td>\n      <td>105.000000</td>\n    </tr>\n    <tr>\n      <th>max</th>\n      <td>5111.000000</td>\n      <td>23.000000</td>\n      <td>7.00000</td>\n      <td>21320.113000</td>\n      <td>200.000000</td>\n      <td>1999.990000</td>\n      <td>4799.000000</td>\n      <td>117310.700000</td>\n      <td>43.000000</td>\n      <td>1999.990000</td>\n      <td>...</td>\n      <td>NaN</td>\n      <td>NaN</td>\n      <td>NaN</td>\n      <td>25000.000000</td>\n      <td>614.000000</td>\n      <td>524.000000</td>\n      <td>278.000000</td>\n      <td>90.000000</td>\n      <td>3.000000</td>\n      <td>733.000000</td>\n    </tr>\n  </tbody>\n</table>\n<p>11 rows × 23 columns</p>\n</div>"
     },
     "execution_count": 22,
     "metadata": {},
     "output_type": "execute_result"
    }
   ],
   "metadata": {}
  },
  {
   "cell_type": "code",
   "execution_count": 23,
   "source": [
    "transact_train_database.head()"
   ],
   "outputs": [
    {
     "data": {
      "text/plain": "    sessionNo  startHour  startWeekday  duration  cCount  cMinPrice  \\\n2           1          6             5    39.887       1      59.99   \n7           2          6             5    94.469       0        NaN   \n12          3          6             5   341.613      11       9.99   \n14          4          6             5    42.812       4       4.99   \n22          5          6             5  2816.046      45      12.99   \n\n    cMaxPrice  cSumPrice  bCount  bMinPrice  ...              availability  \\\n2       59.99      59.99       1      59.99  ...      completely orderable   \n7         NaN        NaN       0        NaN  ...      completely orderable   \n12      29.99     109.95       2       9.99  ...      completely orderable   \n14       4.99      19.96       1       4.99  ...  completely not orderable   \n22     179.95    1093.72       4      19.99  ...      completely orderable   \n\n    customerNo  maxVal customerScore accountLifetime payments   age  address  \\\n2            1   600.0          70.0            21.0      1.0  43.0      1.0   \n7            ?     NaN           NaN             NaN      NaN   NaN      NaN   \n12           3  1800.0         475.0           302.0     12.0  45.0      1.0   \n14           ?     NaN           NaN             NaN      NaN   NaN      NaN   \n22           4   800.0         503.0            18.0      1.0  46.0      1.0   \n\n    lastOrder  order  \n2        49.0      y  \n7         NaN      y  \n12       11.0      y  \n14        NaN      n  \n22       40.0      y  \n\n[5 rows x 24 columns]",
      "text/html": "<div>\n<style scoped>\n    .dataframe tbody tr th:only-of-type {\n        vertical-align: middle;\n    }\n\n    .dataframe tbody tr th {\n        vertical-align: top;\n    }\n\n    .dataframe thead th {\n        text-align: right;\n    }\n</style>\n<table border=\"1\" class=\"dataframe\">\n  <thead>\n    <tr style=\"text-align: right;\">\n      <th></th>\n      <th>sessionNo</th>\n      <th>startHour</th>\n      <th>startWeekday</th>\n      <th>duration</th>\n      <th>cCount</th>\n      <th>cMinPrice</th>\n      <th>cMaxPrice</th>\n      <th>cSumPrice</th>\n      <th>bCount</th>\n      <th>bMinPrice</th>\n      <th>...</th>\n      <th>availability</th>\n      <th>customerNo</th>\n      <th>maxVal</th>\n      <th>customerScore</th>\n      <th>accountLifetime</th>\n      <th>payments</th>\n      <th>age</th>\n      <th>address</th>\n      <th>lastOrder</th>\n      <th>order</th>\n    </tr>\n  </thead>\n  <tbody>\n    <tr>\n      <th>2</th>\n      <td>1</td>\n      <td>6</td>\n      <td>5</td>\n      <td>39.887</td>\n      <td>1</td>\n      <td>59.99</td>\n      <td>59.99</td>\n      <td>59.99</td>\n      <td>1</td>\n      <td>59.99</td>\n      <td>...</td>\n      <td>completely orderable</td>\n      <td>1</td>\n      <td>600.0</td>\n      <td>70.0</td>\n      <td>21.0</td>\n      <td>1.0</td>\n      <td>43.0</td>\n      <td>1.0</td>\n      <td>49.0</td>\n      <td>y</td>\n    </tr>\n    <tr>\n      <th>7</th>\n      <td>2</td>\n      <td>6</td>\n      <td>5</td>\n      <td>94.469</td>\n      <td>0</td>\n      <td>NaN</td>\n      <td>NaN</td>\n      <td>NaN</td>\n      <td>0</td>\n      <td>NaN</td>\n      <td>...</td>\n      <td>completely orderable</td>\n      <td>?</td>\n      <td>NaN</td>\n      <td>NaN</td>\n      <td>NaN</td>\n      <td>NaN</td>\n      <td>NaN</td>\n      <td>NaN</td>\n      <td>NaN</td>\n      <td>y</td>\n    </tr>\n    <tr>\n      <th>12</th>\n      <td>3</td>\n      <td>6</td>\n      <td>5</td>\n      <td>341.613</td>\n      <td>11</td>\n      <td>9.99</td>\n      <td>29.99</td>\n      <td>109.95</td>\n      <td>2</td>\n      <td>9.99</td>\n      <td>...</td>\n      <td>completely orderable</td>\n      <td>3</td>\n      <td>1800.0</td>\n      <td>475.0</td>\n      <td>302.0</td>\n      <td>12.0</td>\n      <td>45.0</td>\n      <td>1.0</td>\n      <td>11.0</td>\n      <td>y</td>\n    </tr>\n    <tr>\n      <th>14</th>\n      <td>4</td>\n      <td>6</td>\n      <td>5</td>\n      <td>42.812</td>\n      <td>4</td>\n      <td>4.99</td>\n      <td>4.99</td>\n      <td>19.96</td>\n      <td>1</td>\n      <td>4.99</td>\n      <td>...</td>\n      <td>completely not orderable</td>\n      <td>?</td>\n      <td>NaN</td>\n      <td>NaN</td>\n      <td>NaN</td>\n      <td>NaN</td>\n      <td>NaN</td>\n      <td>NaN</td>\n      <td>NaN</td>\n      <td>n</td>\n    </tr>\n    <tr>\n      <th>22</th>\n      <td>5</td>\n      <td>6</td>\n      <td>5</td>\n      <td>2816.046</td>\n      <td>45</td>\n      <td>12.99</td>\n      <td>179.95</td>\n      <td>1093.72</td>\n      <td>4</td>\n      <td>19.99</td>\n      <td>...</td>\n      <td>completely orderable</td>\n      <td>4</td>\n      <td>800.0</td>\n      <td>503.0</td>\n      <td>18.0</td>\n      <td>1.0</td>\n      <td>46.0</td>\n      <td>1.0</td>\n      <td>40.0</td>\n      <td>y</td>\n    </tr>\n  </tbody>\n</table>\n<p>5 rows × 24 columns</p>\n</div>"
     },
     "execution_count": 23,
     "metadata": {},
     "output_type": "execute_result"
    }
   ],
   "metadata": {}
  },
  {
   "cell_type": "code",
   "execution_count": 24,
   "source": [
    "transact_test_database.head()"
   ],
   "outputs": [
    {
     "data": {
      "text/plain": "   sessionNo  startHour  startWeekday  duration  cCount  cMinPrice  cMaxPrice  \\\n0          1         18             7   136.833       3      39.99      39.99   \n1          1         18             7   189.984       3      39.99      39.99   \n2          1         18             7   342.894       6      16.99      39.99   \n3          1         18             7   411.051       8      16.99      39.99   \n4          1         18             7   460.049      10      16.99      39.99   \n\n   cSumPrice  bCount  bMinPrice  ...  onlineStatus          availability  \\\n0      79.98       1      39.99  ...             y  completely orderable   \n1      79.98       1      39.99  ...             y  completely orderable   \n2     113.96       2      16.99  ...           NaN                   NaN   \n3     149.94       3      16.99  ...           NaN                   NaN   \n4     189.92       4      16.99  ...           NaN                   NaN   \n\n   customerNo  maxVal customerScore accountLifetime  payments   age  address  \\\n0       25039  1300.0         489.0           188.0       5.0  49.0      1.0   \n1       25039  1300.0         489.0           188.0       5.0  49.0      1.0   \n2       25039  1300.0         489.0           188.0       5.0  49.0      1.0   \n3       25039  1300.0         489.0           188.0       5.0  49.0      1.0   \n4       25039  1300.0         489.0           188.0       5.0  49.0      1.0   \n\n   lastOrder  \n0       65.0  \n1       65.0  \n2       65.0  \n3       65.0  \n4       65.0  \n\n[5 rows x 23 columns]",
      "text/html": "<div>\n<style scoped>\n    .dataframe tbody tr th:only-of-type {\n        vertical-align: middle;\n    }\n\n    .dataframe tbody tr th {\n        vertical-align: top;\n    }\n\n    .dataframe thead th {\n        text-align: right;\n    }\n</style>\n<table border=\"1\" class=\"dataframe\">\n  <thead>\n    <tr style=\"text-align: right;\">\n      <th></th>\n      <th>sessionNo</th>\n      <th>startHour</th>\n      <th>startWeekday</th>\n      <th>duration</th>\n      <th>cCount</th>\n      <th>cMinPrice</th>\n      <th>cMaxPrice</th>\n      <th>cSumPrice</th>\n      <th>bCount</th>\n      <th>bMinPrice</th>\n      <th>...</th>\n      <th>onlineStatus</th>\n      <th>availability</th>\n      <th>customerNo</th>\n      <th>maxVal</th>\n      <th>customerScore</th>\n      <th>accountLifetime</th>\n      <th>payments</th>\n      <th>age</th>\n      <th>address</th>\n      <th>lastOrder</th>\n    </tr>\n  </thead>\n  <tbody>\n    <tr>\n      <th>0</th>\n      <td>1</td>\n      <td>18</td>\n      <td>7</td>\n      <td>136.833</td>\n      <td>3</td>\n      <td>39.99</td>\n      <td>39.99</td>\n      <td>79.98</td>\n      <td>1</td>\n      <td>39.99</td>\n      <td>...</td>\n      <td>y</td>\n      <td>completely orderable</td>\n      <td>25039</td>\n      <td>1300.0</td>\n      <td>489.0</td>\n      <td>188.0</td>\n      <td>5.0</td>\n      <td>49.0</td>\n      <td>1.0</td>\n      <td>65.0</td>\n    </tr>\n    <tr>\n      <th>1</th>\n      <td>1</td>\n      <td>18</td>\n      <td>7</td>\n      <td>189.984</td>\n      <td>3</td>\n      <td>39.99</td>\n      <td>39.99</td>\n      <td>79.98</td>\n      <td>1</td>\n      <td>39.99</td>\n      <td>...</td>\n      <td>y</td>\n      <td>completely orderable</td>\n      <td>25039</td>\n      <td>1300.0</td>\n      <td>489.0</td>\n      <td>188.0</td>\n      <td>5.0</td>\n      <td>49.0</td>\n      <td>1.0</td>\n      <td>65.0</td>\n    </tr>\n    <tr>\n      <th>2</th>\n      <td>1</td>\n      <td>18</td>\n      <td>7</td>\n      <td>342.894</td>\n      <td>6</td>\n      <td>16.99</td>\n      <td>39.99</td>\n      <td>113.96</td>\n      <td>2</td>\n      <td>16.99</td>\n      <td>...</td>\n      <td>NaN</td>\n      <td>NaN</td>\n      <td>25039</td>\n      <td>1300.0</td>\n      <td>489.0</td>\n      <td>188.0</td>\n      <td>5.0</td>\n      <td>49.0</td>\n      <td>1.0</td>\n      <td>65.0</td>\n    </tr>\n    <tr>\n      <th>3</th>\n      <td>1</td>\n      <td>18</td>\n      <td>7</td>\n      <td>411.051</td>\n      <td>8</td>\n      <td>16.99</td>\n      <td>39.99</td>\n      <td>149.94</td>\n      <td>3</td>\n      <td>16.99</td>\n      <td>...</td>\n      <td>NaN</td>\n      <td>NaN</td>\n      <td>25039</td>\n      <td>1300.0</td>\n      <td>489.0</td>\n      <td>188.0</td>\n      <td>5.0</td>\n      <td>49.0</td>\n      <td>1.0</td>\n      <td>65.0</td>\n    </tr>\n    <tr>\n      <th>4</th>\n      <td>1</td>\n      <td>18</td>\n      <td>7</td>\n      <td>460.049</td>\n      <td>10</td>\n      <td>16.99</td>\n      <td>39.99</td>\n      <td>189.92</td>\n      <td>4</td>\n      <td>16.99</td>\n      <td>...</td>\n      <td>NaN</td>\n      <td>NaN</td>\n      <td>25039</td>\n      <td>1300.0</td>\n      <td>489.0</td>\n      <td>188.0</td>\n      <td>5.0</td>\n      <td>49.0</td>\n      <td>1.0</td>\n      <td>65.0</td>\n    </tr>\n  </tbody>\n</table>\n<p>5 rows × 23 columns</p>\n</div>"
     },
     "execution_count": 24,
     "metadata": {},
     "output_type": "execute_result"
    }
   ],
   "metadata": {}
  },
  {
   "cell_type": "markdown",
   "source": [
    "Criando novas variáveis"
   ],
   "metadata": {}
  },
  {
   "cell_type": "code",
   "execution_count": 25,
   "source": [
    "transact_train_database_x_by_mean = transact_train_database_x_by_mean.set_index('sessionNo')\n",
    "transact_test_database_x_by_mean = transact_test_database_x_by_mean.set_index('sessionNo')"
   ],
   "outputs": [],
   "metadata": {}
  },
  {
   "cell_type": "code",
   "execution_count": 26,
   "source": [
    "# Criando variável bSumPrice_cSumPrice\n",
    "transact_test_database_x_by_mean['bSumPrice_cSumPrice'] = transact_test_database_x_by_mean['bSumPrice'] / transact_test_database_x_by_mean['cSumPrice']\n",
    "transact_train_database_x_by_mean['bSumPrice_cSumPrice'] = transact_train_database_x_by_mean['bSumPrice'] / transact_train_database_x_by_mean['cSumPrice']"
   ],
   "outputs": [],
   "metadata": {}
  },
  {
   "cell_type": "markdown",
   "source": [
    "# --------- Definindo lastOrder_accountLifetime ---------\n"
   ],
   "metadata": {}
  },
  {
   "cell_type": "code",
   "execution_count": 27,
   "source": [
    "# Criando variável lastOrder_accountLifetime\n",
    "transact_test_database_x_by_mean['lastOrder_accountLifetime'] = transact_test_database_x_by_mean['lastOrder'] / transact_test_database_x_by_mean['accountLifetime']\n",
    "transact_train_database_x_by_mean['lastOrder_accountLifetime'] = transact_train_database_x_by_mean['lastOrder'] / transact_train_database_x_by_mean['accountLifetime']\n"
   ],
   "outputs": [],
   "metadata": {}
  },
  {
   "cell_type": "code",
   "execution_count": 28,
   "source": [
    "# Criando variável bCount_cCount\n",
    "transact_test_database_x_by_mean['bCount_cCount'] = transact_test_database_x_by_mean['bCount'] / transact_test_database_x_by_mean['cCount']\n",
    "transact_train_database_x_by_mean['bCount_cCount'] = transact_train_database_x_by_mean['bCount'] / transact_train_database_x_by_mean['cCount']\n"
   ],
   "outputs": [],
   "metadata": {}
  },
  {
   "cell_type": "code",
   "execution_count": 29,
   "source": [
    "transact_test_database_x_by_mean.head()"
   ],
   "outputs": [
    {
     "data": {
      "text/plain": "           startHour  startWeekday  duration  cCount  cMinPrice  cMaxPrice  \\\nsessionNo                                                                    \n1                 18             7   624.606      11      16.99      39.99   \n2                 18             7  2804.705      16      34.99      34.99   \n3                 18             7  7401.384     119       7.99      59.95   \n4                 18             7  2853.550     152       3.99     239.99   \n5                 18             7    48.145       2      29.99      29.99   \n\n           cSumPrice  bCount  bMinPrice  bMaxPrice  ...  maxVal  \\\nsessionNo                                           ...           \n1             207.91       5      16.99      39.99  ...  1300.0   \n2             174.95       2      34.99      34.99  ...  1200.0   \n3            3263.57      12      12.49      39.95  ...   600.0   \n4            5642.50       4       9.99      14.99  ...  8500.0   \n5              59.98       1      29.99      29.99  ...   600.0   \n\n           customerScore accountLifetime payments   age  address  lastOrder  \\\nsessionNo                                                                     \n1                  489.0           188.0      5.0  49.0      1.0       65.0   \n2                  543.0            43.0      5.0  29.0      2.0      184.0   \n3                  552.0            17.0      4.0  37.0      2.0      107.0   \n4                  535.0           226.0     19.0  49.0      2.0       17.0   \n5                  543.0            39.0      2.0  53.0      2.0      234.0   \n\n           bSumPrice_cSumPrice  lastOrder_accountLifetime  bCount_cCount  \nsessionNo                                                                 \n1                     0.543264                   0.345745       0.454545  \n2                     0.400000                   4.279070       0.125000  \n3                     0.106190                   6.294118       0.100840  \n4                     0.007968                   0.075221       0.026316  \n5                     0.500000                   6.000000       0.500000  \n\n[5 rows x 25 columns]",
      "text/html": "<div>\n<style scoped>\n    .dataframe tbody tr th:only-of-type {\n        vertical-align: middle;\n    }\n\n    .dataframe tbody tr th {\n        vertical-align: top;\n    }\n\n    .dataframe thead th {\n        text-align: right;\n    }\n</style>\n<table border=\"1\" class=\"dataframe\">\n  <thead>\n    <tr style=\"text-align: right;\">\n      <th></th>\n      <th>startHour</th>\n      <th>startWeekday</th>\n      <th>duration</th>\n      <th>cCount</th>\n      <th>cMinPrice</th>\n      <th>cMaxPrice</th>\n      <th>cSumPrice</th>\n      <th>bCount</th>\n      <th>bMinPrice</th>\n      <th>bMaxPrice</th>\n      <th>...</th>\n      <th>maxVal</th>\n      <th>customerScore</th>\n      <th>accountLifetime</th>\n      <th>payments</th>\n      <th>age</th>\n      <th>address</th>\n      <th>lastOrder</th>\n      <th>bSumPrice_cSumPrice</th>\n      <th>lastOrder_accountLifetime</th>\n      <th>bCount_cCount</th>\n    </tr>\n    <tr>\n      <th>sessionNo</th>\n      <th></th>\n      <th></th>\n      <th></th>\n      <th></th>\n      <th></th>\n      <th></th>\n      <th></th>\n      <th></th>\n      <th></th>\n      <th></th>\n      <th></th>\n      <th></th>\n      <th></th>\n      <th></th>\n      <th></th>\n      <th></th>\n      <th></th>\n      <th></th>\n      <th></th>\n      <th></th>\n      <th></th>\n    </tr>\n  </thead>\n  <tbody>\n    <tr>\n      <th>1</th>\n      <td>18</td>\n      <td>7</td>\n      <td>624.606</td>\n      <td>11</td>\n      <td>16.99</td>\n      <td>39.99</td>\n      <td>207.91</td>\n      <td>5</td>\n      <td>16.99</td>\n      <td>39.99</td>\n      <td>...</td>\n      <td>1300.0</td>\n      <td>489.0</td>\n      <td>188.0</td>\n      <td>5.0</td>\n      <td>49.0</td>\n      <td>1.0</td>\n      <td>65.0</td>\n      <td>0.543264</td>\n      <td>0.345745</td>\n      <td>0.454545</td>\n    </tr>\n    <tr>\n      <th>2</th>\n      <td>18</td>\n      <td>7</td>\n      <td>2804.705</td>\n      <td>16</td>\n      <td>34.99</td>\n      <td>34.99</td>\n      <td>174.95</td>\n      <td>2</td>\n      <td>34.99</td>\n      <td>34.99</td>\n      <td>...</td>\n      <td>1200.0</td>\n      <td>543.0</td>\n      <td>43.0</td>\n      <td>5.0</td>\n      <td>29.0</td>\n      <td>2.0</td>\n      <td>184.0</td>\n      <td>0.400000</td>\n      <td>4.279070</td>\n      <td>0.125000</td>\n    </tr>\n    <tr>\n      <th>3</th>\n      <td>18</td>\n      <td>7</td>\n      <td>7401.384</td>\n      <td>119</td>\n      <td>7.99</td>\n      <td>59.95</td>\n      <td>3263.57</td>\n      <td>12</td>\n      <td>12.49</td>\n      <td>39.95</td>\n      <td>...</td>\n      <td>600.0</td>\n      <td>552.0</td>\n      <td>17.0</td>\n      <td>4.0</td>\n      <td>37.0</td>\n      <td>2.0</td>\n      <td>107.0</td>\n      <td>0.106190</td>\n      <td>6.294118</td>\n      <td>0.100840</td>\n    </tr>\n    <tr>\n      <th>4</th>\n      <td>18</td>\n      <td>7</td>\n      <td>2853.550</td>\n      <td>152</td>\n      <td>3.99</td>\n      <td>239.99</td>\n      <td>5642.50</td>\n      <td>4</td>\n      <td>9.99</td>\n      <td>14.99</td>\n      <td>...</td>\n      <td>8500.0</td>\n      <td>535.0</td>\n      <td>226.0</td>\n      <td>19.0</td>\n      <td>49.0</td>\n      <td>2.0</td>\n      <td>17.0</td>\n      <td>0.007968</td>\n      <td>0.075221</td>\n      <td>0.026316</td>\n    </tr>\n    <tr>\n      <th>5</th>\n      <td>18</td>\n      <td>7</td>\n      <td>48.145</td>\n      <td>2</td>\n      <td>29.99</td>\n      <td>29.99</td>\n      <td>59.98</td>\n      <td>1</td>\n      <td>29.99</td>\n      <td>29.99</td>\n      <td>...</td>\n      <td>600.0</td>\n      <td>543.0</td>\n      <td>39.0</td>\n      <td>2.0</td>\n      <td>53.0</td>\n      <td>2.0</td>\n      <td>234.0</td>\n      <td>0.500000</td>\n      <td>6.000000</td>\n      <td>0.500000</td>\n    </tr>\n  </tbody>\n</table>\n<p>5 rows × 25 columns</p>\n</div>"
     },
     "execution_count": 29,
     "metadata": {},
     "output_type": "execute_result"
    }
   ],
   "metadata": {}
  },
  {
   "cell_type": "code",
   "execution_count": 30,
   "source": [
    "transact_train_database_x_by_mean.head()"
   ],
   "outputs": [
    {
     "data": {
      "text/plain": "           startHour  startWeekday  duration  cCount  cMinPrice  cMaxPrice  \\\nsessionNo                                                                    \n1                  6             5    39.887       1      59.99      59.99   \n2                  6             5    94.469       0        NaN        NaN   \n3                  6             5   341.613      11       9.99      29.99   \n4                  6             5    42.812       4       4.99       4.99   \n5                  6             5  2816.046      45      12.99     179.95   \n\n           cSumPrice  bCount  bMinPrice  bMaxPrice  ...  maxVal  \\\nsessionNo                                           ...           \n1              59.99       1      59.99      59.99  ...   600.0   \n2                NaN       0        NaN        NaN  ...     0.0   \n3             109.95       2       9.99      29.99  ...  1800.0   \n4              19.96       1       4.99       4.99  ...     0.0   \n5            1093.72       4      19.99      27.85  ...   800.0   \n\n           customerScore accountLifetime payments   age  address  lastOrder  \\\nsessionNo                                                                     \n1                   70.0            21.0      1.0  43.0      1.0       49.0   \n2                    0.0             0.0      0.0   0.0      0.0        0.0   \n3                  475.0           302.0     12.0  45.0      1.0       11.0   \n4                    0.0             0.0      0.0   0.0      0.0        0.0   \n5                  503.0            18.0      1.0  46.0      1.0       40.0   \n\n           bSumPrice_cSumPrice  lastOrder_accountLifetime  bCount_cCount  \nsessionNo                                                                 \n1                     1.000000                   2.333333       1.000000  \n2                          NaN                        NaN            NaN  \n3                     0.363620                   0.036424       0.181818  \n4                     0.250000                        NaN       0.250000  \n5                     0.094668                   2.222222       0.088889  \n\n[5 rows x 25 columns]",
      "text/html": "<div>\n<style scoped>\n    .dataframe tbody tr th:only-of-type {\n        vertical-align: middle;\n    }\n\n    .dataframe tbody tr th {\n        vertical-align: top;\n    }\n\n    .dataframe thead th {\n        text-align: right;\n    }\n</style>\n<table border=\"1\" class=\"dataframe\">\n  <thead>\n    <tr style=\"text-align: right;\">\n      <th></th>\n      <th>startHour</th>\n      <th>startWeekday</th>\n      <th>duration</th>\n      <th>cCount</th>\n      <th>cMinPrice</th>\n      <th>cMaxPrice</th>\n      <th>cSumPrice</th>\n      <th>bCount</th>\n      <th>bMinPrice</th>\n      <th>bMaxPrice</th>\n      <th>...</th>\n      <th>maxVal</th>\n      <th>customerScore</th>\n      <th>accountLifetime</th>\n      <th>payments</th>\n      <th>age</th>\n      <th>address</th>\n      <th>lastOrder</th>\n      <th>bSumPrice_cSumPrice</th>\n      <th>lastOrder_accountLifetime</th>\n      <th>bCount_cCount</th>\n    </tr>\n    <tr>\n      <th>sessionNo</th>\n      <th></th>\n      <th></th>\n      <th></th>\n      <th></th>\n      <th></th>\n      <th></th>\n      <th></th>\n      <th></th>\n      <th></th>\n      <th></th>\n      <th></th>\n      <th></th>\n      <th></th>\n      <th></th>\n      <th></th>\n      <th></th>\n      <th></th>\n      <th></th>\n      <th></th>\n      <th></th>\n      <th></th>\n    </tr>\n  </thead>\n  <tbody>\n    <tr>\n      <th>1</th>\n      <td>6</td>\n      <td>5</td>\n      <td>39.887</td>\n      <td>1</td>\n      <td>59.99</td>\n      <td>59.99</td>\n      <td>59.99</td>\n      <td>1</td>\n      <td>59.99</td>\n      <td>59.99</td>\n      <td>...</td>\n      <td>600.0</td>\n      <td>70.0</td>\n      <td>21.0</td>\n      <td>1.0</td>\n      <td>43.0</td>\n      <td>1.0</td>\n      <td>49.0</td>\n      <td>1.000000</td>\n      <td>2.333333</td>\n      <td>1.000000</td>\n    </tr>\n    <tr>\n      <th>2</th>\n      <td>6</td>\n      <td>5</td>\n      <td>94.469</td>\n      <td>0</td>\n      <td>NaN</td>\n      <td>NaN</td>\n      <td>NaN</td>\n      <td>0</td>\n      <td>NaN</td>\n      <td>NaN</td>\n      <td>...</td>\n      <td>0.0</td>\n      <td>0.0</td>\n      <td>0.0</td>\n      <td>0.0</td>\n      <td>0.0</td>\n      <td>0.0</td>\n      <td>0.0</td>\n      <td>NaN</td>\n      <td>NaN</td>\n      <td>NaN</td>\n    </tr>\n    <tr>\n      <th>3</th>\n      <td>6</td>\n      <td>5</td>\n      <td>341.613</td>\n      <td>11</td>\n      <td>9.99</td>\n      <td>29.99</td>\n      <td>109.95</td>\n      <td>2</td>\n      <td>9.99</td>\n      <td>29.99</td>\n      <td>...</td>\n      <td>1800.0</td>\n      <td>475.0</td>\n      <td>302.0</td>\n      <td>12.0</td>\n      <td>45.0</td>\n      <td>1.0</td>\n      <td>11.0</td>\n      <td>0.363620</td>\n      <td>0.036424</td>\n      <td>0.181818</td>\n    </tr>\n    <tr>\n      <th>4</th>\n      <td>6</td>\n      <td>5</td>\n      <td>42.812</td>\n      <td>4</td>\n      <td>4.99</td>\n      <td>4.99</td>\n      <td>19.96</td>\n      <td>1</td>\n      <td>4.99</td>\n      <td>4.99</td>\n      <td>...</td>\n      <td>0.0</td>\n      <td>0.0</td>\n      <td>0.0</td>\n      <td>0.0</td>\n      <td>0.0</td>\n      <td>0.0</td>\n      <td>0.0</td>\n      <td>0.250000</td>\n      <td>NaN</td>\n      <td>0.250000</td>\n    </tr>\n    <tr>\n      <th>5</th>\n      <td>6</td>\n      <td>5</td>\n      <td>2816.046</td>\n      <td>45</td>\n      <td>12.99</td>\n      <td>179.95</td>\n      <td>1093.72</td>\n      <td>4</td>\n      <td>19.99</td>\n      <td>27.85</td>\n      <td>...</td>\n      <td>800.0</td>\n      <td>503.0</td>\n      <td>18.0</td>\n      <td>1.0</td>\n      <td>46.0</td>\n      <td>1.0</td>\n      <td>40.0</td>\n      <td>0.094668</td>\n      <td>2.222222</td>\n      <td>0.088889</td>\n    </tr>\n  </tbody>\n</table>\n<p>5 rows × 25 columns</p>\n</div>"
     },
     "execution_count": 30,
     "metadata": {},
     "output_type": "execute_result"
    }
   ],
   "metadata": {}
  },
  {
   "cell_type": "markdown",
   "source": [
    "# Transformação dos Dados"
   ],
   "metadata": {}
  },
  {
   "cell_type": "code",
   "execution_count": 31,
   "source": [
    "#  Remove variáveis contendo ids\n",
    "transact_train_database_x_by_mean = transact_train_database_x_by_mean.drop('customerNo', axis=1)\n",
    "transact_test_database_x_by_mean = transact_test_database_x_by_mean.drop('customerNo', axis=1)"
   ],
   "outputs": [],
   "metadata": {}
  },
  {
   "cell_type": "code",
   "execution_count": 32,
   "source": [
    "# Criação de variáveis dummies\n",
    "transact_train_database_x_by_mean = pd.get_dummies(transact_train_database_x_by_mean, prefix='_')\n",
    "transact_test_database_x_by_mean = pd.get_dummies(transact_test_database_x_by_mean, prefix='_')"
   ],
   "outputs": [],
   "metadata": {}
  },
  {
   "cell_type": "code",
   "execution_count": 33,
   "source": [
    "assert(transact_train_database_x_by_mean.shape[1] == transact_test_database_x_by_mean.shape[1]), 'Número de variáveis diferente'"
   ],
   "outputs": [
    {
     "ename": "AssertionError",
     "evalue": "Número de variáveis diferente",
     "output_type": "error",
     "traceback": [
      "\u001B[0;31m---------------------------------------------------------------------------\u001B[0m",
      "\u001B[0;31mAssertionError\u001B[0m                            Traceback (most recent call last)",
      "\u001B[0;32m/tmp/ipykernel_14625/2999007962.py\u001B[0m in \u001B[0;36m<module>\u001B[0;34m\u001B[0m\n\u001B[0;32m----> 1\u001B[0;31m \u001B[0;32massert\u001B[0m\u001B[0;34m(\u001B[0m\u001B[0mtransact_train_database_x_by_mean\u001B[0m\u001B[0;34m.\u001B[0m\u001B[0mshape\u001B[0m\u001B[0;34m[\u001B[0m\u001B[0;36m1\u001B[0m\u001B[0;34m]\u001B[0m \u001B[0;34m==\u001B[0m \u001B[0mtransact_test_database_x_by_mean\u001B[0m\u001B[0;34m.\u001B[0m\u001B[0mshape\u001B[0m\u001B[0;34m[\u001B[0m\u001B[0;36m1\u001B[0m\u001B[0;34m]\u001B[0m\u001B[0;34m)\u001B[0m\u001B[0;34m,\u001B[0m \u001B[0;34m'Número de variáveis diferente'\u001B[0m\u001B[0;34m\u001B[0m\u001B[0;34m\u001B[0m\u001B[0m\n\u001B[0m\u001B[1;32m      2\u001B[0m \u001B[0;34m\u001B[0m\u001B[0m\n",
      "\u001B[0;31mAssertionError\u001B[0m: Número de variáveis diferente"
     ]
    }
   ],
   "metadata": {}
  },
  {
   "cell_type": "code",
   "execution_count": null,
   "source": [
    "variables_transact_train_database_x = list(transact_train_database_x_by_mean.columns)\n",
    "variables_transact_test_database_x = list(transact_test_database_x_by_mean.columns)\n",
    "\n",
    "in_train_not_test = [i for i in variables_transact_train_database_x if i not in variables_transact_test_database_x]\n",
    "in_test_not_train = [i for i in variables_transact_test_database_x if i not in variables_transact_train_database_x]\n",
    "\n",
    "if len(in_train_not_test) > 0:\n",
    "    print('Variáveis que tão no treinamneto e não no teste')\n",
    "    print(in_train_not_test)\n",
    "else:\n",
    "    print('Todas as variáveis do treinamento estão no teste')\n",
    "\n",
    "if len(in_test_not_train) > 0:\n",
    "    print('Variáveis que tão no teste e não no treinamento')\n",
    "    print(in_test_not_train)\n",
    "else:\n",
    "    print('Todas as variáveis do teste estão no treinamento')"
   ],
   "outputs": [],
   "metadata": {}
  },
  {
   "cell_type": "code",
   "execution_count": null,
   "source": [
    "transact_train_database_x_by_mean['__mainly not determinable'] = transact_train_database_x_by_mean['__mainly not determinable'] + transact_train_database_x_by_mean['__mainly not determinable']\n",
    "transact_train_database_x_by_mean = transact_train_database_x_by_mean.drop('__mainly not determinable', axis=1)"
   ],
   "outputs": [],
   "metadata": {}
  },
  {
   "cell_type": "code",
   "execution_count": null,
   "source": [
    "assert(transact_train_database_x_by_mean.shape[1] == transact_test_database_x_by_mean.shape[1]), 'Número de variáveis diferente'"
   ],
   "outputs": [],
   "metadata": {}
  },
  {
   "cell_type": "code",
   "execution_count": null,
   "source": [
    "# Checando se todas as colunas estão como numericas, ou seja, não existem variáveis String (type object)\n",
    "columns_obj = transact_train_database_x_by_mean.dtypes[transact_train_database_x_by_mean.dtypes == np.object]\n",
    "\n",
    "assert(len(columns_obj) == 0), 'Existem variáveis do tipo object'\n",
    "\n",
    "columns_obj_test = transact_test_database_x_by_mean.dtypes[transact_test_database_x_by_mean.dtypes == np.object]\n",
    "\n",
    "assert(len(columns_obj_test) == 0), 'Existem variáveis do tipo object'\n",
    "\n",
    "print('Passou no teste: as bases não possuem variáveis String!')"
   ],
   "outputs": [],
   "metadata": {}
  },
  {
   "cell_type": "markdown",
   "source": [
    "# Salvando as bases de dados"
   ],
   "metadata": {}
  },
  {
   "cell_type": "code",
   "execution_count": null,
   "source": [
    "transact_train_database_x_by_mean.to_csv('transact_train_database_x_by_mean.csv', index=False)\n",
    "transact_test_database_x_by_mean.to_csv('transact_test_database_x_by_mean.csv', index=False)\n",
    "transact_train_database_x_by_mean.to_csv('transact_train_database_x_by_mean.csv', index=False)\n",
    "transact_train_database_y.to_csv('transact_train_database_y_by_mean.csv', index=False, header=True)"
   ],
   "outputs": [],
   "metadata": {}
  }
 ],
 "metadata": {
  "orig_nbformat": 4,
  "language_info": {
   "name": "python",
   "version": "3.8.10",
   "mimetype": "text/x-python",
   "codemirror_mode": {
    "name": "ipython",
    "version": 3
   },
   "pygments_lexer": "ipython3",
   "nbconvert_exporter": "python",
   "file_extension": ".py"
  },
  "kernelspec": {
   "name": "python3",
   "language": "python",
   "display_name": "Python 3 (ipykernel)"
  },
  "interpreter": {
   "hash": "31f2aee4e71d21fbe5cf8b01ff0e069b9275f58929596ceb00d14d90e3e16cd6"
  }
 },
 "nbformat": 4,
 "nbformat_minor": 2
}