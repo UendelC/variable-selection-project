{
 "cells": [
  {
   "cell_type": "markdown",
   "metadata": {},
   "source": [
    "Importando bibliotecas"
   ]
  },
  {
   "cell_type": "code",
   "execution_count": 65,
   "metadata": {},
   "outputs": [],
   "source": [
    "import numpy as np\n",
    "import pandas as pd"
   ]
  },
  {
   "cell_type": "code",
   "execution_count": 66,
   "metadata": {},
   "outputs": [],
   "source": [
    "TRN_Original = pd.read_csv('data/transact_train.txt', sep='|')"
   ]
  },
  {
   "cell_type": "code",
   "execution_count": 67,
   "metadata": {},
   "outputs": [],
   "source": [
    "TST_Original = pd.read_csv('data/transact_class.txt', sep='|')\n"
   ]
  },
  {
   "cell_type": "code",
   "execution_count": 68,
   "metadata": {},
   "outputs": [
    {
     "ename": "FileNotFoundError",
     "evalue": "[Errno 2] No such file or directory: 'data/realclass_t2.txt'",
     "output_type": "error",
     "traceback": [
      "\u001B[0;31m---------------------------------------------------------------------------\u001B[0m",
      "\u001B[0;31mFileNotFoundError\u001B[0m                         Traceback (most recent call last)",
      "\u001B[0;32m/tmp/ipykernel_15849/2330058239.py\u001B[0m in \u001B[0;36m<module>\u001B[0;34m\u001B[0m\n\u001B[0;32m----> 1\u001B[0;31m \u001B[0mTST_Y_Original\u001B[0m \u001B[0;34m=\u001B[0m \u001B[0mpd\u001B[0m\u001B[0;34m.\u001B[0m\u001B[0mread_csv\u001B[0m\u001B[0;34m(\u001B[0m\u001B[0;34m'data/realclass_t2.txt'\u001B[0m\u001B[0;34m,\u001B[0m \u001B[0msep\u001B[0m\u001B[0;34m=\u001B[0m\u001B[0;34m'|'\u001B[0m\u001B[0;34m)\u001B[0m\u001B[0;34m\u001B[0m\u001B[0;34m\u001B[0m\u001B[0m\n\u001B[0m",
      "\u001B[0;32m~/PycharmProjects/variable-selection-project/venv/lib64/python3.9/site-packages/pandas/util/_decorators.py\u001B[0m in \u001B[0;36mwrapper\u001B[0;34m(*args, **kwargs)\u001B[0m\n\u001B[1;32m    309\u001B[0m                     \u001B[0mstacklevel\u001B[0m\u001B[0;34m=\u001B[0m\u001B[0mstacklevel\u001B[0m\u001B[0;34m,\u001B[0m\u001B[0;34m\u001B[0m\u001B[0;34m\u001B[0m\u001B[0m\n\u001B[1;32m    310\u001B[0m                 )\n\u001B[0;32m--> 311\u001B[0;31m             \u001B[0;32mreturn\u001B[0m \u001B[0mfunc\u001B[0m\u001B[0;34m(\u001B[0m\u001B[0;34m*\u001B[0m\u001B[0margs\u001B[0m\u001B[0;34m,\u001B[0m \u001B[0;34m**\u001B[0m\u001B[0mkwargs\u001B[0m\u001B[0;34m)\u001B[0m\u001B[0;34m\u001B[0m\u001B[0;34m\u001B[0m\u001B[0m\n\u001B[0m\u001B[1;32m    312\u001B[0m \u001B[0;34m\u001B[0m\u001B[0m\n\u001B[1;32m    313\u001B[0m         \u001B[0;32mreturn\u001B[0m \u001B[0mwrapper\u001B[0m\u001B[0;34m\u001B[0m\u001B[0;34m\u001B[0m\u001B[0m\n",
      "\u001B[0;32m~/PycharmProjects/variable-selection-project/venv/lib64/python3.9/site-packages/pandas/io/parsers/readers.py\u001B[0m in \u001B[0;36mread_csv\u001B[0;34m(filepath_or_buffer, sep, delimiter, header, names, index_col, usecols, squeeze, prefix, mangle_dupe_cols, dtype, engine, converters, true_values, false_values, skipinitialspace, skiprows, skipfooter, nrows, na_values, keep_default_na, na_filter, verbose, skip_blank_lines, parse_dates, infer_datetime_format, keep_date_col, date_parser, dayfirst, cache_dates, iterator, chunksize, compression, thousands, decimal, lineterminator, quotechar, quoting, doublequote, escapechar, comment, encoding, encoding_errors, dialect, error_bad_lines, warn_bad_lines, on_bad_lines, delim_whitespace, low_memory, memory_map, float_precision, storage_options)\u001B[0m\n\u001B[1;32m    584\u001B[0m     \u001B[0mkwds\u001B[0m\u001B[0;34m.\u001B[0m\u001B[0mupdate\u001B[0m\u001B[0;34m(\u001B[0m\u001B[0mkwds_defaults\u001B[0m\u001B[0;34m)\u001B[0m\u001B[0;34m\u001B[0m\u001B[0;34m\u001B[0m\u001B[0m\n\u001B[1;32m    585\u001B[0m \u001B[0;34m\u001B[0m\u001B[0m\n\u001B[0;32m--> 586\u001B[0;31m     \u001B[0;32mreturn\u001B[0m \u001B[0m_read\u001B[0m\u001B[0;34m(\u001B[0m\u001B[0mfilepath_or_buffer\u001B[0m\u001B[0;34m,\u001B[0m \u001B[0mkwds\u001B[0m\u001B[0;34m)\u001B[0m\u001B[0;34m\u001B[0m\u001B[0;34m\u001B[0m\u001B[0m\n\u001B[0m\u001B[1;32m    587\u001B[0m \u001B[0;34m\u001B[0m\u001B[0m\n\u001B[1;32m    588\u001B[0m \u001B[0;34m\u001B[0m\u001B[0m\n",
      "\u001B[0;32m~/PycharmProjects/variable-selection-project/venv/lib64/python3.9/site-packages/pandas/io/parsers/readers.py\u001B[0m in \u001B[0;36m_read\u001B[0;34m(filepath_or_buffer, kwds)\u001B[0m\n\u001B[1;32m    480\u001B[0m \u001B[0;34m\u001B[0m\u001B[0m\n\u001B[1;32m    481\u001B[0m     \u001B[0;31m# Create the parser.\u001B[0m\u001B[0;34m\u001B[0m\u001B[0;34m\u001B[0m\u001B[0;34m\u001B[0m\u001B[0m\n\u001B[0;32m--> 482\u001B[0;31m     \u001B[0mparser\u001B[0m \u001B[0;34m=\u001B[0m \u001B[0mTextFileReader\u001B[0m\u001B[0;34m(\u001B[0m\u001B[0mfilepath_or_buffer\u001B[0m\u001B[0;34m,\u001B[0m \u001B[0;34m**\u001B[0m\u001B[0mkwds\u001B[0m\u001B[0;34m)\u001B[0m\u001B[0;34m\u001B[0m\u001B[0;34m\u001B[0m\u001B[0m\n\u001B[0m\u001B[1;32m    483\u001B[0m \u001B[0;34m\u001B[0m\u001B[0m\n\u001B[1;32m    484\u001B[0m     \u001B[0;32mif\u001B[0m \u001B[0mchunksize\u001B[0m \u001B[0;32mor\u001B[0m \u001B[0miterator\u001B[0m\u001B[0;34m:\u001B[0m\u001B[0;34m\u001B[0m\u001B[0;34m\u001B[0m\u001B[0m\n",
      "\u001B[0;32m~/PycharmProjects/variable-selection-project/venv/lib64/python3.9/site-packages/pandas/io/parsers/readers.py\u001B[0m in \u001B[0;36m__init__\u001B[0;34m(self, f, engine, **kwds)\u001B[0m\n\u001B[1;32m    809\u001B[0m             \u001B[0mself\u001B[0m\u001B[0;34m.\u001B[0m\u001B[0moptions\u001B[0m\u001B[0;34m[\u001B[0m\u001B[0;34m\"has_index_names\"\u001B[0m\u001B[0;34m]\u001B[0m \u001B[0;34m=\u001B[0m \u001B[0mkwds\u001B[0m\u001B[0;34m[\u001B[0m\u001B[0;34m\"has_index_names\"\u001B[0m\u001B[0;34m]\u001B[0m\u001B[0;34m\u001B[0m\u001B[0;34m\u001B[0m\u001B[0m\n\u001B[1;32m    810\u001B[0m \u001B[0;34m\u001B[0m\u001B[0m\n\u001B[0;32m--> 811\u001B[0;31m         \u001B[0mself\u001B[0m\u001B[0;34m.\u001B[0m\u001B[0m_engine\u001B[0m \u001B[0;34m=\u001B[0m \u001B[0mself\u001B[0m\u001B[0;34m.\u001B[0m\u001B[0m_make_engine\u001B[0m\u001B[0;34m(\u001B[0m\u001B[0mself\u001B[0m\u001B[0;34m.\u001B[0m\u001B[0mengine\u001B[0m\u001B[0;34m)\u001B[0m\u001B[0;34m\u001B[0m\u001B[0;34m\u001B[0m\u001B[0m\n\u001B[0m\u001B[1;32m    812\u001B[0m \u001B[0;34m\u001B[0m\u001B[0m\n\u001B[1;32m    813\u001B[0m     \u001B[0;32mdef\u001B[0m \u001B[0mclose\u001B[0m\u001B[0;34m(\u001B[0m\u001B[0mself\u001B[0m\u001B[0;34m)\u001B[0m\u001B[0;34m:\u001B[0m\u001B[0;34m\u001B[0m\u001B[0;34m\u001B[0m\u001B[0m\n",
      "\u001B[0;32m~/PycharmProjects/variable-selection-project/venv/lib64/python3.9/site-packages/pandas/io/parsers/readers.py\u001B[0m in \u001B[0;36m_make_engine\u001B[0;34m(self, engine)\u001B[0m\n\u001B[1;32m   1038\u001B[0m             )\n\u001B[1;32m   1039\u001B[0m         \u001B[0;31m# error: Too many arguments for \"ParserBase\"\u001B[0m\u001B[0;34m\u001B[0m\u001B[0;34m\u001B[0m\u001B[0;34m\u001B[0m\u001B[0m\n\u001B[0;32m-> 1040\u001B[0;31m         \u001B[0;32mreturn\u001B[0m \u001B[0mmapping\u001B[0m\u001B[0;34m[\u001B[0m\u001B[0mengine\u001B[0m\u001B[0;34m]\u001B[0m\u001B[0;34m(\u001B[0m\u001B[0mself\u001B[0m\u001B[0;34m.\u001B[0m\u001B[0mf\u001B[0m\u001B[0;34m,\u001B[0m \u001B[0;34m**\u001B[0m\u001B[0mself\u001B[0m\u001B[0;34m.\u001B[0m\u001B[0moptions\u001B[0m\u001B[0;34m)\u001B[0m  \u001B[0;31m# type: ignore[call-arg]\u001B[0m\u001B[0;34m\u001B[0m\u001B[0;34m\u001B[0m\u001B[0m\n\u001B[0m\u001B[1;32m   1041\u001B[0m \u001B[0;34m\u001B[0m\u001B[0m\n\u001B[1;32m   1042\u001B[0m     \u001B[0;32mdef\u001B[0m \u001B[0m_failover_to_python\u001B[0m\u001B[0;34m(\u001B[0m\u001B[0mself\u001B[0m\u001B[0;34m)\u001B[0m\u001B[0;34m:\u001B[0m\u001B[0;34m\u001B[0m\u001B[0;34m\u001B[0m\u001B[0m\n",
      "\u001B[0;32m~/PycharmProjects/variable-selection-project/venv/lib64/python3.9/site-packages/pandas/io/parsers/c_parser_wrapper.py\u001B[0m in \u001B[0;36m__init__\u001B[0;34m(self, src, **kwds)\u001B[0m\n\u001B[1;32m     49\u001B[0m \u001B[0;34m\u001B[0m\u001B[0m\n\u001B[1;32m     50\u001B[0m         \u001B[0;31m# open handles\u001B[0m\u001B[0;34m\u001B[0m\u001B[0;34m\u001B[0m\u001B[0;34m\u001B[0m\u001B[0m\n\u001B[0;32m---> 51\u001B[0;31m         \u001B[0mself\u001B[0m\u001B[0;34m.\u001B[0m\u001B[0m_open_handles\u001B[0m\u001B[0;34m(\u001B[0m\u001B[0msrc\u001B[0m\u001B[0;34m,\u001B[0m \u001B[0mkwds\u001B[0m\u001B[0;34m)\u001B[0m\u001B[0;34m\u001B[0m\u001B[0;34m\u001B[0m\u001B[0m\n\u001B[0m\u001B[1;32m     52\u001B[0m         \u001B[0;32massert\u001B[0m \u001B[0mself\u001B[0m\u001B[0;34m.\u001B[0m\u001B[0mhandles\u001B[0m \u001B[0;32mis\u001B[0m \u001B[0;32mnot\u001B[0m \u001B[0;32mNone\u001B[0m\u001B[0;34m\u001B[0m\u001B[0;34m\u001B[0m\u001B[0m\n\u001B[1;32m     53\u001B[0m \u001B[0;34m\u001B[0m\u001B[0m\n",
      "\u001B[0;32m~/PycharmProjects/variable-selection-project/venv/lib64/python3.9/site-packages/pandas/io/parsers/base_parser.py\u001B[0m in \u001B[0;36m_open_handles\u001B[0;34m(self, src, kwds)\u001B[0m\n\u001B[1;32m    220\u001B[0m         \u001B[0mLet\u001B[0m \u001B[0mthe\u001B[0m \u001B[0mreaders\u001B[0m \u001B[0mopen\u001B[0m \u001B[0mIOHandles\u001B[0m \u001B[0mafter\u001B[0m \u001B[0mthey\u001B[0m \u001B[0mare\u001B[0m \u001B[0mdone\u001B[0m \u001B[0;32mwith\u001B[0m \u001B[0mtheir\u001B[0m \u001B[0mpotential\u001B[0m \u001B[0mraises\u001B[0m\u001B[0;34m.\u001B[0m\u001B[0;34m\u001B[0m\u001B[0;34m\u001B[0m\u001B[0m\n\u001B[1;32m    221\u001B[0m         \"\"\"\n\u001B[0;32m--> 222\u001B[0;31m         self.handles = get_handle(\n\u001B[0m\u001B[1;32m    223\u001B[0m             \u001B[0msrc\u001B[0m\u001B[0;34m,\u001B[0m\u001B[0;34m\u001B[0m\u001B[0;34m\u001B[0m\u001B[0m\n\u001B[1;32m    224\u001B[0m             \u001B[0;34m\"r\"\u001B[0m\u001B[0;34m,\u001B[0m\u001B[0;34m\u001B[0m\u001B[0;34m\u001B[0m\u001B[0m\n",
      "\u001B[0;32m~/PycharmProjects/variable-selection-project/venv/lib64/python3.9/site-packages/pandas/io/common.py\u001B[0m in \u001B[0;36mget_handle\u001B[0;34m(path_or_buf, mode, encoding, compression, memory_map, is_text, errors, storage_options)\u001B[0m\n\u001B[1;32m    699\u001B[0m         \u001B[0;32mif\u001B[0m \u001B[0mioargs\u001B[0m\u001B[0;34m.\u001B[0m\u001B[0mencoding\u001B[0m \u001B[0;32mand\u001B[0m \u001B[0;34m\"b\"\u001B[0m \u001B[0;32mnot\u001B[0m \u001B[0;32min\u001B[0m \u001B[0mioargs\u001B[0m\u001B[0;34m.\u001B[0m\u001B[0mmode\u001B[0m\u001B[0;34m:\u001B[0m\u001B[0;34m\u001B[0m\u001B[0;34m\u001B[0m\u001B[0m\n\u001B[1;32m    700\u001B[0m             \u001B[0;31m# Encoding\u001B[0m\u001B[0;34m\u001B[0m\u001B[0;34m\u001B[0m\u001B[0;34m\u001B[0m\u001B[0m\n\u001B[0;32m--> 701\u001B[0;31m             handle = open(\n\u001B[0m\u001B[1;32m    702\u001B[0m                 \u001B[0mhandle\u001B[0m\u001B[0;34m,\u001B[0m\u001B[0;34m\u001B[0m\u001B[0;34m\u001B[0m\u001B[0m\n\u001B[1;32m    703\u001B[0m                 \u001B[0mioargs\u001B[0m\u001B[0;34m.\u001B[0m\u001B[0mmode\u001B[0m\u001B[0;34m,\u001B[0m\u001B[0;34m\u001B[0m\u001B[0;34m\u001B[0m\u001B[0m\n",
      "\u001B[0;31mFileNotFoundError\u001B[0m: [Errno 2] No such file or directory: 'data/realclass_t2.txt'"
     ]
    }
   ],
   "source": [
    "TST_Y_Original = pd.read_csv('data/realclass_t2.txt', sep='|')"
   ]
  },
  {
   "cell_type": "code",
   "execution_count": null,
   "metadata": {},
   "outputs": [],
   "source": [
    "sessionIDs_TRN = TRN_Original['sessionNo']\n",
    "sessionIDs_TST = TST_Original['sessionNo']\n",
    "\n",
    "#Funçao que retorna um Dicionario onde: Key=Session e Value=Lista com o indice das linhas que sessionID = Key\n",
    "def getSessionWithTransaction(ReplicatedSession):\n",
    "    idx_TransactionSession = {s:[] for s in set(ReplicatedSession)}\n",
    "    for i in range(len(ReplicatedSession)):\n",
    "        s = ReplicatedSession[i]\n",
    "        idx_TransactionSession[s].append(i)\n",
    "    return idx_TransactionSession\n",
    "\n",
    "#Criando um dicionario com sessionID e a lista de transacoes\n",
    "idx_SessionWithTransaction_TRN = getSessionWithTransaction(sessionIDs_TRN)\n",
    "idx_SessionWithTransaction_TST = getSessionWithTransaction(sessionIDs_TST)\n",
    "\n",
    "#Recuperando o indice da linha da última transação por sessionID\n",
    "idx_lastTransactionBySession_TRN =[np.max(x) for x in idx_SessionWithTransaction_TRN.values()]\n",
    "idx_lastTransactionBySession_TST =[np.max(x) for x in idx_SessionWithTransaction_TST.values()]\n",
    "\n",
    "#Criando um DataFrame com a última transação por sessionID\n",
    "TRN_X = TRN_Original.iloc[idx_lastTransactionBySession_TRN,:-1]\n",
    "TRN_Y = TRN_Original.iloc[idx_lastTransactionBySession_TRN,-1]\n",
    "\n",
    "TST_X_tmp = TST_Original.iloc[idx_lastTransactionBySession_TST,:]\n",
    "# É preciso fazer uma cópia para eliminar o SettingWithCopyWarning\n",
    "TST_X = TST_X_tmp.copy()\n",
    "TST_Y = TST_Y_Original['prediction']"
   ]
  },
  {
   "cell_type": "code",
   "execution_count": null,
   "metadata": {},
   "outputs": [],
   "source": [
    "TRN_Y = TRN_Y.replace({'y': 1, 'n': 0})"
   ]
  },
  {
   "cell_type": "code",
   "execution_count": null,
   "metadata": {},
   "outputs": [],
   "source": [
    "l_varNumeric = ['cMinPrice', 'cMaxPrice', 'cSumPrice', 'bMinPrice',\n",
    "                'bMaxPrice', 'bSumPrice', 'bStep',\n",
    "                'maxVal', 'customerScore', 'accountLifetime', 'payments',\n",
    "                'age', 'address', 'lastOrder']"
   ]
  },
  {
   "cell_type": "code",
   "execution_count": null,
   "metadata": {},
   "outputs": [],
   "source": [
    "l_varString = ['availability', 'onlineStatus']\n"
   ]
  },
  {
   "cell_type": "code",
   "execution_count": null,
   "metadata": {},
   "outputs": [],
   "source": [
    "def replaceValueMissing(vl, listVar, data):\n",
    "    for v in listVar:\n",
    "        rows = data[v]==vl\n",
    "        #idxs = np.array(rows.index[rows])\n",
    "        data.loc[rows, v] = np.NaN"
   ]
  },
  {
   "cell_type": "code",
   "execution_count": null,
   "metadata": {},
   "outputs": [],
   "source": [
    "def convertFloat(listVar, data):\n",
    "    for v in listVar:\n",
    "        data[v] = data[v].astype(float)"
   ]
  },
  {
   "cell_type": "code",
   "execution_count": null,
   "metadata": {},
   "outputs": [],
   "source": [
    "def replaceMissingByMean(listVar, data):\n",
    "    for v in listVar:\n",
    "        avg = data[v].mean(axis=0)\n",
    "        data[v].fillna(avg, inplace=True)"
   ]
  },
  {
   "cell_type": "code",
   "execution_count": null,
   "metadata": {},
   "outputs": [],
   "source": [
    "def replaceMissingByFixedValue(vl, listVar, data):\n",
    "    for v in listVar:        \n",
    "        data[v].fillna(vl, inplace=True)"
   ]
  },
  {
   "cell_type": "code",
   "execution_count": null,
   "metadata": {},
   "outputs": [],
   "source": [
    "def replaceMissingByMode(listVar, data):\n",
    "    for v in listVar:\n",
    "        mode = data[v].mode()[0]\n",
    "        data[v].fillna(mode, inplace=True)"
   ]
  },
  {
   "cell_type": "code",
   "execution_count": null,
   "metadata": {},
   "outputs": [],
   "source": [
    "def replaceMissingByMedian(listVar, data):\n",
    "    for v in listVar:\n",
    "        med = data[v].median()\n",
    "        data[v].fillna(med, inplace=True)"
   ]
  },
  {
   "cell_type": "code",
   "execution_count": null,
   "metadata": {},
   "outputs": [],
   "source": [
    "# Substituindo a sring ? por np.nan em todas p/ todas as variaveis da base na granularidade do projeto\n",
    "replaceValueMissing('?', l_varNumeric, TRN_X)\n",
    "replaceValueMissing('?', l_varString, TRN_X)\n",
    "replaceValueMissing('?', l_varNumeric, TST_X)\n",
    "replaceValueMissing('?', l_varString, TST_X)\n",
    "\n",
    "# Convertendo as variáveis numéricas de object para float (pq int nao aceita calcular media com NaN)\n",
    "convertFloat(l_varNumeric, TRN_X)\n",
    "convertFloat(l_varNumeric, TST_X)\n",
    "\n",
    "# Substituindo os missing values das variáveis numéricas pela média\n",
    "replaceMissingByMedian(l_varNumeric, TRN_X)\n",
    "replaceMissingByMedian(l_varNumeric, TST_X)\n",
    "\n",
    "# Substituindo os missing values das variáveis String por um valor fixo\n",
    "replaceMissingByFixedValue('ausente', l_varString, TRN_X)\n",
    "replaceMissingByFixedValue('ausente', l_varString, TST_X)"
   ]
  },
  {
   "cell_type": "code",
   "execution_count": null,
   "metadata": {},
   "outputs": [],
   "source": [
    "# Atribuindo valor zero para as variáveis comportamentais que não possuim valor de customerNo\n",
    "\n",
    "# Treinamento\n",
    "rows_TRN = TRN_X['customerNo']==\"?\"\n",
    "TRN_X.loc[rows_TRN, 'maxVal']          = 0\n",
    "TRN_X.loc[rows_TRN, 'customerScore']   = 0\n",
    "TRN_X.loc[rows_TRN, 'accountLifetime'] = 0\n",
    "TRN_X.loc[rows_TRN, 'payments']        = 0\n",
    "TRN_X.loc[rows_TRN, 'age']             = 0\n",
    "TRN_X.loc[rows_TRN, 'address']         = 0\n",
    "TRN_X.loc[rows_TRN, 'lastOrder']       = 0\n",
    "\n",
    "# Teste\n",
    "rows_TST = TST_X['customerNo']==\"?\"\n",
    "TST_X.loc[rows_TST, 'maxVal']          = 0\n",
    "TST_X.loc[rows_TST, 'customerScore']   = 0\n",
    "TST_X.loc[rows_TST, 'accountLifetime'] = 0\n",
    "TST_X.loc[rows_TST, 'payments']        = 0\n",
    "TST_X.loc[rows_TST, 'age']             = 0\n",
    "TST_X.loc[rows_TST, 'address']         = 0\n",
    "TST_X.loc[rows_TST, 'lastOrder']       = 0"
   ]
  },
  {
   "cell_type": "code",
   "execution_count": null,
   "metadata": {},
   "outputs": [],
   "source": [
    "# Substituindo a sring ? por np.nan em todas p/ todas as variaveis da base a base original\n",
    "replaceValueMissing('?', l_varNumeric, TRN_Original)\n",
    "replaceValueMissing('?', l_varString, TRN_Original)\n",
    "replaceValueMissing('?', l_varNumeric, TST_Original)\n",
    "replaceValueMissing('?', l_varString, TST_Original)\n",
    "\n",
    "# Convertendo as variáveis numéricas de object para float (pq int nao aceita calcular media com NaN)   \n",
    "convertFloat(l_varNumeric, TRN_Original)\n",
    "convertFloat(l_varNumeric, TST_Original)"
   ]
  },
  {
   "cell_type": "code",
   "execution_count": null,
   "metadata": {},
   "outputs": [],
   "source": [
    "# Definindo o index para poder fazer a atribuição usando o groupby\n",
    "\n",
    "TRN_X = TRN_X.set_index('sessionNo')\n",
    "TST_X = TST_X.set_index('sessionNo')"
   ]
  },
  {
   "cell_type": "code",
   "execution_count": null,
   "metadata": {},
   "outputs": [],
   "source": [
    "TST_X['bSumPrice_cSumPrice'] = TST_Original.groupby('sessionNo')['bSumPrice'].mean() / \\\n",
    "                               TST_Original.groupby('sessionNo')['cSumPrice'].mean()\n",
    "TRN_X['bSumPrice_cSumPrice'] = TRN_Original.groupby('sessionNo')['bSumPrice'].mean() / \\\n",
    "                               TRN_Original.groupby('sessionNo')['cSumPrice'].mean()\n"
   ]
  },
  {
   "cell_type": "code",
   "execution_count": null,
   "metadata": {},
   "outputs": [],
   "source": [
    "# --------- Definindo onlineTime ---------\n",
    "def calcOnlineTime(df):\n",
    "    df_grouped_by_sessionno = df.groupby('sessionNo')\n",
    "    rows_it = 0\n",
    "    online_time = []\n",
    "\n",
    "    for index, row in df_grouped_by_sessionno:\n",
    "        rows_len = len(row['duration'])\n",
    "        duration_sum = 0\n",
    "        changed_id = True\n",
    "\n",
    "        for it in range(rows_it, rows_len + rows_it):\n",
    "            if row['onlineStatus'][it] == 'y':\n",
    "                duration_sum += (row['duration'][it] - row['duration'][it - 1]) if not changed_id else row['duration'][\n",
    "                    it]\n",
    "\n",
    "            if changed_id:\n",
    "                changed_id = False\n",
    "\n",
    "            rows_it += 1\n",
    "\n",
    "        online_time.append(duration_sum)\n",
    "\n",
    "    return online_time\n",
    "\n",
    "\n",
    "TST_X['onlineTime'] = calcOnlineTime(TST_Original)\n",
    "TRN_X['onlineTime'] = calcOnlineTime(TRN_Original)"
   ]
  },
  {
   "cell_type": "code",
   "execution_count": null,
   "metadata": {},
   "outputs": [],
   "source": [
    "# --------- Definindo bCount_cCount ---------\n",
    "TST_X['bCount_cCount'] = TST_Original.groupby('sessionNo')['bCount'].sum() / TST_Original.groupby('sessionNo')[\n",
    "    'cCount'].sum()\n",
    "TRN_X['bCount_cCount'] = TRN_Original.groupby('sessionNo')['bCount'].sum() / TRN_Original.groupby('sessionNo')[\n",
    "    'cCount'].sum()"
   ]
  },
  {
   "cell_type": "code",
   "execution_count": null,
   "metadata": {},
   "outputs": [],
   "source": [
    "# --------- Definindo lastOrder_accountLifetime ---------\n",
    "TST_X['lastOrder_accountLifetime'] = TST_Original.groupby('sessionNo')['lastOrder'].max() / \\\n",
    "                                     TST_Original.groupby('sessionNo')['accountLifetime'].max()\n",
    "TRN_X['lastOrder_accountLifetime'] = TRN_Original.groupby('sessionNo')['lastOrder'].max() / \\\n",
    "                                     TRN_Original.groupby('sessionNo')['accountLifetime'].max()\n"
   ]
  },
  {
   "cell_type": "code",
   "execution_count": null,
   "metadata": {},
   "outputs": [],
   "source": [
    "# ---------- Definindo payments_accountLifetime ---------\n",
    "TST_X['payments_accountLifetime'] = TST_Original.groupby('sessionNo')['payments'].sum() / \\\n",
    "  TST_Original.groupby('sessionNo')['accountLifetime'].max()\n",
    "\n",
    "TRN_X['payments_accountLifetime'] = TRN_Original.groupby('sessionNo')['payments'].sum() / \\\n",
    "  TRN_Original.groupby('sessionNo')['accountLifetime'].max()"
   ]
  },
  {
   "cell_type": "code",
   "execution_count": null,
   "metadata": {},
   "outputs": [],
   "source": [
    "TRN_X = TRN_X.drop(['customerNo'], axis = 1)\n",
    "\n",
    "TST_X = TST_X.drop(['customerNo'], axis = 1)"
   ]
  },
  {
   "cell_type": "code",
   "execution_count": null,
   "metadata": {},
   "outputs": [],
   "source": [
    "# Criação das variáveis Dummies\n",
    "\n",
    "TRN_X = pd.get_dummies(TRN_X, prefix_sep='_')\n",
    "\n",
    "TST_X = pd.get_dummies(TST_X, prefix_sep='_')"
   ]
  },
  {
   "cell_type": "code",
   "execution_count": null,
   "metadata": {},
   "outputs": [],
   "source": [
    "\n",
    "# Checando se os dois conjuntos possuem a mesma quantidade de colunas\n",
    "\n",
    "assert (TRN_X.shape[1] == TST_X.shape[1]), \"Número de colunas diferentes !!!\"\n",
    "\n",
    "print(\"Passou no teste: TRN e TST possuem o mesmo número de colunas!\")"
   ]
  },
  {
   "cell_type": "code",
   "execution_count": null,
   "metadata": {},
   "outputs": [],
   "source": [
    "var_TRN = list(TRN_X.columns)\n",
    "var_TST = list(TST_X.columns)\n",
    "\n",
    "In_TRN_Not_TST = np.setdiff1d(var_TRN, var_TST)\n",
    "In_TST_Not_TRN = np.setdiff1d(var_TST, var_TRN)\n",
    "\n",
    "if len(In_TRN_Not_TST)>0:\n",
    "    print('Variáveis que estão apenas no Treinamento:\\n')\n",
    "    print(In_TRN_Not_TST)\n",
    "else:\n",
    "    print('Todas as variáveis do Treinamento estão no Teste!')\n",
    "    \n",
    "if len(In_TST_Not_TRN)>0:\n",
    "    print('\\nVariáveis que estão apenas no Teste:\\n')\n",
    "    print(In_TRN_Not_TST)\n",
    "else:\n",
    "    print('\\nTodas as variáveis do Teste estão no Treinamento!')"
   ]
  },
  {
   "cell_type": "code",
   "execution_count": null,
   "metadata": {},
   "outputs": [],
   "source": [
    "TRN_X['availability_completely not determinable'] = TRN_X['availability_completely not determinable'] + TRN_X['availability_mainly not determinable']\n",
    "\n",
    "TRN_X = TRN_X.drop(['availability_mainly not determinable'], axis = 1)\n"
   ]
  },
  {
   "cell_type": "code",
   "execution_count": null,
   "metadata": {},
   "outputs": [],
   "source": [
    "# Checando novamente se os dois conjuntos possuem a mesma quantidade de colunas\n",
    "\n",
    "assert (TRN_X.shape[1] == TST_X.shape[1]), \"Número de colunas diferentes !!!\"\n",
    "\n",
    "print(\"Passou no teste: TRN e TST possuem o mesmo número de colunas!\")\n"
   ]
  },
  {
   "cell_type": "code",
   "execution_count": null,
   "metadata": {},
   "outputs": [],
   "source": [
    "# Checando se todas as colunas estão como numericas, ou seja, não existem variáveis String (type object)\n",
    "\n",
    "TRN_columns_obj = TRN_X.dtypes[TRN_X.dtypes == np.object] #\n",
    "\n",
    "assert (len(TRN_columns_obj) == 0), \"Ainda existem colunas String no Treinamento !!!\"\n",
    "\n",
    "TST_columns_obj = TST_X.dtypes[TST_X.dtypes == np.object] #\n",
    "\n",
    "assert (len(TST_columns_obj) == 0), \"Ainda existem colunas String no Teste !!!\"\n",
    "\n",
    "\n",
    "print(\"Passou no teste: TRN e TST não possuem variáveis String!\")"
   ]
  },
  {
   "cell_type": "code",
   "execution_count": null,
   "metadata": {},
   "outputs": [],
   "source": [
    "# Normalização das variáveis\n",
    "\n",
    "# São criadas duas funções para auxiliar esse processo\n",
    "\n",
    "#Função que calcula o mínimo e máximo de cada variável\n",
    "def get_Min_Max(X):\n",
    "    '''\n",
    "    Input: \n",
    "        X - Data frame\n",
    "    Output:\n",
    "        result - Um dicionário onde a chave é o nome da coluna de X e o valor é uma tupla (Min, Max)\n",
    "    '''\n",
    "    result = {}\n",
    "    for v in X.columns:\n",
    "        result[v] = (np.min(X[v]), np.max(X[v]))\n",
    "    return result\n",
    "\n",
    "#Função que normaliza os dados entre zero e um usando a fórmula (valor_atual - min) / (max - min)\n",
    "def normalize(X, MinMax):\n",
    "    '''\n",
    "    Input: \n",
    "        X - Data frame\n",
    "        MinMax -  Um dicionário contendo o mínimo e máximo de uma variável. Ele ser um parâmetro permite que seja \n",
    "                   aplicado em conjuntos diferentes\n",
    "    Output:\n",
    "        result - Um Data frame normalizado\n",
    "    '''\n",
    "    result = X.copy()\n",
    "\n",
    "    for v in MinMax:\n",
    "        min_v, max_v = MinMax[v]\n",
    "\n",
    "        div = max_v - min_v\n",
    "\n",
    "        if div == 0:\n",
    "            div = 1\n",
    "\n",
    "        result[v] = (X[v] - min_v) / div\n",
    "\n",
    "        # Correção para aplicação em conjuntos de testes com valores diferentes do conjunto de treinamento\n",
    "\n",
    "        # valores menores que zero são setados para zero\n",
    "        idx_0 = result[v]<0\n",
    "        result.loc[idx_0, v] = 0\n",
    "\n",
    "        # valores maiores que um são setados para um\n",
    "        idx_1 = result[v]>1\n",
    "        result.loc[idx_1, v] = 1\n",
    "\n",
    "    return result"
   ]
  },
  {
   "cell_type": "code",
   "execution_count": null,
   "metadata": {},
   "outputs": [],
   "source": [
    "# Aplicando as funções para normalizar\n",
    "\n",
    "norm_min_max = get_Min_Max(TRN_X)\n",
    "\n",
    "TRN_X = normalize(TRN_X, norm_min_max)\n",
    "\n",
    "TST_X = normalize(TST_X, norm_min_max)"
   ]
  },
  {
   "cell_type": "code",
   "execution_count": null,
   "metadata": {},
   "outputs": [],
   "source": [
    "# É informando o limiar de variância - abaixo ou igual a esse limiar a variável será excluída dos dois conjuntos\n",
    "threshold_var = 0\n",
    "\n",
    "# Criando uma lista com as variáveis do conjunto de treinamento que tem variância inferior ou igual ao threshold_var\n",
    "l_var = [x for x in TRN_X.columns if TRN_X[x].var() <= threshold_var]\n",
    "\n",
    "# Eliminando as variáveis constante dos dois conjuntos\n",
    "for v in l_var:\n",
    "    TRN_X = TRN_X.drop([v], axis = 1)\n",
    "    TST_X = TST_X.drop([v], axis = 1)\n",
    "\n",
    "print(f\"Varáveis excluídas: {l_var}\")"
   ]
  },
  {
   "cell_type": "code",
   "execution_count": null,
   "metadata": {},
   "outputs": [],
   "source": [
    "TRN_X.head()"
   ]
  },
  {
   "cell_type": "code",
   "execution_count": null,
   "metadata": {},
   "outputs": [],
   "source": [
    "# Variáveis de entrada do treinamento\n",
    "TRN_X.to_csv('TRN_X.csv', index=False)\n",
    "\n",
    "# Variável alvo do treinamento\n",
    "TRN_Y.to_csv('TRN_Y.csv', index=False, header=False)\n",
    "\n",
    "# Variáveis de entrada do teste\n",
    "TST_X.to_csv('TST_X.csv', index=False)\n",
    "\n",
    "# Variável alvo do teste\n",
    "TST_Y.to_csv('TST_Y.csv', index=False, header=False)"
   ]
  },
  {
   "cell_type": "code",
   "execution_count": null,
   "metadata": {},
   "outputs": [],
   "source": []
  }
 ],
 "metadata": {
  "interpreter": {
   "hash": "31f2aee4e71d21fbe5cf8b01ff0e069b9275f58929596ceb00d14d90e3e16cd6"
  },
  "kernelspec": {
   "display_name": "Python 3 (ipykernel)",
   "language": "python",
   "name": "python3"
  },
  "language_info": {
   "codemirror_mode": {
    "name": "ipython",
    "version": 3
   },
   "file_extension": ".py",
   "mimetype": "text/x-python",
   "name": "python",
   "nbconvert_exporter": "python",
   "pygments_lexer": "ipython3",
   "version": "3.9.6"
  }
 },
 "nbformat": 4,
 "nbformat_minor": 2
}